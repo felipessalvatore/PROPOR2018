{
 "cells": [
  {
   "cell_type": "markdown",
   "metadata": {},
   "source": [
    "# translation example"
   ]
  },
  {
   "cell_type": "code",
   "execution_count": 1,
   "metadata": {},
   "outputs": [],
   "source": [
    "import numpy as np\n",
    "import torch\n",
    "import torch.nn as nn\n",
    "import torch.nn.functional as F\n",
    "from torchtext import data\n",
    "import pandas as pd\n",
    "import unicodedata\n",
    "import string\n",
    "import re\n",
    "import random\n",
    "import copy\n",
    "from plots.plots import simple_step_plot\n",
    "import  matplotlib.pyplot as plt\n",
    "device = torch.device(\"cuda\" if torch.cuda.is_available() else \"cpu\")\n",
    "from nltk.translate.bleu_score import sentence_bleu\n",
    "\n",
    "% matplotlib inline"
   ]
  },
  {
   "cell_type": "markdown",
   "metadata": {},
   "source": [
    "### Preparing data"
   ]
  },
  {
   "cell_type": "code",
   "execution_count": 2,
   "metadata": {},
   "outputs": [],
   "source": [
    "eng = []\n",
    "pt = []\n",
    "\n",
    "with open(\"data/eng@pt.txt\", \"r\") as f:\n",
    "    for line in f:\n",
    "        break_point = line.find(\"@\")\n",
    "        eng.append(line[:break_point])\n",
    "        pt.append(line[break_point+1:].strip())\n",
    "        \n",
    "eng_pt_pairs = [(e,p) for e,p in zip(eng, pt)]"
   ]
  },
  {
   "cell_type": "code",
   "execution_count": 3,
   "metadata": {},
   "outputs": [],
   "source": [
    "valid_break = int(len(eng_pt_pairs) * 0.8)\n",
    "test_break = valid_break + int((len(eng_pt_pairs) - valid_break) * 0.5)\n",
    "\n",
    "\n",
    "train_pairs = eng_pt_pairs[:valid_break]\n",
    "valid_pairs = eng_pt_pairs[valid_break:test_break]\n",
    "test_pairs = eng_pt_pairs[test_break:]"
   ]
  },
  {
   "cell_type": "code",
   "execution_count": 4,
   "metadata": {},
   "outputs": [
    {
     "name": "stdout",
     "output_type": "stream",
     "text": [
      "training size =  96840\n",
      "valid size =  12105\n",
      "test size =  12106\n"
     ]
    }
   ],
   "source": [
    "print(\"training size = \", len(train_pairs))\n",
    "print(\"valid size = \", len(valid_pairs))\n",
    "print(\"test size = \", len(test_pairs))"
   ]
  },
  {
   "cell_type": "code",
   "execution_count": 5,
   "metadata": {},
   "outputs": [],
   "source": [
    "SOS_token = 0\n",
    "EOS_token = 1\n",
    "\n",
    "class Lang:\n",
    "    def __init__(self, name):\n",
    "        self.name = name\n",
    "        self.word2index = {}\n",
    "        self.word2count = {}\n",
    "        self.index2word = {0: \"SOS\", 1: \"EOS\"}\n",
    "        self.n_words = 2  # Count SOS and EOS\n",
    "\n",
    "    def addSentence(self, sentence):\n",
    "        for word in sentence.split(' '):\n",
    "            self.addWord(word)\n",
    "\n",
    "    def addWord(self, word):\n",
    "        if word not in self.word2index:\n",
    "            self.word2index[word] = self.n_words\n",
    "            self.word2count[word] = 1\n",
    "            self.index2word[self.n_words] = word\n",
    "            self.n_words += 1\n",
    "        else:\n",
    "            self.word2count[word] += 1"
   ]
  },
  {
   "cell_type": "code",
   "execution_count": 6,
   "metadata": {},
   "outputs": [],
   "source": [
    "# Turn a Unicode string to plain ASCII, thanks to\n",
    "# http://stackoverflow.com/a/518232/2809427\n",
    "def unicodeToAscii(s):\n",
    "    return ''.join(\n",
    "        c for c in unicodedata.normalize('NFD', s)\n",
    "        if unicodedata.category(c) != 'Mn')\n",
    "\n",
    "# Lowercase, trim, and remove non-letter characters\n",
    "\n",
    "def normalizeString(s):\n",
    "    s = unicodeToAscii(s.lower().strip())\n",
    "    s = re.sub(r'[+-]?\\d+(?:\\.\\d+)?', \"N\", s)\n",
    "    s = re.sub(r\"([.!?])\", r\" \\1\", s)\n",
    "    s = re.sub(r\"[^a-zA-Z.!?]+\", r\" \", s)\n",
    "    s = re.sub('[^a-zA-z0-9\\s]', '', s)\n",
    "    return s"
   ]
  },
  {
   "cell_type": "code",
   "execution_count": 7,
   "metadata": {},
   "outputs": [
    {
     "name": "stdout",
     "output_type": "stream",
     "text": [
      "===Before===\n",
      "Vai.\n",
      "Vá.\n",
      "Oi.\n",
      "Corre!\n",
      "===After===\n",
      "vai \n",
      "va \n",
      "oi \n",
      "corre \n"
     ]
    }
   ],
   "source": [
    "print(\"===Before===\")\n",
    "\n",
    "for t in train_pairs[0:4]:\n",
    "    p1, p2 = t[0], t[1]\n",
    "    print(p2)\n",
    "    \n",
    "print(\"===After===\")\n",
    "\n",
    "for t in train_pairs[0:4]:\n",
    "    p1, p2 = t[0], t[1]\n",
    "    p1 = normalizeString(p1)\n",
    "    p2 = normalizeString(p2)\n",
    "    print(p2)\n",
    "\n"
   ]
  },
  {
   "cell_type": "code",
   "execution_count": 8,
   "metadata": {},
   "outputs": [],
   "source": [
    "train_pairs_nor = [(normalizeString(s1), normalizeString(s2)) for s1, s2 in train_pairs]\n",
    "valid_pairs_nor = [(normalizeString(s1), normalizeString(s2)) for s1, s2 in valid_pairs]\n",
    "test_pairs_nor = [(normalizeString(s1), normalizeString(s2)) for s1, s2 in test_pairs]"
   ]
  },
  {
   "cell_type": "code",
   "execution_count": 9,
   "metadata": {},
   "outputs": [],
   "source": [
    "all_text_pairs_en = [s1 for s1,_ in train_pairs_nor] + [s1 for s1,_ in valid_pairs_nor] + [s1 for s1,_ in valid_pairs_nor]\n",
    "all_text_pairs_pt = [s1 for _,s1 in train_pairs_nor] + [s1 for _,s1 in valid_pairs_nor] + [s1 for _,s1 in valid_pairs_nor]\n",
    "all_text_pairs = list(zip(all_text_pairs_en, all_text_pairs_pt))"
   ]
  },
  {
   "cell_type": "code",
   "execution_count": 10,
   "metadata": {},
   "outputs": [],
   "source": [
    "en_sizes  = [len(s.split(\" \")) for s in all_text_pairs_en]\n",
    "pt_sizes  = [len(s.split(\" \")) for s in all_text_pairs_pt]"
   ]
  },
  {
   "cell_type": "code",
   "execution_count": 11,
   "metadata": {},
   "outputs": [
    {
     "data": {
      "image/png": "[encoded data removed]",
      "text/plain": [
       "<Figure size 432x288 with 1 Axes>"
      ]
     },
     "metadata": {},
     "output_type": "display_data"
    }
   ],
   "source": [
    "plt.hist(en_sizes)\n",
    "plt.show()"
   ]
  },
  {
   "cell_type": "code",
   "execution_count": 12,
   "metadata": {},
   "outputs": [
    {
     "data": {
      "image/png": "[encoded data removed]",
      "text/plain": [
       "<Figure size 432x288 with 1 Axes>"
      ]
     },
     "metadata": {},
     "output_type": "display_data"
    }
   ],
   "source": [
    "plt.hist(pt_sizes)\n",
    "plt.show()"
   ]
  },
  {
   "cell_type": "code",
   "execution_count": 13,
   "metadata": {},
   "outputs": [],
   "source": [
    "MAX_LENGTH = 8"
   ]
  },
  {
   "cell_type": "code",
   "execution_count": 14,
   "metadata": {},
   "outputs": [],
   "source": [
    "def readLangs(lang1, lang2, pairs, reverse=False):\n",
    "    # Reverse pairs, make Lang instances\n",
    "    if reverse:\n",
    "        pairs = [tuple(reversed(p)) for p in pairs]\n",
    "        input_lang = Lang(lang2)\n",
    "        output_lang = Lang(lang1)\n",
    "    else:\n",
    "        input_lang = Lang(lang1)\n",
    "        output_lang = Lang(lang2)\n",
    "\n",
    "    return input_lang, output_lang, pairs"
   ]
  },
  {
   "cell_type": "code",
   "execution_count": 15,
   "metadata": {},
   "outputs": [],
   "source": [
    "def filterPair(p):\n",
    "    cond1 = len(p[0].split(' ')) < MAX_LENGTH\n",
    "    cond2 = len(p[1].split(' ')) < MAX_LENGTH \n",
    "    return cond1 and cond2\n",
    "\n",
    "\n",
    "def filterPairs(pairs):\n",
    "    return [pair for pair in pairs if filterPair(pair)]\n"
   ]
  },
  {
   "cell_type": "code",
   "execution_count": 16,
   "metadata": {},
   "outputs": [],
   "source": [
    "def prepareData(lang1, lang2, pairs, reverse=False):\n",
    "    input_lang, output_lang, pairs = readLangs(lang1, lang2, pairs, reverse)\n",
    "    print(\"Read %s sentence pairs\" % len(pairs))\n",
    "    pairs = filterPairs(pairs)\n",
    "    print(\"Trimmed to %s sentence pairs\" % len(pairs))\n",
    "    print(\"Counting words...\")\n",
    "    for pair in pairs:\n",
    "        input_lang.addSentence(pair[0])\n",
    "        output_lang.addSentence(pair[1])\n",
    "    print(\"Counted words:\")\n",
    "    print(input_lang.name, input_lang.n_words)\n",
    "    print(output_lang.name, output_lang.n_words)\n",
    "    return input_lang, output_lang, pairs"
   ]
  },
  {
   "cell_type": "code",
   "execution_count": 17,
   "metadata": {},
   "outputs": [
    {
     "name": "stdout",
     "output_type": "stream",
     "text": [
      "Read 96840 sentence pairs\n",
      "Trimmed to 70333 sentence pairs\n",
      "Counting words...\n",
      "Counted words:\n",
      "eng 7819\n",
      "pt 12612\n",
      "\n",
      "Read 121050 sentence pairs\n",
      "Trimmed to 71287 sentence pairs\n",
      "Counting words...\n",
      "Counted words:\n",
      "eng 7972\n",
      "pt 12812\n",
      "\n",
      "Read 12105 sentence pairs\n",
      "Trimmed to 477 sentence pairs\n",
      "Counting words...\n",
      "Counted words:\n",
      "eng 1008\n",
      "pt 1146\n",
      "\n",
      "Read 12106 sentence pairs\n",
      "Trimmed to 22 sentence pairs\n",
      "Counting words...\n",
      "Counted words:\n",
      "eng 108\n",
      "pt 107\n"
     ]
    }
   ],
   "source": [
    "_, _, train_pairs_nor_f = prepareData(\"eng\",\n",
    "                                     \"pt\",\n",
    "                                     train_pairs_nor)\n",
    "print()\n",
    "\n",
    "\n",
    "input_lang, output_lang, _ = prepareData(\"eng\",\n",
    "                               \"pt\",\n",
    "                               all_text_pairs)\n",
    "\n",
    "print()\n",
    "\n",
    "_, _, valid_pairs_nor_f = prepareData(\"eng\",\n",
    "                                  \"pt\",\n",
    "                                  valid_pairs_nor)\n",
    "\n",
    "\n",
    "\n",
    "print()\n",
    "\n",
    "_, _, test_pairs_nor_f = prepareData(\"eng\",\n",
    "                                  \"pt\",\n",
    "                                  test_pairs_nor)"
   ]
  },
  {
   "cell_type": "markdown",
   "metadata": {},
   "source": [
    "### sentences 2 tensors"
   ]
  },
  {
   "cell_type": "code",
   "execution_count": 18,
   "metadata": {},
   "outputs": [
    {
     "name": "stdout",
     "output_type": "stream",
     "text": [
      "('this book costs N N yen ', 'este livro custa N ienes ')\n"
     ]
    }
   ],
   "source": [
    "example = random.choice(train_pairs_nor_f)\n",
    "print(example)"
   ]
  },
  {
   "cell_type": "code",
   "execution_count": 19,
   "metadata": {},
   "outputs": [],
   "source": [
    "def indexesFromSentence(lang, sentence):\n",
    "    return [lang.word2index[word] for word in sentence.split(' ')]"
   ]
  },
  {
   "cell_type": "code",
   "execution_count": 20,
   "metadata": {},
   "outputs": [
    {
     "data": {
      "text/plain": [
       "[118, 933, 3166, 242, 242, 713, 3]"
      ]
     },
     "execution_count": 20,
     "metadata": {},
     "output_type": "execute_result"
    }
   ],
   "source": [
    "indexesFromSentence(input_lang,example[0])"
   ]
  },
  {
   "cell_type": "code",
   "execution_count": 21,
   "metadata": {},
   "outputs": [
    {
     "data": {
      "text/plain": [
       "[894, 1628, 1228, 436, 1229, 3]"
      ]
     },
     "execution_count": 21,
     "metadata": {},
     "output_type": "execute_result"
    }
   ],
   "source": [
    "indexesFromSentence(output_lang, example[1])"
   ]
  },
  {
   "cell_type": "code",
   "execution_count": 22,
   "metadata": {},
   "outputs": [],
   "source": [
    "def tensorFromSentence(lang, sentence):\n",
    "    indexes = indexesFromSentence(lang, sentence)\n",
    "    indexes.append(EOS_token)\n",
    "    return torch.tensor(indexes, dtype=torch.long, device=device).view(-1, 1)"
   ]
  },
  {
   "cell_type": "code",
   "execution_count": 23,
   "metadata": {},
   "outputs": [
    {
     "name": "stdout",
     "output_type": "stream",
     "text": [
      "tensor([[ 118],\n",
      "        [ 933],\n",
      "        [3166],\n",
      "        [ 242],\n",
      "        [ 242],\n",
      "        [ 713],\n",
      "        [   3],\n",
      "        [   1]])\n",
      "\n",
      "torch.Size([8, 1])\n",
      "torch.int64\n",
      "tensor([[ 894],\n",
      "        [1628],\n",
      "        [1228],\n",
      "        [ 436],\n",
      "        [1229],\n",
      "        [   3],\n",
      "        [   1]])\n",
      "\n",
      "torch.Size([7, 1])\n",
      "torch.int64\n"
     ]
    }
   ],
   "source": [
    "input_sen = tensorFromSentence(input_lang,example[0])\n",
    "output_sen = tensorFromSentence(output_lang, example[1])\n",
    "\n",
    "print(input_sen)\n",
    "print()\n",
    "print(input_sen.shape)\n",
    "print(input_sen.dtype)\n",
    "print(output_sen)\n",
    "print()\n",
    "print(output_sen.shape)\n",
    "print(output_sen.dtype)"
   ]
  },
  {
   "cell_type": "code",
   "execution_count": 24,
   "metadata": {},
   "outputs": [],
   "source": [
    "def tensorsFromPair(pair):\n",
    "    input_tensor = tensorFromSentence(input_lang, pair[0])\n",
    "    target_tensor = tensorFromSentence(output_lang, pair[1])\n",
    "    return (input_tensor, target_tensor)"
   ]
  },
  {
   "cell_type": "code",
   "execution_count": 25,
   "metadata": {},
   "outputs": [
    {
     "name": "stdout",
     "output_type": "stream",
     "text": [
      "input\n",
      "\n",
      "tensor([[ 118],\n",
      "        [ 933],\n",
      "        [3166],\n",
      "        [ 242],\n",
      "        [ 242],\n",
      "        [ 713],\n",
      "        [   3],\n",
      "        [   1]])\n",
      "\n",
      "torch.Size([8, 1])\n",
      "torch.int64\n",
      "\n",
      "output\n",
      "\n",
      "tensor([[ 894],\n",
      "        [1628],\n",
      "        [1228],\n",
      "        [ 436],\n",
      "        [1229],\n",
      "        [   3],\n",
      "        [   1]])\n",
      "\n",
      "torch.Size([7, 1])\n",
      "torch.int64\n"
     ]
    }
   ],
   "source": [
    "input_sen, output_sen = tensorsFromPair(example)\n",
    "\n",
    "\n",
    "print(\"input\\n\")\n",
    "print(input_sen)\n",
    "print()\n",
    "print(input_sen.shape)\n",
    "print(input_sen.dtype)\n",
    "\n",
    "print(\"\\noutput\\n\")\n",
    "print(output_sen)\n",
    "print()\n",
    "print(output_sen.shape)\n",
    "print(output_sen.dtype)"
   ]
  },
  {
   "cell_type": "code",
   "execution_count": 60,
   "metadata": {},
   "outputs": [],
   "source": [
    "class EncoderRNN(nn.Module):\n",
    "    def __init__(self,\n",
    "                 input_size,\n",
    "                 hidden_size,\n",
    "                 num_layers=1):\n",
    "        super(EncoderRNN, self).__init__()\n",
    "        self.hidden_size = hidden_size\n",
    "        self.num_layers = num_layers\n",
    "        self.embedding = nn.Embedding(input_size,\n",
    "                                      hidden_size)\n",
    "        self.gru = nn.GRU(hidden_size, hidden_size, self.num_layers)\n",
    "\n",
    "    def forward(self, input, hidden):\n",
    "        embedded = self.embedding(input).view(1, 1, -1)\n",
    "        output = embedded\n",
    "        output, hidden = self.gru(output, hidden)\n",
    "        return output, hidden\n",
    "\n",
    "    def initHidden(self):\n",
    "        return torch.zeros(self.num_layers, 1, self.hidden_size, device=device)"
   ]
  },
  {
   "cell_type": "code",
   "execution_count": 61,
   "metadata": {},
   "outputs": [],
   "source": [
    "hidden_size = 10\n",
    "eng_enc_v_size = input_lang.n_words\n",
    "eng_dec_v_size = output_lang.n_words"
   ]
  },
  {
   "cell_type": "code",
   "execution_count": 65,
   "metadata": {},
   "outputs": [
    {
     "name": "stdout",
     "output_type": "stream",
     "text": [
      "input_sen: torch.Size([8, 1]) torch.int64\n",
      "h0: torch.Size([1, 1, 10]) torch.float32\n"
     ]
    }
   ],
   "source": [
    "encoder = EncoderRNN(eng_enc_v_size, hidden_size)\n",
    "h0 = encoder.initHidden()\n",
    "print(\"input_sen:\", input_sen.shape, input_sen.dtype)\n",
    "print(\"h0:\", h0.shape, h0.dtype)"
   ]
  },
  {
   "cell_type": "code",
   "execution_count": 66,
   "metadata": {},
   "outputs": [
    {
     "name": "stdout",
     "output_type": "stream",
     "text": [
      "output: torch.Size([1, 1, 10]) torch.float32\n",
      "hidden_enc: torch.Size([1, 1, 10]) torch.float32\n"
     ]
    }
   ],
   "source": [
    "max_length = MAX_LENGTH\n",
    "encoder_outputs = torch.zeros(max_length,\n",
    "                              encoder.hidden_size,\n",
    "                              device=device)\n",
    "\n",
    "input_length = input_sen.size(0)\n",
    "\n",
    "for ei in range(input_length):\n",
    "    output, hidden_enc = encoder(input_sen[ei], h0)\n",
    "    h0 = hidden_enc\n",
    "    encoder_outputs[ei] = output[0, 0]\n",
    "\n",
    "print(\"output:\", output.shape, output.dtype)\n",
    "print(\"hidden_enc:\", hidden_enc.shape, hidden_enc.dtype)"
   ]
  },
  {
   "cell_type": "code",
   "execution_count": 67,
   "metadata": {},
   "outputs": [],
   "source": [
    "class DecoderRNN(nn.Module):\n",
    "    def __init__(self,\n",
    "                 hidden_size,\n",
    "                 output_size,\n",
    "                 num_layers=1):\n",
    "        super(DecoderRNN, self).__init__()\n",
    "        self.hidden_size = hidden_size\n",
    "        self.num_layers = num_layers\n",
    "\n",
    "        self.embedding = nn.Embedding(output_size, hidden_size)\n",
    "        self.gru = nn.GRU(hidden_size, hidden_size, self.num_layers)\n",
    "        self.out = nn.Linear(hidden_size, output_size)\n",
    "        self.softmax = nn.LogSoftmax(dim=1)\n",
    "\n",
    "    def forward(self, input, hidden):\n",
    "        output = self.embedding(input).view(1, 1, -1)\n",
    "        output = F.relu(output)\n",
    "        output, hidden = self.gru(output, hidden)\n",
    "        output = self.softmax(self.out(output[0]))\n",
    "        return output, hidden\n",
    "\n",
    "    def initHidden(self):\n",
    "        return torch.zeros(self.num_layers, 1, self.hidden_size, device=device)"
   ]
  },
  {
   "cell_type": "code",
   "execution_count": 68,
   "metadata": {},
   "outputs": [
    {
     "name": "stdout",
     "output_type": "stream",
     "text": [
      "decoder_output: torch.Size([1, 12812]) torch.float32\n",
      "\n",
      "decoder_hidden: torch.Size([1, 1, 10]) torch.float32\n",
      "decoder_output: torch.Size([1, 12812]) torch.float32\n",
      "\n",
      "decoder_hidden: torch.Size([1, 1, 10]) torch.float32\n",
      "decoder_output: torch.Size([1, 12812]) torch.float32\n",
      "\n",
      "decoder_hidden: torch.Size([1, 1, 10]) torch.float32\n",
      "decoder_output: torch.Size([1, 12812]) torch.float32\n",
      "\n",
      "decoder_hidden: torch.Size([1, 1, 10]) torch.float32\n",
      "decoder_output: torch.Size([1, 12812]) torch.float32\n",
      "\n",
      "decoder_hidden: torch.Size([1, 1, 10]) torch.float32\n",
      "decoder_output: torch.Size([1, 12812]) torch.float32\n",
      "\n",
      "decoder_hidden: torch.Size([1, 1, 10]) torch.float32\n",
      "decoder_output: torch.Size([1, 12812]) torch.float32\n",
      "\n",
      "decoder_hidden: torch.Size([1, 1, 10]) torch.float32\n"
     ]
    }
   ],
   "source": [
    "decoder = DecoderRNN(hidden_size, eng_dec_v_size)\n",
    "\n",
    "decoder_input = torch.tensor([[SOS_token]], device=device)\n",
    "\n",
    "decoder_hidden = hidden_enc\n",
    "\n",
    "target_length = output_sen.size(0)\n",
    "\n",
    "for di in range(target_length):\n",
    "    decoder_output, decoder_hidden = decoder(decoder_input, decoder_hidden)\n",
    "    decoder_input = output_sen[di]  # Teacher forcing\n",
    "    print(\"decoder_output:\", decoder_output.shape, decoder_output.dtype)\n",
    "    print()\n",
    "    print(\"decoder_hidden:\", decoder_hidden.shape, decoder_hidden.dtype)    \n"
   ]
  },
  {
   "cell_type": "markdown",
   "metadata": {},
   "source": [
    "## Calculate loss over each token of the target language"
   ]
  },
  {
   "cell_type": "code",
   "execution_count": 69,
   "metadata": {},
   "outputs": [],
   "source": [
    "learning_rate = 0.2\n",
    "encoder_optimizer = torch.optim.SGD(encoder.parameters(), lr=learning_rate)\n",
    "decoder_optimizer = torch.optim.SGD(decoder.parameters(), lr=learning_rate)\n",
    "criterion = nn.NLLLoss()"
   ]
  },
  {
   "cell_type": "code",
   "execution_count": 70,
   "metadata": {},
   "outputs": [],
   "source": [
    "def train(input_tensor,\n",
    "          target_tensor,\n",
    "          encoder,\n",
    "          decoder,\n",
    "          encoder_optimizer,\n",
    "          decoder_optimizer,\n",
    "          criterion,\n",
    "          max_length,\n",
    "          teacher_forcing_ratio=0.5):\n",
    "\n",
    "    encoder_hidden = encoder.initHidden()\n",
    "\n",
    "    encoder_optimizer.zero_grad()\n",
    "    decoder_optimizer.zero_grad()\n",
    "\n",
    "    input_length = input_tensor.size(0)\n",
    "    target_length = target_tensor.size(0)\n",
    "\n",
    "    encoder_outputs = torch.zeros(max_length,\n",
    "                                  encoder.hidden_size,\n",
    "                                  device=device)\n",
    "    loss = 0\n",
    "\n",
    "    for ei in range(input_length):\n",
    "        encoder_output, encoder_hidden = encoder(\n",
    "            input_tensor[ei], encoder_hidden)\n",
    "        encoder_outputs[ei] = encoder_output[0, 0]\n",
    "\n",
    "    decoder_input = torch.tensor([[SOS_token]], device=device)\n",
    "\n",
    "    decoder_hidden = encoder_hidden\n",
    "    use_teacher_forcing = True\n",
    "\n",
    "    if not random.random() < teacher_forcing_ratio:\n",
    "        use_teacher_forcing = False\n",
    "\n",
    "    if use_teacher_forcing:\n",
    "        # Teacher forcing: Feed the target as the next input\n",
    "        for di in range(target_length):\n",
    "            decoder_output, decoder_hidden = decoder(\n",
    "                decoder_input, decoder_hidden)\n",
    "            loss += criterion(decoder_output, target_tensor[di])\n",
    "            decoder_input = target_tensor[di]  # Teacher forcing\n",
    "\n",
    "    else:\n",
    "        # Without teacher forcing: use its own predictions as the next input\n",
    "        for di in range(target_length):\n",
    "            decoder_output, decoder_hidden = decoder(\n",
    "                decoder_input, decoder_hidden)\n",
    "            _, topone = decoder_output.topk(1)\n",
    "            decoder_input = topone.squeeze().detach()  # detach from history as input\n",
    "\n",
    "            loss += criterion(decoder_output, target_tensor[di])\n",
    "            if decoder_input.item() == EOS_token:\n",
    "                break\n",
    "\n",
    "    loss.backward()\n",
    "\n",
    "    encoder_optimizer.step()\n",
    "    decoder_optimizer.step()\n",
    "\n",
    "    return loss.item() / target_length"
   ]
  },
  {
   "cell_type": "code",
   "execution_count": 71,
   "metadata": {},
   "outputs": [],
   "source": [
    "def get_loss(input_tensor,\n",
    "             target_tensor,\n",
    "             encoder,\n",
    "             decoder,\n",
    "             criterion,\n",
    "             max_length):\n",
    "\n",
    "    encoder_hidden = encoder.initHidden()\n",
    "    input_length = input_tensor.size(0)\n",
    "    target_length = target_tensor.size(0)\n",
    "    encoder_outputs = torch.zeros(max_length,\n",
    "                                  encoder.hidden_size,\n",
    "                                  device=device)\n",
    "    loss = 0\n",
    "\n",
    "    for ei in range(input_length):\n",
    "        encoder_output, encoder_hidden = encoder(\n",
    "            input_tensor[ei], encoder_hidden)\n",
    "        encoder_outputs[ei] = encoder_output[0, 0]\n",
    "\n",
    "    decoder_input = torch.tensor([[SOS_token]], device=device)\n",
    "\n",
    "    decoder_hidden = encoder_hidden\n",
    "    \n",
    "    for di in range(target_length):\n",
    "        decoder_output, decoder_hidden = decoder(\n",
    "            decoder_input, decoder_hidden)\n",
    "        _, topone = decoder_output.topk(1)\n",
    "        decoder_input = topone.squeeze().detach()  # detach from history as input\n",
    "\n",
    "        loss += criterion(decoder_output, target_tensor[di])\n",
    "        if decoder_input.item() == EOS_token:\n",
    "            break\n",
    "    return loss.item() / target_length"
   ]
  },
  {
   "cell_type": "markdown",
   "metadata": {},
   "source": [
    "Test get loss"
   ]
  },
  {
   "cell_type": "code",
   "execution_count": 73,
   "metadata": {},
   "outputs": [
    {
     "name": "stdout",
     "output_type": "stream",
     "text": [
      "mean loss 9.420888965879168\n"
     ]
    }
   ],
   "source": [
    "valid_pairs = [tensorsFromPair(pair) for pair in valid_pairs_nor_f[0:100]]\n",
    "valid_loss = []\n",
    "for t in valid_pairs:\n",
    "    input_sen, output_sen = t\n",
    "    loss = get_loss(input_sen,\n",
    "                    output_sen,\n",
    "                    encoder,\n",
    "                    decoder,\n",
    "                    criterion,\n",
    "                    MAX_LENGTH)\n",
    "    valid_loss.append(loss)\n",
    "print(\"mean loss\", np.mean(valid_loss))"
   ]
  },
  {
   "cell_type": "code",
   "execution_count": 74,
   "metadata": {},
   "outputs": [],
   "source": [
    "import time\n",
    "import math\n",
    "\n",
    "\n",
    "def asMinutes(s):\n",
    "    m = math.floor(s / 60)\n",
    "    s -= m * 60\n",
    "    return '%dm %ds' % (m, s)\n",
    "\n",
    "\n",
    "def timeSince(since):\n",
    "    now = time.time()\n",
    "    s = now - since\n",
    "    return '%s' % asMinutes(s)"
   ]
  },
  {
   "cell_type": "markdown",
   "metadata": {},
   "source": [
    "Test train"
   ]
  },
  {
   "cell_type": "code",
   "execution_count": 75,
   "metadata": {},
   "outputs": [
    {
     "name": "stdout",
     "output_type": "stream",
     "text": [
      "0m 9s\n"
     ]
    },
    {
     "data": {
      "image/png": "[encoded data removed]",
      "text/plain": [
       "<Figure size 720x216 with 1 Axes>"
      ]
     },
     "metadata": {},
     "output_type": "display_data"
    }
   ],
   "source": [
    "n_iters = 1000\n",
    "training_pairs_little = [tensorsFromPair(random.choice(train_pairs_nor_f)) for i in range(n_iters)]\n",
    "\n",
    "losses = []\n",
    "start = time.time()\n",
    "\n",
    "for t in training_pairs_little:\n",
    "    input_sen, output_sen = t    \n",
    "    loss = train(input_sen,\n",
    "                 output_sen,\n",
    "                 encoder,\n",
    "                 decoder,\n",
    "                 encoder_optimizer,\n",
    "                 decoder_optimizer,\n",
    "                 criterion,\n",
    "                 max_length=MAX_LENGTH)\n",
    "    losses.append(loss)\n",
    "\n",
    "print(timeSince(start))\n",
    "\n",
    "simple_step_plot([losses],\n",
    "                 \"loss\",\n",
    "                 \"loss example ({} pair of sentences only)\".format(n_iters),\n",
    "                 \"loss_example.png\",\n",
    "                  figsize=(10,3))"
   ]
  },
  {
   "cell_type": "code",
   "execution_count": 76,
   "metadata": {},
   "outputs": [],
   "source": [
    "def trainIters(encoder,\n",
    "               decoder,\n",
    "               n_iters,\n",
    "               pairs,\n",
    "               valid_pairs,\n",
    "               encoder_path,\n",
    "               decoder_path,\n",
    "               batch_size=32,\n",
    "               status_every=100,\n",
    "               learning_rate=0.01,\n",
    "               teacher_forcing_ratio=0.5):\n",
    "\n",
    "    plot_losses = []\n",
    "    old = 0\n",
    "    start = time.time()\n",
    "    all_loss = []\n",
    "    valid_loss = float(\"inf\")\n",
    "    \n",
    "    \n",
    "\n",
    "    encoder_optimizer = torch.optim.SGD(encoder.parameters(), lr=learning_rate)\n",
    "    decoder_optimizer = torch.optim.SGD(decoder.parameters(), lr=learning_rate)\n",
    "    criterion = nn.NLLLoss()\n",
    "    training_pairs = [tensorsFromPair(random.choice(pairs))\n",
    "                      for i in range(n_iters)]\n",
    "\n",
    "    for i, t in enumerate(training_pairs):\n",
    "        input_sen, output_sen = t\n",
    "        loss = train(input_sen,\n",
    "                     output_sen,\n",
    "                     encoder,\n",
    "                     decoder,\n",
    "                     encoder_optimizer,\n",
    "                     decoder_optimizer,\n",
    "                     criterion,\n",
    "                     max_length=MAX_LENGTH,\n",
    "                     teacher_forcing_ratio=teacher_forcing_ratio)\n",
    "        plot_losses.append(loss)\n",
    "\n",
    "        if i % status_every == 0 and i != 0:\n",
    "            valid_batch = [tensorsFromPair(random.choice(valid_pairs))\n",
    "                           for i in range(batch_size)]\n",
    "            batch_loss = 0\n",
    "            for t in valid_batch:\n",
    "                input_sen, output_sen = t\n",
    "                batch_loss += get_loss(input_sen,\n",
    "                                       output_sen,\n",
    "                                       encoder,\n",
    "                                       decoder,\n",
    "                                       criterion,\n",
    "                                       MAX_LENGTH)\n",
    "            current_valid_loss = batch_loss / batch_size\n",
    "            \n",
    "            if current_valid_loss < valid_loss:\n",
    "                valid_loss = current_valid_loss\n",
    "                torch.save(encoder.state_dict(), encoder_path)\n",
    "                torch.save(decoder.state_dict(), decoder_path)\n",
    "            print(\"mean training loss = {:.2f}\".format(np.mean(plot_losses)))\n",
    "            print(\"mean valid loss = {:.2f}\".format(current_valid_loss))\n",
    "            print(\"time in {} steps:\".format(status_every), timeSince(start))\n",
    "            print()\n",
    "            all_loss += plot_losses\n",
    "            plot_losses = []\n",
    "            old = i\n",
    "            start = time.time()\n",
    "    \n",
    "    simple_step_plot([all_loss],\n",
    "                     \"loss\",\n",
    "                     \"loss over training\" ,\n",
    "                     \"loss_example.png\",\n",
    "                     figsize=(15, 3))\n"
   ]
  },
  {
   "cell_type": "code",
   "execution_count": 77,
   "metadata": {},
   "outputs": [
    {
     "name": "stdout",
     "output_type": "stream",
     "text": [
      "mean training loss = 4.73\n",
      "mean valid loss = 5.70\n",
      "time in 100 steps: 0m 1s\n",
      "\n",
      "mean training loss = 4.87\n",
      "mean valid loss = 5.05\n",
      "time in 100 steps: 0m 1s\n",
      "\n",
      "mean training loss = 4.57\n",
      "mean valid loss = 4.81\n",
      "time in 100 steps: 0m 1s\n",
      "\n",
      "mean training loss = 4.49\n",
      "mean valid loss = 4.76\n",
      "time in 100 steps: 0m 1s\n",
      "\n",
      "mean training loss = 4.61\n",
      "mean valid loss = 5.38\n",
      "time in 100 steps: 0m 1s\n",
      "\n",
      "mean training loss = 4.69\n",
      "mean valid loss = 4.60\n",
      "time in 100 steps: 0m 1s\n",
      "\n",
      "mean training loss = 4.44\n",
      "mean valid loss = 5.16\n",
      "time in 100 steps: 0m 1s\n",
      "\n",
      "mean training loss = 4.72\n",
      "mean valid loss = 4.94\n",
      "time in 100 steps: 0m 1s\n",
      "\n",
      "mean training loss = 4.57\n",
      "mean valid loss = 5.09\n",
      "time in 100 steps: 0m 1s\n",
      "\n"
     ]
    },
    {
     "data": {
      "image/png": "[encoded data removed]",
      "text/plain": [
       "<Figure size 1080x216 with 1 Axes>"
      ]
     },
     "metadata": {},
     "output_type": "display_data"
    }
   ],
   "source": [
    "trainIters(encoder=encoder,\n",
    "           decoder=decoder,\n",
    "           n_iters=1000,\n",
    "           pairs=train_pairs_nor_f,\n",
    "           valid_pairs=valid_pairs_nor_f,\n",
    "           encoder_path=\"encoder.pkl\",\n",
    "           decoder_path=\"decoder.pkl\",\n",
    "           batch_size=32,\n",
    "           status_every=100,\n",
    "           learning_rate=0.01,\n",
    "           teacher_forcing_ratio=0.5)"
   ]
  },
  {
   "cell_type": "markdown",
   "metadata": {},
   "source": [
    "## translating"
   ]
  },
  {
   "cell_type": "code",
   "execution_count": 78,
   "metadata": {},
   "outputs": [],
   "source": [
    "def translate(encoder,\n",
    "              decoder,\n",
    "              sentence,\n",
    "              max_length=MAX_LENGTH):\n",
    "    with torch.no_grad():\n",
    "        input_tensor = tensorFromSentence(input_lang, sentence)\n",
    "        input_length = input_tensor.size()[0]\n",
    "        encoder_hidden = encoder.initHidden()\n",
    "\n",
    "        encoder_outputs = torch.zeros(\n",
    "            max_length, encoder.hidden_size, device=device)\n",
    "\n",
    "        for ei in range(input_length):\n",
    "            encoder_output, encoder_hidden = encoder(input_tensor[ei],\n",
    "                                                     encoder_hidden)\n",
    "            encoder_outputs[ei] += encoder_output[0, 0]\n",
    "\n",
    "        decoder_input = torch.tensor([[SOS_token]], device=device)  # SOS\n",
    "\n",
    "        decoder_hidden = encoder_hidden\n",
    "\n",
    "        decoded_words = []\n",
    "\n",
    "        for di in range(max_length):\n",
    "            decoder_output, decoder_hidden = decoder(decoder_input, decoder_hidden)\n",
    "            _, topone = decoder_output.data.topk(1)\n",
    "            if topone.item() == EOS_token:\n",
    "                decoded_words.append('<EOS>')\n",
    "                break\n",
    "            else:\n",
    "                decoded_words.append(output_lang.index2word[topone.item()])\n",
    "\n",
    "            decoder_input = topone.squeeze().detach()\n",
    "\n",
    "        return \" \".join(decoded_words)"
   ]
  },
  {
   "cell_type": "markdown",
   "metadata": {},
   "source": [
    "## translation of a non trained model"
   ]
  },
  {
   "cell_type": "code",
   "execution_count": 79,
   "metadata": {},
   "outputs": [],
   "source": [
    "encoder = EncoderRNN(eng_enc_v_size, hidden_size)\n",
    "decoder = DecoderRNN(hidden_size, eng_dec_v_size)\n",
    "\n",
    "np.random.shuffle(train_pairs_nor_f)"
   ]
  },
  {
   "cell_type": "code",
   "execution_count": 80,
   "metadata": {},
   "outputs": [
    {
     "name": "stdout",
     "output_type": "stream",
     "text": [
      "input_sentence : everybody has weaknesses \n",
      "neural translation : microprocessador chacoalhou microprocessador chacoalhou milionario esquecamo mosca esquecamo\n",
      "reference translation : todo mundo tem fraquezas  <EOS>\n",
      "blue score = 0.00\n",
      "\n",
      "input_sentence : you ve done more than enough \n",
      "neural translation : microprocessador microprocessador chacoalhou desmaiei mosca nadador compensado compensado\n",
      "reference translation : fizeste mais que o bastante  <EOS>\n",
      "blue score = 0.00\n",
      "\n",
      "input_sentence : did you understand everything \n",
      "neural translation : microprocessador cantora acenei nadador plastico reencheu acenei nadador\n",
      "reference translation : voce entendeu tudo  <EOS>\n",
      "blue score = 0.00\n",
      "\n"
     ]
    }
   ],
   "source": [
    "for t in train_pairs_nor_f[0:3]:\n",
    "    print(\"input_sentence : \" + t[0])\n",
    "    neural_translation = translate(encoder,\n",
    "                                   decoder,\n",
    "                                   t[0],\n",
    "                                   max_length=MAX_LENGTH)\n",
    "    print(\"neural translation : \" + neural_translation)\n",
    "    reference = t[1] + ' <EOS>'\n",
    "    print(\"reference translation : \" + reference)\n",
    "    reference = reference.split(\" \")\n",
    "    candidate = neural_translation.split(\" \")\n",
    "    score = sentence_bleu([reference], candidate)\n",
    "    print(\"blue score = {:.2f}\".format(score))\n",
    "    print()\n"
   ]
  },
  {
   "cell_type": "markdown",
   "metadata": {},
   "source": [
    "## Training some models and observing its translation"
   ]
  },
  {
   "cell_type": "code",
   "execution_count": 81,
   "metadata": {},
   "outputs": [],
   "source": [
    "def save_translation(pairs, encoder, decoder, max_length, out_path):\n",
    "    with open(out_path, \"w\") as file:\n",
    "        file.write(\"source,candidate,reference,blue,accuracy\\n\")        \n",
    "        for tuple_ in pairs:\n",
    "            source, reference = tuple_\n",
    "            candidate = translate(encoder,\n",
    "                                  decoder,\n",
    "                                  source,\n",
    "                                  max_length=max_length)\n",
    "            reference =  reference + ' <EOS>'\n",
    "            blue = sentence_bleu([reference.split(\" \")], candidate.split(\" \"))\n",
    "            if blue >= 0.95:\n",
    "                acc = 1\n",
    "            else:\n",
    "                acc = 0\n",
    "            line = source + \",\"\n",
    "            line += candidate + \",\"\n",
    "            line += reference + \",\"\n",
    "            line += \"{:.3f},\".format(blue)\n",
    "            line += \"{}\\n\".format(acc)\n",
    "            file.write(line)"
   ]
  },
  {
   "cell_type": "markdown",
   "metadata": {},
   "source": [
    "Test save_translation"
   ]
  },
  {
   "cell_type": "code",
   "execution_count": 82,
   "metadata": {},
   "outputs": [],
   "source": [
    "save_translation(train_pairs_nor_f[0:3],\n",
    "                 encoder,\n",
    "                 decoder,\n",
    "                 MAX_LENGTH,\n",
    "                 \"temp.csv\")"
   ]
  },
  {
   "cell_type": "markdown",
   "metadata": {},
   "source": [
    "### Training 1"
   ]
  },
  {
   "cell_type": "code",
   "execution_count": null,
   "metadata": {},
   "outputs": [],
   "source": [
    "hidden_size = 100\n",
    "num_layers = 1\n",
    "\n",
    "encoder = EncoderRNN(eng_enc_v_size, hidden_size, num_layers)\n",
    "decoder = DecoderRNN(hidden_size, eng_dec_v_size, num_layers)\n",
    "\n",
    "trainIters(encoder=encoder,\n",
    "           decoder=decoder,\n",
    "           n_iters=5000,\n",
    "           pairs=train_pairs_nor_f,\n",
    "           valid_pairs=valid_pairs_nor_f,\n",
    "           encoder_path=\"encoder1.pkl\",\n",
    "           decoder_path=\"decoder1.pkl\",\n",
    "           status_every=200,\n",
    "           learning_rate=0.2,\n",
    "           teacher_forcing_ratio=0.2)\n",
    "\n",
    "\n",
    "np.random.shuffle(train_pairs_nor_f)\n",
    "\n",
    "save_translation(train_pairs_nor_f[0:1000],\n",
    "                 encoder,\n",
    "                 decoder,\n",
    "                 MAX_LENGTH,\n",
    "                 \"training1.csv\")\n",
    "\n",
    "\n",
    "\n",
    "df_results = pd.read_csv(\"training1.csv\")\n",
    "acc = np.mean(df_results.accuracy.values)\n",
    "blue = np.mean(df_results.blue.values)\n",
    "print(\"mean blue score over training data = {:.3f}\".format(blue))\n",
    "print(\"mean acc over training data = {:.3f}\".format(acc))"
   ]
  },
  {
   "cell_type": "markdown",
   "metadata": {},
   "source": [
    "### Evaluating the trained models"
   ]
  },
  {
   "cell_type": "code",
   "execution_count": null,
   "metadata": {},
   "outputs": [],
   "source": [
    "hidden_size = 100\n",
    "num_layers = 1\n",
    "\n",
    "encoder = EncoderRNN(eng_enc_v_size, hidden_size, num_layers)\n",
    "decoder = DecoderRNN(hidden_size, eng_dec_v_size, num_layers)\n",
    "\n",
    "\n",
    "encoder.load_state_dict(torch.load(\"encoder1.pkl\"))\n",
    "decoder.load_state_dict(torch.load(\"decoder1.pkl\"))\n",
    "\n",
    "np.random.shuffle(valid_pairs_nor_f)\n",
    "\n",
    "save_translation(valid_pairs_nor_f[0:1000],\n",
    "                 encoder,\n",
    "                 decoder,\n",
    "                 MAX_LENGTH,\n",
    "                 \"valid1.csv\")\n",
    "\n",
    "df_results = pd.read_csv(\"valid1.csv\")\n",
    "acc = np.mean(df_results.accuracy.values)\n",
    "blue = np.mean(df_results.blue.values)\n",
    "print(\"mean blue score over valid data = {:.3f}\".format(blue))\n",
    "print(\"mean acc over valid data = {:.3f}\".format(acc))"
   ]
  },
  {
   "cell_type": "markdown",
   "metadata": {},
   "source": [
    "## Training 2"
   ]
  },
  {
   "cell_type": "code",
   "execution_count": 84,
   "metadata": {},
   "outputs": [
    {
     "name": "stdout",
     "output_type": "stream",
     "text": [
      "mean training loss = 54.04\n",
      "mean valid loss = 103.85\n",
      "time in 200 steps: 0m 35s\n",
      "\n",
      "mean training loss = 68.09\n",
      "mean valid loss = 39.00\n",
      "time in 200 steps: 0m 43s\n",
      "\n",
      "mean training loss = 65.05\n",
      "mean valid loss = 88.08\n",
      "time in 200 steps: 0m 38s\n",
      "\n",
      "mean training loss = 73.86\n",
      "mean valid loss = 66.19\n",
      "time in 200 steps: 0m 36s\n",
      "\n",
      "mean training loss = 83.50\n",
      "mean valid loss = 85.16\n",
      "time in 200 steps: 0m 37s\n",
      "\n",
      "mean training loss = 91.41\n",
      "mean valid loss = 63.43\n",
      "time in 200 steps: 0m 37s\n",
      "\n",
      "mean training loss = 86.83\n",
      "mean valid loss = 91.33\n",
      "time in 200 steps: 0m 36s\n",
      "\n",
      "mean training loss = 91.79\n",
      "mean valid loss = 79.12\n",
      "time in 200 steps: 0m 36s\n",
      "\n",
      "mean training loss = 95.58\n",
      "mean valid loss = 113.02\n",
      "time in 200 steps: 0m 38s\n",
      "\n",
      "mean training loss = 97.31\n",
      "mean valid loss = 64.63\n",
      "time in 200 steps: 0m 37s\n",
      "\n",
      "mean training loss = 86.24\n",
      "mean valid loss = 95.50\n",
      "time in 200 steps: 0m 36s\n",
      "\n",
      "mean training loss = 96.38\n",
      "mean valid loss = 105.00\n",
      "time in 200 steps: 0m 41s\n",
      "\n"
     ]
    },
    {
     "ename": "KeyboardInterrupt",
     "evalue": "",
     "output_type": "error",
     "traceback": [
      "\u001b[0;31m---------------------------------------------------------------------------\u001b[0m",
      "\u001b[0;31mKeyboardInterrupt\u001b[0m                         Traceback (most recent call last)",
      "\u001b[0;32m<ipython-input-84-7e02c1a3fc0d>\u001b[0m in \u001b[0;36m<module>\u001b[0;34m()\u001b[0m\n\u001b[1;32m     14\u001b[0m            \u001b[0mstatus_every\u001b[0m\u001b[0;34m=\u001b[0m\u001b[0;36m200\u001b[0m\u001b[0;34m,\u001b[0m\u001b[0;34m\u001b[0m\u001b[0m\n\u001b[1;32m     15\u001b[0m            \u001b[0mlearning_rate\u001b[0m\u001b[0;34m=\u001b[0m\u001b[0;36m0.2\u001b[0m\u001b[0;34m,\u001b[0m\u001b[0;34m\u001b[0m\u001b[0m\n\u001b[0;32m---> 16\u001b[0;31m            teacher_forcing_ratio=0.2)\n\u001b[0m\u001b[1;32m     17\u001b[0m \u001b[0;34m\u001b[0m\u001b[0m\n\u001b[1;32m     18\u001b[0m \u001b[0;34m\u001b[0m\u001b[0m\n",
      "\u001b[0;32m<ipython-input-76-c6bfeede9425>\u001b[0m in \u001b[0;36mtrainIters\u001b[0;34m(encoder, decoder, n_iters, pairs, valid_pairs, encoder_path, decoder_path, batch_size, status_every, learning_rate, teacher_forcing_ratio)\u001b[0m\n\u001b[1;32m     35\u001b[0m                      \u001b[0mcriterion\u001b[0m\u001b[0;34m,\u001b[0m\u001b[0;34m\u001b[0m\u001b[0m\n\u001b[1;32m     36\u001b[0m                      \u001b[0mmax_length\u001b[0m\u001b[0;34m=\u001b[0m\u001b[0mMAX_LENGTH\u001b[0m\u001b[0;34m,\u001b[0m\u001b[0;34m\u001b[0m\u001b[0m\n\u001b[0;32m---> 37\u001b[0;31m                      teacher_forcing_ratio=teacher_forcing_ratio)\n\u001b[0m\u001b[1;32m     38\u001b[0m         \u001b[0mplot_losses\u001b[0m\u001b[0;34m.\u001b[0m\u001b[0mappend\u001b[0m\u001b[0;34m(\u001b[0m\u001b[0mloss\u001b[0m\u001b[0;34m)\u001b[0m\u001b[0;34m\u001b[0m\u001b[0m\n\u001b[1;32m     39\u001b[0m \u001b[0;34m\u001b[0m\u001b[0m\n",
      "\u001b[0;32m<ipython-input-70-c0c11abc6b26>\u001b[0m in \u001b[0;36mtrain\u001b[0;34m(input_tensor, target_tensor, encoder, decoder, encoder_optimizer, decoder_optimizer, criterion, max_length, teacher_forcing_ratio)\u001b[0m\n\u001b[1;32m     58\u001b[0m \u001b[0;34m\u001b[0m\u001b[0m\n\u001b[1;32m     59\u001b[0m     \u001b[0mencoder_optimizer\u001b[0m\u001b[0;34m.\u001b[0m\u001b[0mstep\u001b[0m\u001b[0;34m(\u001b[0m\u001b[0;34m)\u001b[0m\u001b[0;34m\u001b[0m\u001b[0m\n\u001b[0;32m---> 60\u001b[0;31m     \u001b[0mdecoder_optimizer\u001b[0m\u001b[0;34m.\u001b[0m\u001b[0mstep\u001b[0m\u001b[0;34m(\u001b[0m\u001b[0;34m)\u001b[0m\u001b[0;34m\u001b[0m\u001b[0m\n\u001b[0m\u001b[1;32m     61\u001b[0m \u001b[0;34m\u001b[0m\u001b[0m\n\u001b[1;32m     62\u001b[0m     \u001b[0;32mreturn\u001b[0m \u001b[0mloss\u001b[0m\u001b[0;34m.\u001b[0m\u001b[0mitem\u001b[0m\u001b[0;34m(\u001b[0m\u001b[0;34m)\u001b[0m \u001b[0;34m/\u001b[0m \u001b[0mtarget_length\u001b[0m\u001b[0;34m\u001b[0m\u001b[0m\n",
      "\u001b[0;32m~/.local/lib/python3.5/site-packages/torch/optim/sgd.py\u001b[0m in \u001b[0;36mstep\u001b[0;34m(self, closure)\u001b[0m\n\u001b[1;32m    105\u001b[0m                         \u001b[0md_p\u001b[0m \u001b[0;34m=\u001b[0m \u001b[0mbuf\u001b[0m\u001b[0;34m\u001b[0m\u001b[0m\n\u001b[1;32m    106\u001b[0m \u001b[0;34m\u001b[0m\u001b[0m\n\u001b[0;32m--> 107\u001b[0;31m                 \u001b[0mp\u001b[0m\u001b[0;34m.\u001b[0m\u001b[0mdata\u001b[0m\u001b[0;34m.\u001b[0m\u001b[0madd_\u001b[0m\u001b[0;34m(\u001b[0m\u001b[0;34m-\u001b[0m\u001b[0mgroup\u001b[0m\u001b[0;34m[\u001b[0m\u001b[0;34m'lr'\u001b[0m\u001b[0;34m]\u001b[0m\u001b[0;34m,\u001b[0m \u001b[0md_p\u001b[0m\u001b[0;34m)\u001b[0m\u001b[0;34m\u001b[0m\u001b[0m\n\u001b[0m\u001b[1;32m    108\u001b[0m \u001b[0;34m\u001b[0m\u001b[0m\n\u001b[1;32m    109\u001b[0m         \u001b[0;32mreturn\u001b[0m \u001b[0mloss\u001b[0m\u001b[0;34m\u001b[0m\u001b[0m\n",
      "\u001b[0;31mKeyboardInterrupt\u001b[0m: "
     ]
    }
   ],
   "source": [
    "hidden_size = 300\n",
    "num_layers = 3\n",
    "\n",
    "encoder = EncoderRNN(eng_enc_v_size, hidden_size, num_layers)\n",
    "decoder = DecoderRNN(hidden_size, eng_dec_v_size, num_layers)\n",
    "\n",
    "trainIters(encoder=encoder,\n",
    "           decoder=decoder,\n",
    "           n_iters=5000,\n",
    "           pairs=train_pairs_nor_f,\n",
    "           valid_pairs=valid_pairs_nor_f,\n",
    "           encoder_path=\"encoder2.pkl\",\n",
    "           decoder_path=\"decoder2.pkl\",\n",
    "           status_every=200,\n",
    "           learning_rate=0.2,\n",
    "           teacher_forcing_ratio=0.2)\n",
    "\n",
    "\n",
    "np.random.shuffle(train_pairs_nor_f)\n",
    "\n",
    "save_translation(train_pairs_nor_f[0:1000],\n",
    "                 encoder,\n",
    "                 decoder,\n",
    "                 MAX_LENGTH,\n",
    "                 \"training2.csv\")\n",
    "\n",
    "\n",
    "\n",
    "df_results = pd.read_csv(\"training2.csv\")\n",
    "acc = np.mean(df_results.accuracy.values)\n",
    "blue = np.mean(df_results.blue.values)\n",
    "print(\"mean blue score over training data = {:.3f}\".format(blue))\n",
    "print(\"mean acc over training data = {:.3f}\".format(acc))"
   ]
  },
  {
   "cell_type": "code",
   "execution_count": 85,
   "metadata": {},
   "outputs": [
    {
     "ename": "RuntimeError",
     "evalue": "Error(s) in loading state_dict for EncoderRNN:\n\tsize mismatch for embedding.weight: copying a param of torch.Size([7972, 100]) from checkpoint, where the shape is torch.Size([7972, 300]) in current model.\n\tsize mismatch for gru.weight_hh_l2: copying a param of torch.Size([300, 100]) from checkpoint, where the shape is torch.Size([900, 300]) in current model.\n\tsize mismatch for gru.bias_hh_l0: copying a param of torch.Size([300]) from checkpoint, where the shape is torch.Size([900]) in current model.\n\tsize mismatch for gru.weight_hh_l0: copying a param of torch.Size([300, 100]) from checkpoint, where the shape is torch.Size([900, 300]) in current model.\n\tsize mismatch for gru.bias_hh_l1: copying a param of torch.Size([300]) from checkpoint, where the shape is torch.Size([900]) in current model.\n\tsize mismatch for gru.weight_ih_l1: copying a param of torch.Size([300, 100]) from checkpoint, where the shape is torch.Size([900, 300]) in current model.\n\tsize mismatch for gru.weight_hh_l1: copying a param of torch.Size([300, 100]) from checkpoint, where the shape is torch.Size([900, 300]) in current model.\n\tsize mismatch for gru.bias_ih_l2: copying a param of torch.Size([300]) from checkpoint, where the shape is torch.Size([900]) in current model.\n\tsize mismatch for gru.weight_ih_l2: copying a param of torch.Size([300, 100]) from checkpoint, where the shape is torch.Size([900, 300]) in current model.\n\tsize mismatch for gru.bias_ih_l0: copying a param of torch.Size([300]) from checkpoint, where the shape is torch.Size([900]) in current model.\n\tsize mismatch for gru.bias_ih_l1: copying a param of torch.Size([300]) from checkpoint, where the shape is torch.Size([900]) in current model.\n\tsize mismatch for gru.weight_ih_l0: copying a param of torch.Size([300, 100]) from checkpoint, where the shape is torch.Size([900, 300]) in current model.\n\tsize mismatch for gru.bias_hh_l2: copying a param of torch.Size([300]) from checkpoint, where the shape is torch.Size([900]) in current model.",
     "output_type": "error",
     "traceback": [
      "\u001b[0;31m---------------------------------------------------------------------------\u001b[0m",
      "\u001b[0;31mRuntimeError\u001b[0m                              Traceback (most recent call last)",
      "\u001b[0;32m<ipython-input-85-9d056c5bacb7>\u001b[0m in \u001b[0;36m<module>\u001b[0;34m()\u001b[0m\n\u001b[1;32m      6\u001b[0m \u001b[0;34m\u001b[0m\u001b[0m\n\u001b[1;32m      7\u001b[0m \u001b[0;34m\u001b[0m\u001b[0m\n\u001b[0;32m----> 8\u001b[0;31m \u001b[0mencoder\u001b[0m\u001b[0;34m.\u001b[0m\u001b[0mload_state_dict\u001b[0m\u001b[0;34m(\u001b[0m\u001b[0mtorch\u001b[0m\u001b[0;34m.\u001b[0m\u001b[0mload\u001b[0m\u001b[0;34m(\u001b[0m\u001b[0;34m\"encoder2.pkl\"\u001b[0m\u001b[0;34m)\u001b[0m\u001b[0;34m)\u001b[0m\u001b[0;34m\u001b[0m\u001b[0m\n\u001b[0m\u001b[1;32m      9\u001b[0m \u001b[0mdecoder\u001b[0m\u001b[0;34m.\u001b[0m\u001b[0mload_state_dict\u001b[0m\u001b[0;34m(\u001b[0m\u001b[0mtorch\u001b[0m\u001b[0;34m.\u001b[0m\u001b[0mload\u001b[0m\u001b[0;34m(\u001b[0m\u001b[0;34m\"decoder2.pkl\"\u001b[0m\u001b[0;34m)\u001b[0m\u001b[0;34m)\u001b[0m\u001b[0;34m\u001b[0m\u001b[0m\n\u001b[1;32m     10\u001b[0m \u001b[0;34m\u001b[0m\u001b[0m\n",
      "\u001b[0;32m~/.local/lib/python3.5/site-packages/torch/nn/modules/module.py\u001b[0m in \u001b[0;36mload_state_dict\u001b[0;34m(self, state_dict, strict)\u001b[0m\n\u001b[1;32m    717\u001b[0m         \u001b[0;32mif\u001b[0m \u001b[0mlen\u001b[0m\u001b[0;34m(\u001b[0m\u001b[0merror_msgs\u001b[0m\u001b[0;34m)\u001b[0m \u001b[0;34m>\u001b[0m \u001b[0;36m0\u001b[0m\u001b[0;34m:\u001b[0m\u001b[0;34m\u001b[0m\u001b[0m\n\u001b[1;32m    718\u001b[0m             raise RuntimeError('Error(s) in loading state_dict for {}:\\n\\t{}'.format(\n\u001b[0;32m--> 719\u001b[0;31m                                self.__class__.__name__, \"\\n\\t\".join(error_msgs)))\n\u001b[0m\u001b[1;32m    720\u001b[0m \u001b[0;34m\u001b[0m\u001b[0m\n\u001b[1;32m    721\u001b[0m     \u001b[0;32mdef\u001b[0m \u001b[0mparameters\u001b[0m\u001b[0;34m(\u001b[0m\u001b[0mself\u001b[0m\u001b[0;34m)\u001b[0m\u001b[0;34m:\u001b[0m\u001b[0;34m\u001b[0m\u001b[0m\n",
      "\u001b[0;31mRuntimeError\u001b[0m: Error(s) in loading state_dict for EncoderRNN:\n\tsize mismatch for embedding.weight: copying a param of torch.Size([7972, 100]) from checkpoint, where the shape is torch.Size([7972, 300]) in current model.\n\tsize mismatch for gru.weight_hh_l2: copying a param of torch.Size([300, 100]) from checkpoint, where the shape is torch.Size([900, 300]) in current model.\n\tsize mismatch for gru.bias_hh_l0: copying a param of torch.Size([300]) from checkpoint, where the shape is torch.Size([900]) in current model.\n\tsize mismatch for gru.weight_hh_l0: copying a param of torch.Size([300, 100]) from checkpoint, where the shape is torch.Size([900, 300]) in current model.\n\tsize mismatch for gru.bias_hh_l1: copying a param of torch.Size([300]) from checkpoint, where the shape is torch.Size([900]) in current model.\n\tsize mismatch for gru.weight_ih_l1: copying a param of torch.Size([300, 100]) from checkpoint, where the shape is torch.Size([900, 300]) in current model.\n\tsize mismatch for gru.weight_hh_l1: copying a param of torch.Size([300, 100]) from checkpoint, where the shape is torch.Size([900, 300]) in current model.\n\tsize mismatch for gru.bias_ih_l2: copying a param of torch.Size([300]) from checkpoint, where the shape is torch.Size([900]) in current model.\n\tsize mismatch for gru.weight_ih_l2: copying a param of torch.Size([300, 100]) from checkpoint, where the shape is torch.Size([900, 300]) in current model.\n\tsize mismatch for gru.bias_ih_l0: copying a param of torch.Size([300]) from checkpoint, where the shape is torch.Size([900]) in current model.\n\tsize mismatch for gru.bias_ih_l1: copying a param of torch.Size([300]) from checkpoint, where the shape is torch.Size([900]) in current model.\n\tsize mismatch for gru.weight_ih_l0: copying a param of torch.Size([300, 100]) from checkpoint, where the shape is torch.Size([900, 300]) in current model.\n\tsize mismatch for gru.bias_hh_l2: copying a param of torch.Size([300]) from checkpoint, where the shape is torch.Size([900]) in current model."
     ]
    }
   ],
   "source": [
    "hidden_size = 100\n",
    "num_layers = 3\n",
    "\n",
    "encoder = EncoderRNN(eng_enc_v_size, hidden_size, num_layers)\n",
    "decoder = DecoderRNN(hidden_size, eng_dec_v_size, num_layers)\n",
    "\n",
    "\n",
    "encoder.load_state_dict(torch.load(\"encoder2.pkl\"))\n",
    "decoder.load_state_dict(torch.load(\"decoder2.pkl\"))\n",
    "\n",
    "np.random.shuffle(valid_pairs_nor_f)\n",
    "\n",
    "save_translation(valid_pairs_nor_f[0:1000],\n",
    "                 encoder,\n",
    "                 decoder,\n",
    "                 MAX_LENGTH,\n",
    "                 \"valid2.csv\")\n",
    "\n",
    "df_results = pd.read_csv(\"valid2.csv\")\n",
    "acc = np.mean(df_results.accuracy.values)\n",
    "blue = np.mean(df_results.blue.values)\n",
    "print(\"mean blue score over valid data = {:.3f}\".format(blue))\n",
    "print(\"mean acc over valid data = {:.3f}\".format(acc))"
   ]
  },
  {
   "cell_type": "code",
   "execution_count": null,
   "metadata": {},
   "outputs": [],
   "source": []
  },
  {
   "cell_type": "code",
   "execution_count": null,
   "metadata": {},
   "outputs": [],
   "source": []
  },
  {
   "cell_type": "code",
   "execution_count": null,
   "metadata": {},
   "outputs": [],
   "source": []
  },
  {
   "cell_type": "code",
   "execution_count": null,
   "metadata": {},
   "outputs": [],
   "source": []
  }
 ],
 "metadata": {
  "kernelspec": {
   "display_name": "Python 3",
   "language": "python",
   "name": "python3"
  },
  "language_info": {
   "codemirror_mode": {
    "name": "ipython",
    "version": 3
   },
   "file_extension": ".py",
   "mimetype": "text/x-python",
   "name": "python",
   "nbconvert_exporter": "python",
   "pygments_lexer": "ipython3",
   "version": "3.5.2"
  }
 },
 "nbformat": 4,
 "nbformat_minor": 2
}
