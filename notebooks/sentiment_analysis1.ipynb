{
 "cells": [
  {
   "cell_type": "markdown",
   "metadata": {},
   "source": [
    "# Sentiment analysis in Pytorch 1: using a simple RNN"
   ]
  },
  {
   "cell_type": "code",
   "execution_count": 1,
   "metadata": {},
   "outputs": [],
   "source": [
    "# all imports\n",
    "import numpy as np\n",
    "import pandas as pd\n",
    "import torch\n",
    "from torchtext import data\n",
    "import torch.optim as optim\n",
    "from plots.plots import plot_confusion_matrix, plot_histogram_from_labels\n",
    "from text_processing.functions import simple_pre_process_text_df, simple_pre_process_text\n",
    "from text_generation.sentiment import generate_sentiment_data\n",
    "% matplotlib inline"
   ]
  },
  {
   "cell_type": "markdown",
   "metadata": {},
   "source": [
    "Creating the data"
   ]
  },
  {
   "cell_type": "code",
   "execution_count": 2,
   "metadata": {},
   "outputs": [
    {
     "name": "stdout",
     "output_type": "stream",
     "text": [
      "Index(['text', 'labels'], dtype='object')\n",
      "Index(['text', 'labels'], dtype='object')\n"
     ]
    }
   ],
   "source": [
    "generate_sentiment_data()"
   ]
  },
  {
   "cell_type": "markdown",
   "metadata": {},
   "source": [
    "Speak about the dataset [First GOP debate twitter sentiment](https://www.kaggle.com/crowdflower/first-gop-debate-twitter-sentiment)"
   ]
  },
  {
   "cell_type": "code",
   "execution_count": 3,
   "metadata": {},
   "outputs": [],
   "source": [
    "train_data_path = 'data/sentiment_train.csv'\n",
    "test_data_path = 'data/sentiment_test.csv'\n",
    "\n",
    "train_data = pd.read_csv(train_data_path)\n",
    "test_data = pd.read_csv(test_data_path)"
   ]
  },
  {
   "cell_type": "code",
   "execution_count": 4,
   "metadata": {},
   "outputs": [
    {
     "data": {
      "text/html": [
       "<div>\n",
       "<style scoped>\n",
       "    .dataframe tbody tr th:only-of-type {\n",
       "        vertical-align: middle;\n",
       "    }\n",
       "\n",
       "    .dataframe tbody tr th {\n",
       "        vertical-align: top;\n",
       "    }\n",
       "\n",
       "    .dataframe thead th {\n",
       "        text-align: right;\n",
       "    }\n",
       "</style>\n",
       "<table border=\"1\" class=\"dataframe\">\n",
       "  <thead>\n",
       "    <tr style=\"text-align: right;\">\n",
       "      <th></th>\n",
       "      <th>text</th>\n",
       "      <th>labels</th>\n",
       "    </tr>\n",
       "  </thead>\n",
       "  <tbody>\n",
       "    <tr>\n",
       "      <th>0</th>\n",
       "      <td>Airton é paciente</td>\n",
       "      <td>1</td>\n",
       "    </tr>\n",
       "    <tr>\n",
       "      <th>1</th>\n",
       "      <td>Nina é tanto sossegada quanto insincera</td>\n",
       "      <td>2</td>\n",
       "    </tr>\n",
       "    <tr>\n",
       "      <th>2</th>\n",
       "      <td>Taís é humanitária, mas as vezes ele parece se...</td>\n",
       "      <td>1</td>\n",
       "    </tr>\n",
       "    <tr>\n",
       "      <th>3</th>\n",
       "      <td>Brandão é genuíno</td>\n",
       "      <td>1</td>\n",
       "    </tr>\n",
       "    <tr>\n",
       "      <th>4</th>\n",
       "      <td>Olívia nunca foi neurótica</td>\n",
       "      <td>2</td>\n",
       "    </tr>\n",
       "  </tbody>\n",
       "</table>\n",
       "</div>"
      ],
      "text/plain": [
       "                                                text  labels\n",
       "0                                  Airton é paciente       1\n",
       "1            Nina é tanto sossegada quanto insincera       2\n",
       "2  Taís é humanitária, mas as vezes ele parece se...       1\n",
       "3                                  Brandão é genuíno       1\n",
       "4                         Olívia nunca foi neurótica       2"
      ]
     },
     "execution_count": 4,
     "metadata": {},
     "output_type": "execute_result"
    }
   ],
   "source": [
    "train_data.head()"
   ]
  },
  {
   "cell_type": "code",
   "execution_count": 5,
   "metadata": {},
   "outputs": [
    {
     "data": {
      "text/html": [
       "<div>\n",
       "<style scoped>\n",
       "    .dataframe tbody tr th:only-of-type {\n",
       "        vertical-align: middle;\n",
       "    }\n",
       "\n",
       "    .dataframe tbody tr th {\n",
       "        vertical-align: top;\n",
       "    }\n",
       "\n",
       "    .dataframe thead th {\n",
       "        text-align: right;\n",
       "    }\n",
       "</style>\n",
       "<table border=\"1\" class=\"dataframe\">\n",
       "  <thead>\n",
       "    <tr style=\"text-align: right;\">\n",
       "      <th></th>\n",
       "      <th>text</th>\n",
       "      <th>labels</th>\n",
       "    </tr>\n",
       "  </thead>\n",
       "  <tbody>\n",
       "    <tr>\n",
       "      <th>0</th>\n",
       "      <td>Anabela nunca foi obcecada</td>\n",
       "      <td>2</td>\n",
       "    </tr>\n",
       "    <tr>\n",
       "      <th>1</th>\n",
       "      <td>Mariana é esplêndida, mas as vezes ele parece ...</td>\n",
       "      <td>1</td>\n",
       "    </tr>\n",
       "    <tr>\n",
       "      <th>2</th>\n",
       "      <td>Jader é preparado</td>\n",
       "      <td>1</td>\n",
       "    </tr>\n",
       "    <tr>\n",
       "      <th>3</th>\n",
       "      <td>Madate é determinado</td>\n",
       "      <td>1</td>\n",
       "    </tr>\n",
       "    <tr>\n",
       "      <th>4</th>\n",
       "      <td>Catarina nunca foi intransigente</td>\n",
       "      <td>2</td>\n",
       "    </tr>\n",
       "  </tbody>\n",
       "</table>\n",
       "</div>"
      ],
      "text/plain": [
       "                                                text  labels\n",
       "0                         Anabela nunca foi obcecada       2\n",
       "1  Mariana é esplêndida, mas as vezes ele parece ...       1\n",
       "2                                  Jader é preparado       1\n",
       "3                               Madate é determinado       1\n",
       "4                   Catarina nunca foi intransigente       2"
      ]
     },
     "execution_count": 5,
     "metadata": {},
     "output_type": "execute_result"
    }
   ],
   "source": [
    "test_data.head()"
   ]
  },
  {
   "cell_type": "code",
   "execution_count": 6,
   "metadata": {},
   "outputs": [],
   "source": [
    "labels_legend = ['Negative','Positive', 'Neutral']\n",
    "sentiment2int = {'Negative':0, 'Positive':1, 'Neutral':2}\n",
    "int2sentiment = {i[1]: i[0] for i in sentiment2int.items()}\n",
    "train_labels = train_data[\"labels\"].values\n",
    "test_labels =  test_data[\"labels\"].values"
   ]
  },
  {
   "cell_type": "markdown",
   "metadata": {},
   "source": [
    "Plotting the data histogram"
   ]
  },
  {
   "cell_type": "code",
   "execution_count": 7,
   "metadata": {},
   "outputs": [
    {
     "data": {
      "image/png": "[encoded data removed]",
      "text/plain": [
       "<Figure size 432x288 with 1 Axes>"
      ]
     },
     "metadata": {},
     "output_type": "display_data"
    }
   ],
   "source": [
    "plot_histogram_from_labels(train_labels, labels_legend, \"train data\")"
   ]
  },
  {
   "cell_type": "code",
   "execution_count": 8,
   "metadata": {},
   "outputs": [
    {
     "data": {
      "image/png": "[encoded data removed]",
      "text/plain": [
       "<Figure size 432x288 with 1 Axes>"
      ]
     },
     "metadata": {},
     "output_type": "display_data"
    }
   ],
   "source": [
    "plot_histogram_from_labels(test_labels, labels_legend, \"test data\")"
   ]
  },
  {
   "cell_type": "markdown",
   "metadata": {},
   "source": [
    "Vizualizating some tweets"
   ]
  },
  {
   "cell_type": "code",
   "execution_count": 9,
   "metadata": {},
   "outputs": [
    {
     "name": "stdout",
     "output_type": "stream",
     "text": [
      "Taís é humanitária, mas as vezes ele parece ser instável\n",
      "\n",
      "Brandão é genuíno\n",
      "\n",
      "Olívia nunca foi neurótica\n"
     ]
    }
   ],
   "source": [
    "print(train_data[\"text\"].values[2])\n",
    "print()\n",
    "print(train_data[\"text\"].values[3])\n",
    "print()\n",
    "print(train_data[\"text\"].values[4])"
   ]
  },
  {
   "cell_type": "code",
   "execution_count": 10,
   "metadata": {},
   "outputs": [
    {
     "name": "stdout",
     "output_type": "stream",
     "text": [
      "\n",
      "AFTER using the function simple_pre_process_text_df \n",
      "\n",
      "tas humanitria mas as vezes ele parece ser instvel\n",
      "\n",
      "brando genuno\n",
      "\n",
      "olvia nunca foi neurtica\n"
     ]
    }
   ],
   "source": [
    "print(\"\\nAFTER using the function simple_pre_process_text_df \\n\")\n",
    "simple_pre_process_text_df(train_data)\n",
    "simple_pre_process_text_df(test_data)\n",
    "print(train_data[\"text\"].values[2])\n",
    "print()\n",
    "print(train_data[\"text\"].values[3])\n",
    "print()\n",
    "print(train_data[\"text\"].values[4])"
   ]
  },
  {
   "cell_type": "markdown",
   "metadata": {},
   "source": [
    "Now we can save the preprocessed text as a csv"
   ]
  },
  {
   "cell_type": "code",
   "execution_count": 11,
   "metadata": {},
   "outputs": [],
   "source": [
    "# train_data = train_data[[\"text\", \"sentiment\"]]\n",
    "# test_data = test_data[[\"text\", \"sentiment\"]]\n",
    "# train_data.to_csv('data/gop_tweets/train_clean.csv', header=False, index=False)\n",
    "# test_data.to_csv('data/gop_tweets/test_clean.csv', header=False, index=False)"
   ]
  },
  {
   "cell_type": "markdown",
   "metadata": {},
   "source": [
    "We use the`data.Field` to hold all the text data:\n",
    "\n",
    "> Field class models common text processing datatypes that can be represented\n",
    "by tensors.  It holds a Vocab object that defines the set of possible values\n",
    "for elements of the field and their corresponding numerical representations.\n",
    "The Field object also holds other parameters relating to how a datatype\n",
    "should be numericalized, such as a tokenization method and the kind of\n",
    "Tensor that should be produced.\n",
    "\n",
    "and the class `data.LabelField` to hold the labels:\n",
    "\n",
    "> A label field is a shallow wrapper around a standard field designed to hold labels\n",
    "for a classification task. Its only use is to set the unk_token and sequential to `None` by default."
   ]
  },
  {
   "cell_type": "code",
   "execution_count": 12,
   "metadata": {},
   "outputs": [],
   "source": [
    "# TEXT = data.Field(tokenize='spacy')\n",
    "# LABEL = data.LabelField(tensor_type=torch.FloatTensor)"
   ]
  },
  {
   "cell_type": "markdown",
   "metadata": {},
   "source": [
    "And so we can create a dataset by using the class `data.TabularDataset` and the data in the `csv` format"
   ]
  },
  {
   "cell_type": "code",
   "execution_count": 13,
   "metadata": {},
   "outputs": [],
   "source": [
    "# train = data.TabularDataset(path='data/gop_tweets/train_clean.csv',\n",
    "#                             format=\"csv\",\n",
    "#                             fields=[('text', TEXT), ('label', LABEL)])\n",
    "\n",
    "# test = data.TabularDataset(path='data/gop_tweets/test_clean.csv',\n",
    "#                             format=\"csv\",\n",
    "#                             fields=[('text', TEXT), ('label', LABEL)])"
   ]
  },
  {
   "cell_type": "markdown",
   "metadata": {},
   "source": [
    "Creating the train-valid split (80$\\%$ for training data and 20$\\%$ for validation data)"
   ]
  },
  {
   "cell_type": "code",
   "execution_count": 14,
   "metadata": {},
   "outputs": [],
   "source": [
    "# train, valid = train.split(0.8)"
   ]
  },
  {
   "cell_type": "code",
   "execution_count": 15,
   "metadata": {},
   "outputs": [],
   "source": [
    "# print('len(train):', len(train))\n",
    "# print('len(valid):', len(valid))\n",
    "# print('len(test):', len(test))"
   ]
  },
  {
   "cell_type": "markdown",
   "metadata": {},
   "source": [
    "Constructing the Vocabulary, using at maximun 25000 words"
   ]
  },
  {
   "cell_type": "code",
   "execution_count": 16,
   "metadata": {},
   "outputs": [],
   "source": [
    "# TEXT.build_vocab(train, max_size=25000)\n",
    "# LABEL.build_vocab(train)"
   ]
  },
  {
   "cell_type": "code",
   "execution_count": 17,
   "metadata": {},
   "outputs": [],
   "source": [
    "# print('len(TEXT.vocab):', len(TEXT.vocab))\n",
    "# print('len(LABEL.vocab):', len(LABEL.vocab))"
   ]
  },
  {
   "cell_type": "markdown",
   "metadata": {},
   "source": [
    "Printing the 20 most frequent words"
   ]
  },
  {
   "cell_type": "code",
   "execution_count": 18,
   "metadata": {},
   "outputs": [],
   "source": [
    "# print(TEXT.vocab.freqs.most_common(20))"
   ]
  },
  {
   "cell_type": "markdown",
   "metadata": {},
   "source": [
    "- `.itos` is the `int2str` method from the object `TEXT.vocab` \n",
    "- `.stoi` is the `str2int` method from the object `TEXT.vocab` "
   ]
  },
  {
   "cell_type": "code",
   "execution_count": 19,
   "metadata": {},
   "outputs": [],
   "source": [
    "# print(\"TEXT.vocab.itos\")\n",
    "# print(\"word\", \"index\")\n",
    "\n",
    "# for i, word in enumerate(TEXT.vocab.itos[:10]):\n",
    "#     print(word, i)\n",
    "\n",
    "\n",
    "# print()\n",
    "# print(\"TEXT.vocab.stoi\")\n",
    "# print(\"word\", \"index\")\n",
    "# for word in \"i love trump\".split():\n",
    "#     print(word, TEXT.vocab.stoi[word])"
   ]
  },
  {
   "cell_type": "code",
   "execution_count": 20,
   "metadata": {},
   "outputs": [],
   "source": [
    "# class RNNConfig(object):\n",
    "#     \"\"\"\n",
    "#     Holds logistic regression model hyperparams.\n",
    "    \n",
    "#     :param height: image height\n",
    "#     :type heights: int\n",
    "#     :param width: image width\n",
    "#     :type width: int\n",
    "#     :param channels: image channels\n",
    "#     :type channels: int\n",
    "#     :param batch_size: batch size for training\n",
    "#     :type batch_size: int\n",
    "#     :param epochs: number of epochs\n",
    "#     :type epochs: int\n",
    "#     :param save_step: when step % save_step == 0, the model\n",
    "#                       parameters are saved.\n",
    "#     :type save_step: int\n",
    "#     :param learning_rate: learning rate for the optimizer\n",
    "#     :type learning_rate: float\n",
    "#     :param momentum: momentum param\n",
    "#     :type momentum: float\n",
    "#     \"\"\"\n",
    "#     def __init__(self,\n",
    "#                  vocab_size=25000,\n",
    "#                  batch_size=32,\n",
    "#                  embedding_dim=100,\n",
    "#                  rnn_dim=256,\n",
    "#                  output_dim=3,\n",
    "#                  epochs=3,\n",
    "#                  learning_rate=0.01,\n",
    "#                  momentum=0.1):\n",
    "#         self.vocab_size = vocab_size\n",
    "#         self.batch_size = batch_size\n",
    "#         self.embedding_dim = embedding_dim\n",
    "#         self.rnn_dim = rnn_dim\n",
    "#         self.output_dim = output_dim\n",
    "#         self.epochs = epochs\n",
    "#         self.learning_rate = learning_rate\n",
    "#         self.momentum = momentum\n",
    "        \n",
    "\n",
    "#     def __str__(self):\n",
    "#         \"\"\"\n",
    "#         Get all attributs values.\n",
    "#         :return: all hyperparams as a string\n",
    "#         :rtype: str\n",
    "#         \"\"\"\n",
    "#         status = \"vocab_size = {}\\n\".format(self.vocab_size)\n",
    "#         status += \"batch_size = {}\\n\".format(self.batch_size)\n",
    "#         status += \"embedding_dim = {}\\n\".format(self.embedding_dim)\n",
    "#         status += \"rnn_dim = {}\\n\".format(self.rnn_dim)\n",
    "#         status += \"output_dim = {}\\n\".format(self.output_dim)\n",
    "#         status += \"epochs = {}\\n\".format(self.epochs)\n",
    "#         status += \"learning_rate = {}\\n\".format(self.learning_rate)\n",
    "#         status += \"momentum = {}\\n\".format(self.momentum)\n",
    "#         return status"
   ]
  },
  {
   "cell_type": "markdown",
   "metadata": {},
   "source": [
    "Hyperparams"
   ]
  },
  {
   "cell_type": "code",
   "execution_count": 21,
   "metadata": {},
   "outputs": [],
   "source": [
    "# config = RNNConfig(vocab_size=len(TEXT.vocab), output_dim=len(LABEL.vocab))\n",
    "# print(config)"
   ]
  },
  {
   "cell_type": "markdown",
   "metadata": {},
   "source": [
    "To define an iterator that batches examples of similar lengths together we use the class `data.BucketIterator`. \n"
   ]
  },
  {
   "cell_type": "code",
   "execution_count": 22,
   "metadata": {},
   "outputs": [],
   "source": [
    "# # train_iter = data.BucketIterator(train, batch_size=config.batch_size, repeat=False)\n",
    "# # valid_iter = data.BucketIterator(valid, batch_size=config.batch_size, repeat=False)\n",
    "# # test_iter = data.BucketIterator(test, batch_size=len(test), repeat=False)\n",
    "\n",
    "# class DataHolder():\n",
    "#     \"\"\"\n",
    "#     Class to store all data using the data.BucketIterator class.\n",
    "\n",
    "#     \"\"\"\n",
    "#     def __init__(self,\n",
    "#                  config,\n",
    "#                  train,\n",
    "#                  valid,\n",
    "#                  test):        \n",
    "#         self.train_iter = data.BucketIterator(train, batch_size=config.batch_size, repeat=False)\n",
    "#         self.valid_iter = data.BucketIterator(valid, batch_size=config.batch_size, repeat=False)\n",
    "#         self.test_iter = data.BucketIterator(test, batch_size=len(test), repeat=False)\n",
    "        \n",
    "        \n",
    "# gopdata = DataHolder(config, train, valid, test) \n"
   ]
  },
  {
   "cell_type": "markdown",
   "metadata": {},
   "source": [
    "We can see some batch examples, here we should remember that the batch shape is `[sent len, batch size]`"
   ]
  },
  {
   "cell_type": "code",
   "execution_count": 23,
   "metadata": {},
   "outputs": [],
   "source": [
    "# i = np.random.randint(0, config.batch_size)\n",
    "# batch = next(iter(gopdata.train_iter))\n",
    "# print(\"batch.text.shape = {}\".format(batch.text.shape))\n",
    "# print(\"batch.text.type = {}\\n\".format(batch.text.type()))\n",
    "\n",
    "# print(\"batch.label.shape = {}\".format(batch.label.shape))\n",
    "# print(\"batch.label.type = {}\\n\".format(batch.label.type()))\n",
    "# batch_t = batch.text.transpose(0, 1)\n",
    "# example = batch_t[i]\n",
    "# for i in example:\n",
    "#     print(TEXT.vocab.itos[i], end=\" \")"
   ]
  },
  {
   "cell_type": "markdown",
   "metadata": {},
   "source": [
    "Here we will define the RNN model using the `nn.module` class."
   ]
  },
  {
   "cell_type": "code",
   "execution_count": 24,
   "metadata": {},
   "outputs": [],
   "source": [
    "# import torch.nn as nn\n",
    "\n",
    "# class RNN(nn.Module):\n",
    "#     def __init__(self, config):\n",
    "#         super().__init__()\n",
    "\n",
    "#         self.embedding = nn.Embedding(config.vocab_size, config.embedding_dim)\n",
    "#         self.rnn = nn.RNN(config.embedding_dim, config.rnn_dim)\n",
    "#         self.fc = nn.Linear(config.rnn_dim, config.output_dim)\n",
    "        \n",
    "#     def forward(self, x):\n",
    "\n",
    "#         #x = [sent len, batch size]\n",
    "        \n",
    "#         embedded = self.embedding(x)\n",
    "        \n",
    "#         #embedded = [sent len, batch size, emb dim]\n",
    "        \n",
    "#         output, hidden = self.rnn(embedded)\n",
    "        \n",
    "#         #output = [sent len, batch size, hid dim]\n",
    "#         #hidden = [1, batch size, hid dim]\n",
    "#         return self.fc(hidden.squeeze(0))\n",
    "\n",
    "#     def predict(self, x):\n",
    "#         out = self.forward(x)\n",
    "#         softmax = nn.Softmax(dim=1)\n",
    "#         out = softmax(out)\n",
    "#         indices = torch.argmax(out, 1)\n",
    "#         return indices\n",
    "\n",
    "#     def evaluate_bach(self, batch):\n",
    "#         prediction = model.predict(batch.text)\n",
    "#         labels = batch.label.type('torch.LongTensor')\n",
    "#         correct = torch.sum(torch.eq(prediction, labels)).float()\n",
    "#         accuracy = float(correct/labels.shape[0])\n",
    "#         return accuracy, prediction, labels\n",
    "        \n"
   ]
  },
  {
   "cell_type": "code",
   "execution_count": 25,
   "metadata": {},
   "outputs": [],
   "source": [
    "# model = RNN(config)"
   ]
  },
  {
   "cell_type": "markdown",
   "metadata": {},
   "source": [
    "Model's accuracy **before** the training"
   ]
  },
  {
   "cell_type": "code",
   "execution_count": 26,
   "metadata": {},
   "outputs": [],
   "source": [
    "# test_bach = next(iter(gopdata.test_iter))\n",
    "# _, pred, labels = model.evaluate_bach(test_bach)\n",
    "\n",
    "# plot_confusion_matrix(truth=labels.numpy(),\n",
    "#                       predictions=pred.numpy(),\n",
    "#                       save=False,\n",
    "#                       path=\"rnn_confusion_matrix.png\",\n",
    "#                       classes=labels_legend)"
   ]
  },
  {
   "cell_type": "markdown",
   "metadata": {},
   "source": [
    "Criando a função para treinar o modelo"
   ]
  },
  {
   "cell_type": "code",
   "execution_count": 27,
   "metadata": {},
   "outputs": [],
   "source": [
    "# def train(model, iterator, optimizer, criterion):\n",
    "    \n",
    "#     epoch_loss = 0\n",
    "#     epoch_acc = 0\n",
    "    \n",
    "#     model.train()\n",
    "    \n",
    "#     for batch in iterator:\n",
    "        \n",
    "#         optimizer.zero_grad()\n",
    "        \n",
    "#         logits = model(batch.text)\n",
    "#         label = batch.label.type(\"torch.LongTensor\")\n",
    "#         loss = criterion(logits, label)\n",
    "#         acc, _, _ = model.evaluate_bach(batch)\n",
    "        \n",
    "#         loss.backward()\n",
    "#         optimizer.step()\n",
    "        \n",
    "#         epoch_loss += loss.item()\n",
    "#         epoch_acc += acc\n",
    "\n",
    "#     mean_loss = epoch_loss / len(iterator)\n",
    "#     mean_acc = epoch_acc / len(iterator)\n",
    "        \n",
    "#     return mean_loss, mean_acc\n",
    "\n",
    "\n",
    "# def get_valid_loss(model, valid_iter, criterion):\n",
    "#     batch = next(iter(valid_iter))\n",
    "#     model.eval()\n",
    "#     logits = model(batch.text)\n",
    "#     label = batch.label.type(\"torch.LongTensor\")\n",
    "#     loss = criterion(logits, label)\n",
    "#     return loss\n",
    "\n",
    "# def training_loop_text_classification(model, config, dataholder, model_path, verbose=True):\n",
    "#     \"\"\"\n",
    "#     Train a model for text classification\n",
    "\n",
    "#     :param model: RNN classification model\n",
    "#     :type model: \n",
    "#     :param config: image classification model\n",
    "#     :type config: LogisticRegression or DFN\n",
    "#     :param dataholder: data\n",
    "#     :type dataholder: DataHolder or DataHolderGentle\n",
    "#     :param model_path: path to save model params\n",
    "#     :type model_path: str\n",
    "#     :param verbose: param to control print\n",
    "#     :type verbose: bool\n",
    "#     \"\"\"\n",
    "#     optimizer = optim.SGD(model.parameters(),\n",
    "#                           lr=config.learning_rate,\n",
    "#                           momentum=config.momentum)\n",
    "    \n",
    "#     criterion = nn.CrossEntropyLoss()\n",
    "#     device = torch.device('cuda' if torch.cuda.is_available() else 'cpu')\n",
    "#     model = model.to(device)\n",
    "#     criterion = criterion.to(device)\n",
    "#     train_iter = dataholder.train_iter\n",
    "#     valid_iter = dataholder.valid_iter\n",
    "    \n",
    "#     best_valid_loss = float(\"inf\")\n",
    "    \n",
    "#     for epoch in range(config.epochs):\n",
    "#         print(\"epoch = ({}/{})\".format(epoch + 1, config.epochs))\n",
    "#         train_loss, train_acc = train(model, train_iter, optimizer, criterion)\n",
    "#         valid_loss = get_valid_loss(model,valid_iter, criterion)\n",
    "#         msg = \"\\ntrain_loss = {:.3f} | valid_loss = {:.3f}\".format(float(train_loss),float(valid_loss))\n",
    "#         if float(valid_loss) < best_valid_loss:\n",
    "#             torch.save(model.state_dict(), model_path)\n",
    "#             best_valid_loss = float(valid_loss)\n",
    "#         if verbose:\n",
    "#             print(msg)\n",
    "#             print(\"train_acc = {}\\n\".format(train_acc))    "
   ]
  },
  {
   "cell_type": "code",
   "execution_count": 28,
   "metadata": {},
   "outputs": [],
   "source": [
    "# training_loop_text_classification(model, config, gopdata, \"rnn.pkl\")"
   ]
  },
  {
   "cell_type": "markdown",
   "metadata": {},
   "source": [
    "Model's accuracy **after** the training"
   ]
  },
  {
   "cell_type": "code",
   "execution_count": 29,
   "metadata": {},
   "outputs": [],
   "source": [
    "# model = RNN(config)\n",
    "# model.load_state_dict(torch.load('rnn.pkl'))\n",
    "# _, pred, labels = model.evaluate_bach(test_bach)\n",
    "\n",
    "# plot_confusion_matrix(truth=labels.numpy(),\n",
    "#                       predictions=pred.numpy(),\n",
    "#                       save=False,\n",
    "#                       path=\"rnn_confusion_matrix.png\",\n",
    "#                       classes=labels_legend)"
   ]
  },
  {
   "cell_type": "markdown",
   "metadata": {},
   "source": [
    "Taking a look on some single examples"
   ]
  },
  {
   "cell_type": "code",
   "execution_count": 30,
   "metadata": {},
   "outputs": [],
   "source": [
    "# t1 = \"I don't like Donald Trump\"\n",
    "# t2 = \"I like Donald Trump\"\n",
    "# t3 = \"I hate Donald Trump\"\n",
    "# t4 = \"I  like like like love Trump\"\n",
    "# t5 = \"#GOPDebate #JonVoyage - Thoughts on the events of last night on TV, including the Republican debate and Jon... http://t.co/pz4tiAOnBL\"\n",
    "# tweets = [t1,t2,t3,t4,t5]"
   ]
  },
  {
   "cell_type": "code",
   "execution_count": 31,
   "metadata": {},
   "outputs": [],
   "source": [
    "# for tweet in tweets:\n",
    "#     print()\n",
    "#     print(tweet)\n",
    "#     text = simple_pre_process_text(tweet)\n",
    "#     text_as_int = [TEXT.vocab.stoi[word] for word in text.split(\" \")]\n",
    "#     text_as_tensor = torch.Tensor(text_as_int).type('torch.LongTensor')\n",
    "#     text_as_tensor = text_as_tensor.view((1, text_as_tensor.shape[0]))\n",
    "#     text_as_tensor = text_as_tensor.t()  # putting in the format [sent len, batch size]\n",
    "#     pred = int(model.predict(text_as_tensor))\n",
    "#     print(LABEL.vocab.itos[pred])"
   ]
  }
 ],
 "metadata": {
  "kernelspec": {
   "display_name": "Python 3",
   "language": "python",
   "name": "python3"
  },
  "language_info": {
   "codemirror_mode": {
    "name": "ipython",
    "version": 3
   },
   "file_extension": ".py",
   "mimetype": "text/x-python",
   "name": "python",
   "nbconvert_exporter": "python",
   "pygments_lexer": "ipython3",
   "version": "3.5.2"
  }
 },
 "nbformat": 4,
 "nbformat_minor": 2
}
