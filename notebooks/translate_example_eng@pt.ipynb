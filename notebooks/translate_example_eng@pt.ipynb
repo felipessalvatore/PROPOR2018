{
 "cells": [
  {
   "cell_type": "markdown",
   "metadata": {},
   "source": [
    "# translation example"
   ]
  },
  {
   "cell_type": "code",
   "execution_count": 1,
   "metadata": {},
   "outputs": [],
   "source": [
    "import numpy as np\n",
    "import torch\n",
    "import torch.nn as nn\n",
    "import torch.nn.functional as F\n",
    "from torchtext import data\n",
    "import pandas as pd\n",
    "import unicodedata\n",
    "import string\n",
    "import re\n",
    "import random\n",
    "import copy\n",
    "from plots.plots import simple_step_plot\n",
    "import  matplotlib.pyplot as plt\n",
    "device = torch.device(\"cuda\" if torch.cuda.is_available() else \"cpu\")\n",
    "from nltk.translate.bleu_score import sentence_bleu\n",
    "\n",
    "% matplotlib inline"
   ]
  },
  {
   "cell_type": "markdown",
   "metadata": {},
   "source": [
    "### Preparing data"
   ]
  },
  {
   "cell_type": "code",
   "execution_count": 2,
   "metadata": {},
   "outputs": [],
   "source": [
    "eng = []\n",
    "pt = []\n",
    "\n",
    "with open(\"data/eng@pt.txt\", \"r\") as f:\n",
    "    for line in f:\n",
    "        break_point = line.find(\"@\")\n",
    "        eng.append(line[:break_point])\n",
    "        pt.append(line[break_point+1:].strip())\n",
    "        \n",
    "eng_pt_pairs = [(e,p) for e,p in zip(eng, pt)]"
   ]
  },
  {
   "cell_type": "code",
   "execution_count": 3,
   "metadata": {},
   "outputs": [],
   "source": [
    "valid_break = int(len(eng_pt_pairs) * 0.8)\n",
    "test_break = valid_break + int((len(eng_pt_pairs) - valid_break) * 0.5)\n",
    "np.random.shuffle(eng_pt_pairs)\n",
    "\n",
    "\n",
    "train_pairs = eng_pt_pairs[:valid_break]\n",
    "valid_pairs = eng_pt_pairs[valid_break:test_break]\n",
    "test_pairs = eng_pt_pairs[test_break:]"
   ]
  },
  {
   "cell_type": "code",
   "execution_count": 4,
   "metadata": {},
   "outputs": [
    {
     "name": "stdout",
     "output_type": "stream",
     "text": [
      "training size =  96840\n",
      "valid size =  12105\n",
      "test size =  12106\n"
     ]
    }
   ],
   "source": [
    "print(\"training size = \", len(train_pairs))\n",
    "print(\"valid size = \", len(valid_pairs))\n",
    "print(\"test size = \", len(test_pairs))"
   ]
  },
  {
   "cell_type": "code",
   "execution_count": 5,
   "metadata": {},
   "outputs": [],
   "source": [
    "SOS_token = 0\n",
    "EOS_token = 1\n",
    "\n",
    "class Lang:\n",
    "    def __init__(self, name):\n",
    "        self.name = name\n",
    "        self.word2index = {}\n",
    "        self.word2count = {}\n",
    "        self.index2word = {0: \"SOS\", 1: \"EOS\"}\n",
    "        self.n_words = 2  # Count SOS and EOS\n",
    "\n",
    "    def addSentence(self, sentence):\n",
    "        for word in sentence.split(' '):\n",
    "            self.addWord(word)\n",
    "\n",
    "    def addWord(self, word):\n",
    "        if word not in self.word2index:\n",
    "            self.word2index[word] = self.n_words\n",
    "            self.word2count[word] = 1\n",
    "            self.index2word[self.n_words] = word\n",
    "            self.n_words += 1\n",
    "        else:\n",
    "            self.word2count[word] += 1"
   ]
  },
  {
   "cell_type": "code",
   "execution_count": 7,
   "metadata": {},
   "outputs": [],
   "source": [
    "# Turn a Unicode string to plain ASCII, thanks to\n",
    "# http://stackoverflow.com/a/518232/2809427\n",
    "def unicodeToAscii(s):\n",
    "    return ''.join(\n",
    "        c for c in unicodedata.normalize('NFD', s)\n",
    "        if unicodedata.category(c) != 'Mn')\n",
    "\n",
    "# Lowercase, trim, and remove non-letter characters\n",
    "\n",
    "def normalizeString(s):\n",
    "    s = unicodeToAscii(s.lower().strip())\n",
    "    s = re.sub(r'[+-]?\\d+(?:\\.\\d+)?', \"N\", s)\n",
    "    s = re.sub(r\"([.!?])\", r\" \\1\", s)\n",
    "    s = re.sub(r\"[^a-zA-Z.!?]+\", r\" \", s)\n",
    "    s = re.sub('[^a-zA-z0-9\\s]', '', s)\n",
    "    return s"
   ]
  },
  {
   "cell_type": "code",
   "execution_count": 8,
   "metadata": {},
   "outputs": [
    {
     "name": "stdout",
     "output_type": "stream",
     "text": [
      "===Before===\n",
      "Eu gostei daquela música.\n",
      "Por favor, leia as instruções.\n",
      "Você é apenas uma criança.\n",
      "Quando foi a última vez que você viu o Tom?\n",
      "===After===\n",
      "eu gostei daquela musica \n",
      "por favor leia as instrucoes \n",
      "voce e apenas uma crianca \n",
      "quando foi a ultima vez que voce viu o tom \n"
     ]
    }
   ],
   "source": [
    "print(\"===Before===\")\n",
    "\n",
    "for t in train_pairs[0:4]:\n",
    "    p1, p2 = t[0], t[1]\n",
    "    print(p2)\n",
    "    \n",
    "print(\"===After===\")\n",
    "\n",
    "for t in train_pairs[0:4]:\n",
    "    p1, p2 = t[0], t[1]\n",
    "    p1 = normalizeString(p1)\n",
    "    p2 = normalizeString(p2)\n",
    "    print(p2)\n",
    "\n"
   ]
  },
  {
   "cell_type": "code",
   "execution_count": 9,
   "metadata": {},
   "outputs": [],
   "source": [
    "train_pairs_nor = [(normalizeString(s1), normalizeString(s2)) for s1, s2 in train_pairs]\n",
    "valid_pairs_nor = [(normalizeString(s1), normalizeString(s2)) for s1, s2 in valid_pairs]\n",
    "test_pairs_nor = [(normalizeString(s1), normalizeString(s2)) for s1, s2 in test_pairs]"
   ]
  },
  {
   "cell_type": "code",
   "execution_count": 10,
   "metadata": {},
   "outputs": [],
   "source": [
    "all_text_pairs_en = [s1 for s1,_ in train_pairs_nor] + [s1 for s1,_ in valid_pairs_nor] + [s1 for s1,_ in valid_pairs_nor]\n",
    "all_text_pairs_pt = [s1 for _,s1 in train_pairs_nor] + [s1 for _,s1 in valid_pairs_nor] + [s1 for _,s1 in valid_pairs_nor]\n",
    "all_text_pairs = list(zip(all_text_pairs_en, all_text_pairs_pt))"
   ]
  },
  {
   "cell_type": "code",
   "execution_count": 11,
   "metadata": {},
   "outputs": [],
   "source": [
    "en_sizes  = [len(s.split(\" \")) for s in all_text_pairs_en]\n",
    "pt_sizes  = [len(s.split(\" \")) for s in all_text_pairs_pt]"
   ]
  },
  {
   "cell_type": "code",
   "execution_count": 12,
   "metadata": {},
   "outputs": [
    {
     "data": {
      "image/png": "[encoded data removed]",
      "text/plain": [
       "<Figure size 432x288 with 1 Axes>"
      ]
     },
     "metadata": {},
     "output_type": "display_data"
    }
   ],
   "source": [
    "plt.hist(en_sizes)\n",
    "plt.show()"
   ]
  },
  {
   "cell_type": "code",
   "execution_count": 13,
   "metadata": {},
   "outputs": [
    {
     "data": {
      "image/png": "[encoded data removed]",
      "text/plain": [
       "<Figure size 432x288 with 1 Axes>"
      ]
     },
     "metadata": {},
     "output_type": "display_data"
    }
   ],
   "source": [
    "plt.hist(pt_sizes)\n",
    "plt.show()"
   ]
  },
  {
   "cell_type": "code",
   "execution_count": 14,
   "metadata": {},
   "outputs": [],
   "source": [
    "MAX_LENGTH = 6"
   ]
  },
  {
   "cell_type": "code",
   "execution_count": 15,
   "metadata": {},
   "outputs": [],
   "source": [
    "def readLangs(lang1, lang2, pairs, reverse=False):\n",
    "    # Reverse pairs, make Lang instances\n",
    "    if reverse:\n",
    "        pairs = [tuple(reversed(p)) for p in pairs]\n",
    "        input_lang = Lang(lang2)\n",
    "        output_lang = Lang(lang1)\n",
    "    else:\n",
    "        input_lang = Lang(lang1)\n",
    "        output_lang = Lang(lang2)\n",
    "\n",
    "    return input_lang, output_lang, pairs"
   ]
  },
  {
   "cell_type": "code",
   "execution_count": 16,
   "metadata": {},
   "outputs": [],
   "source": [
    "def filterPair(p):\n",
    "    cond1 = len(p[0].split(' ')) < MAX_LENGTH\n",
    "    cond2 = len(p[1].split(' ')) < MAX_LENGTH \n",
    "    return cond1 and cond2\n",
    "\n",
    "\n",
    "def filterPairs(pairs):\n",
    "    return [pair for pair in pairs if filterPair(pair)]\n"
   ]
  },
  {
   "cell_type": "code",
   "execution_count": 17,
   "metadata": {},
   "outputs": [],
   "source": [
    "def prepareData(lang1, lang2, pairs, reverse=False):\n",
    "    input_lang, output_lang, pairs = readLangs(lang1, lang2, pairs, reverse)\n",
    "    print(\"Read %s sentence pairs\" % len(pairs))\n",
    "    pairs = filterPairs(pairs)\n",
    "    print(\"Trimmed to %s sentence pairs\" % len(pairs))\n",
    "    print(\"Counting words...\")\n",
    "    for pair in pairs:\n",
    "        input_lang.addSentence(pair[0])\n",
    "        output_lang.addSentence(pair[1])\n",
    "    print(\"Counted words:\")\n",
    "    print(input_lang.name, input_lang.n_words)\n",
    "    print(output_lang.name, output_lang.n_words)\n",
    "    return input_lang, output_lang, pairs"
   ]
  },
  {
   "cell_type": "code",
   "execution_count": 18,
   "metadata": {},
   "outputs": [
    {
     "name": "stdout",
     "output_type": "stream",
     "text": [
      "Read 96840 sentence pairs\n",
      "Trimmed to 21468 sentence pairs\n",
      "Counting words...\n",
      "Counted words:\n",
      "eng 4527\n",
      "pt 6925\n",
      "\n",
      "Read 121050 sentence pairs\n",
      "Trimmed to 26762 sentence pairs\n",
      "Counting words...\n",
      "Counted words:\n",
      "eng 4710\n",
      "pt 7291\n",
      "\n",
      "Read 12105 sentence pairs\n",
      "Trimmed to 2647 sentence pairs\n",
      "Counting words...\n",
      "Counted words:\n",
      "eng 1731\n",
      "pt 2292\n",
      "\n",
      "Read 12106 sentence pairs\n",
      "Trimmed to 2580 sentence pairs\n",
      "Counting words...\n",
      "Counted words:\n",
      "eng 1724\n",
      "pt 2244\n"
     ]
    }
   ],
   "source": [
    "_, _, train_pairs_nor_f = prepareData(\"eng\",\n",
    "                                     \"pt\",\n",
    "                                     train_pairs_nor)\n",
    "print()\n",
    "\n",
    "\n",
    "input_lang, output_lang, _ = prepareData(\"eng\",\n",
    "                               \"pt\",\n",
    "                               all_text_pairs)\n",
    "\n",
    "print()\n",
    "\n",
    "_, _, valid_pairs_nor_f = prepareData(\"eng\",\n",
    "                                  \"pt\",\n",
    "                                  valid_pairs_nor)\n",
    "\n",
    "\n",
    "\n",
    "print()\n",
    "\n",
    "_, _, test_pairs_nor_f = prepareData(\"eng\",\n",
    "                                  \"pt\",\n",
    "                                  test_pairs_nor)"
   ]
  },
  {
   "cell_type": "markdown",
   "metadata": {},
   "source": [
    "### sentences 2 tensors"
   ]
  },
  {
   "cell_type": "code",
   "execution_count": 19,
   "metadata": {},
   "outputs": [
    {
     "name": "stdout",
     "output_type": "stream",
     "text": [
      "('tom s crying ', 'tom esta chorando ')\n"
     ]
    }
   ],
   "source": [
    "example = random.choice(train_pairs_nor_f)\n",
    "print(example)"
   ]
  },
  {
   "cell_type": "code",
   "execution_count": 20,
   "metadata": {},
   "outputs": [],
   "source": [
    "def indexesFromSentence(lang, sentence):\n",
    "    return [lang.word2index[word] for word in sentence.split(' ')]"
   ]
  },
  {
   "cell_type": "code",
   "execution_count": 21,
   "metadata": {},
   "outputs": [
    {
     "data": {
      "text/plain": [
       "[33, 43, 206, 6]"
      ]
     },
     "execution_count": 21,
     "metadata": {},
     "output_type": "execute_result"
    }
   ],
   "source": [
    "indexesFromSentence(input_lang,example[0])"
   ]
  },
  {
   "cell_type": "code",
   "execution_count": 22,
   "metadata": {},
   "outputs": [
    {
     "data": {
      "text/plain": [
       "[34, 68, 214, 6]"
      ]
     },
     "execution_count": 22,
     "metadata": {},
     "output_type": "execute_result"
    }
   ],
   "source": [
    "indexesFromSentence(output_lang, example[1])"
   ]
  },
  {
   "cell_type": "code",
   "execution_count": 23,
   "metadata": {},
   "outputs": [],
   "source": [
    "def tensorFromSentence(lang, sentence):\n",
    "    indexes = indexesFromSentence(lang, sentence)\n",
    "    indexes.append(EOS_token)\n",
    "    return torch.tensor(indexes, dtype=torch.long, device=device).view(-1, 1)"
   ]
  },
  {
   "cell_type": "code",
   "execution_count": 24,
   "metadata": {},
   "outputs": [
    {
     "name": "stdout",
     "output_type": "stream",
     "text": [
      "tensor([[ 33],\n",
      "        [ 43],\n",
      "        [206],\n",
      "        [  6],\n",
      "        [  1]])\n",
      "\n",
      "torch.Size([5, 1])\n",
      "torch.int64\n",
      "tensor([[ 34],\n",
      "        [ 68],\n",
      "        [214],\n",
      "        [  6],\n",
      "        [  1]])\n",
      "\n",
      "torch.Size([5, 1])\n",
      "torch.int64\n"
     ]
    }
   ],
   "source": [
    "input_sen = tensorFromSentence(input_lang,example[0])\n",
    "output_sen = tensorFromSentence(output_lang, example[1])\n",
    "\n",
    "print(input_sen)\n",
    "print()\n",
    "print(input_sen.shape)\n",
    "print(input_sen.dtype)\n",
    "print(output_sen)\n",
    "print()\n",
    "print(output_sen.shape)\n",
    "print(output_sen.dtype)"
   ]
  },
  {
   "cell_type": "code",
   "execution_count": 25,
   "metadata": {},
   "outputs": [],
   "source": [
    "def tensorsFromPair(pair):\n",
    "    input_tensor = tensorFromSentence(input_lang, pair[0])\n",
    "    target_tensor = tensorFromSentence(output_lang, pair[1])\n",
    "    return (input_tensor, target_tensor)"
   ]
  },
  {
   "cell_type": "code",
   "execution_count": 26,
   "metadata": {},
   "outputs": [
    {
     "name": "stdout",
     "output_type": "stream",
     "text": [
      "input\n",
      "\n",
      "tensor([[ 33],\n",
      "        [ 43],\n",
      "        [206],\n",
      "        [  6],\n",
      "        [  1]])\n",
      "\n",
      "torch.Size([5, 1])\n",
      "torch.int64\n",
      "\n",
      "output\n",
      "\n",
      "tensor([[ 34],\n",
      "        [ 68],\n",
      "        [214],\n",
      "        [  6],\n",
      "        [  1]])\n",
      "\n",
      "torch.Size([5, 1])\n",
      "torch.int64\n"
     ]
    }
   ],
   "source": [
    "input_sen, output_sen = tensorsFromPair(example)\n",
    "\n",
    "\n",
    "print(\"input\\n\")\n",
    "print(input_sen)\n",
    "print()\n",
    "print(input_sen.shape)\n",
    "print(input_sen.dtype)\n",
    "\n",
    "print(\"\\noutput\\n\")\n",
    "print(output_sen)\n",
    "print()\n",
    "print(output_sen.shape)\n",
    "print(output_sen.dtype)"
   ]
  },
  {
   "cell_type": "code",
   "execution_count": 27,
   "metadata": {},
   "outputs": [],
   "source": [
    "class EncoderRNN(nn.Module):\n",
    "    def __init__(self,\n",
    "                 input_size,\n",
    "                 hidden_size,\n",
    "                 num_layers=1):\n",
    "        super(EncoderRNN, self).__init__()\n",
    "        self.hidden_size = hidden_size\n",
    "        self.num_layers = num_layers\n",
    "        self.embedding = nn.Embedding(input_size,\n",
    "                                      hidden_size)\n",
    "        self.gru = nn.GRU(hidden_size, hidden_size, self.num_layers)\n",
    "\n",
    "    def forward(self, input, hidden):\n",
    "        embedded = self.embedding(input).view(1, 1, -1)\n",
    "        output = embedded\n",
    "        output, hidden = self.gru(output, hidden)\n",
    "        return output, hidden\n",
    "\n",
    "    def initHidden(self):\n",
    "        return torch.zeros(self.num_layers, 1, self.hidden_size, device=device)"
   ]
  },
  {
   "cell_type": "code",
   "execution_count": 28,
   "metadata": {},
   "outputs": [],
   "source": [
    "hidden_size = 10\n",
    "eng_enc_v_size = input_lang.n_words\n",
    "eng_dec_v_size = output_lang.n_words"
   ]
  },
  {
   "cell_type": "code",
   "execution_count": 29,
   "metadata": {},
   "outputs": [
    {
     "name": "stdout",
     "output_type": "stream",
     "text": [
      "input_sen: torch.Size([5, 1]) torch.int64\n",
      "h0: torch.Size([1, 1, 10]) torch.float32\n"
     ]
    }
   ],
   "source": [
    "encoder = EncoderRNN(eng_enc_v_size, hidden_size)\n",
    "h0 = encoder.initHidden()\n",
    "print(\"input_sen:\", input_sen.shape, input_sen.dtype)\n",
    "print(\"h0:\", h0.shape, h0.dtype)"
   ]
  },
  {
   "cell_type": "code",
   "execution_count": 30,
   "metadata": {},
   "outputs": [
    {
     "name": "stdout",
     "output_type": "stream",
     "text": [
      "output: torch.Size([1, 1, 10]) torch.float32\n",
      "hidden_enc: torch.Size([1, 1, 10]) torch.float32\n"
     ]
    }
   ],
   "source": [
    "max_length = MAX_LENGTH\n",
    "encoder_outputs = torch.zeros(max_length,\n",
    "                              encoder.hidden_size,\n",
    "                              device=device)\n",
    "\n",
    "input_length = input_sen.size(0)\n",
    "\n",
    "for ei in range(input_length):\n",
    "    output, hidden_enc = encoder(input_sen[ei], h0)\n",
    "    h0 = hidden_enc\n",
    "    encoder_outputs[ei] = output[0, 0]\n",
    "\n",
    "print(\"output:\", output.shape, output.dtype)\n",
    "print(\"hidden_enc:\", hidden_enc.shape, hidden_enc.dtype)"
   ]
  },
  {
   "cell_type": "code",
   "execution_count": 31,
   "metadata": {},
   "outputs": [],
   "source": [
    "class DecoderRNN(nn.Module):\n",
    "    def __init__(self,\n",
    "                 hidden_size,\n",
    "                 output_size,\n",
    "                 num_layers=1):\n",
    "        super(DecoderRNN, self).__init__()\n",
    "        self.hidden_size = hidden_size\n",
    "        self.num_layers = num_layers\n",
    "\n",
    "        self.embedding = nn.Embedding(output_size, hidden_size)\n",
    "        self.gru = nn.GRU(hidden_size, hidden_size, self.num_layers)\n",
    "        self.out = nn.Linear(hidden_size, output_size)\n",
    "        self.softmax = nn.LogSoftmax(dim=1)\n",
    "\n",
    "    def forward(self, input, hidden):\n",
    "        output = self.embedding(input).view(1, 1, -1)\n",
    "        output = F.relu(output)\n",
    "        output, hidden = self.gru(output, hidden)\n",
    "        output = self.softmax(self.out(output[0]))\n",
    "        return output, hidden\n",
    "\n",
    "    def initHidden(self):\n",
    "        return torch.zeros(self.num_layers, 1, self.hidden_size, device=device)"
   ]
  },
  {
   "cell_type": "code",
   "execution_count": 32,
   "metadata": {},
   "outputs": [
    {
     "name": "stdout",
     "output_type": "stream",
     "text": [
      "decoder_output: torch.Size([1, 7291]) torch.float32\n",
      "\n",
      "decoder_hidden: torch.Size([1, 1, 10]) torch.float32\n",
      "decoder_output: torch.Size([1, 7291]) torch.float32\n",
      "\n",
      "decoder_hidden: torch.Size([1, 1, 10]) torch.float32\n",
      "decoder_output: torch.Size([1, 7291]) torch.float32\n",
      "\n",
      "decoder_hidden: torch.Size([1, 1, 10]) torch.float32\n",
      "decoder_output: torch.Size([1, 7291]) torch.float32\n",
      "\n",
      "decoder_hidden: torch.Size([1, 1, 10]) torch.float32\n",
      "decoder_output: torch.Size([1, 7291]) torch.float32\n",
      "\n",
      "decoder_hidden: torch.Size([1, 1, 10]) torch.float32\n"
     ]
    }
   ],
   "source": [
    "decoder = DecoderRNN(hidden_size, eng_dec_v_size)\n",
    "\n",
    "decoder_input = torch.tensor([[SOS_token]], device=device)\n",
    "\n",
    "decoder_hidden = hidden_enc\n",
    "\n",
    "target_length = output_sen.size(0)\n",
    "\n",
    "for di in range(target_length):\n",
    "    decoder_output, decoder_hidden = decoder(decoder_input, decoder_hidden)\n",
    "    decoder_input = output_sen[di]  # Teacher forcing\n",
    "    print(\"decoder_output:\", decoder_output.shape, decoder_output.dtype)\n",
    "    print()\n",
    "    print(\"decoder_hidden:\", decoder_hidden.shape, decoder_hidden.dtype)    \n"
   ]
  },
  {
   "cell_type": "markdown",
   "metadata": {},
   "source": [
    "## Calculate loss over each token of the target language"
   ]
  },
  {
   "cell_type": "code",
   "execution_count": 33,
   "metadata": {},
   "outputs": [],
   "source": [
    "learning_rate = 0.2\n",
    "encoder_optimizer = torch.optim.SGD(encoder.parameters(), lr=learning_rate)\n",
    "decoder_optimizer = torch.optim.SGD(decoder.parameters(), lr=learning_rate)\n",
    "criterion = nn.NLLLoss()"
   ]
  },
  {
   "cell_type": "code",
   "execution_count": 34,
   "metadata": {},
   "outputs": [],
   "source": [
    "def train(input_tensor,\n",
    "          target_tensor,\n",
    "          encoder,\n",
    "          decoder,\n",
    "          encoder_optimizer,\n",
    "          decoder_optimizer,\n",
    "          criterion,\n",
    "          max_length,\n",
    "          teacher_forcing_ratio=0.5):\n",
    "\n",
    "    encoder_hidden = encoder.initHidden()\n",
    "\n",
    "    encoder_optimizer.zero_grad()\n",
    "    decoder_optimizer.zero_grad()\n",
    "\n",
    "    input_length = input_tensor.size(0)\n",
    "    target_length = target_tensor.size(0)\n",
    "\n",
    "    encoder_outputs = torch.zeros(max_length,\n",
    "                                  encoder.hidden_size,\n",
    "                                  device=device)\n",
    "    loss = 0\n",
    "\n",
    "    for ei in range(input_length):\n",
    "        encoder_output, encoder_hidden = encoder(\n",
    "            input_tensor[ei], encoder_hidden)\n",
    "        encoder_outputs[ei] = encoder_output[0, 0]\n",
    "\n",
    "    decoder_input = torch.tensor([[SOS_token]], device=device)\n",
    "\n",
    "    decoder_hidden = encoder_hidden\n",
    "    use_teacher_forcing = True\n",
    "\n",
    "    if not random.random() < teacher_forcing_ratio:\n",
    "        use_teacher_forcing = False\n",
    "\n",
    "    if use_teacher_forcing:\n",
    "        # Teacher forcing: Feed the target as the next input\n",
    "        for di in range(target_length):\n",
    "            decoder_output, decoder_hidden = decoder(\n",
    "                decoder_input, decoder_hidden)\n",
    "            loss += criterion(decoder_output, target_tensor[di])\n",
    "            decoder_input = target_tensor[di]  # Teacher forcing\n",
    "\n",
    "    else:\n",
    "        # Without teacher forcing: use its own predictions as the next input\n",
    "        for di in range(target_length):\n",
    "            decoder_output, decoder_hidden = decoder(\n",
    "                decoder_input, decoder_hidden)\n",
    "            _, topone = decoder_output.topk(1)\n",
    "            decoder_input = topone.squeeze().detach()  # detach from history as input\n",
    "\n",
    "            loss += criterion(decoder_output, target_tensor[di])\n",
    "            if decoder_input.item() == EOS_token:\n",
    "                break\n",
    "\n",
    "    loss.backward()\n",
    "\n",
    "    encoder_optimizer.step()\n",
    "    decoder_optimizer.step()\n",
    "\n",
    "    return loss.item() / target_length"
   ]
  },
  {
   "cell_type": "code",
   "execution_count": 35,
   "metadata": {},
   "outputs": [],
   "source": [
    "def get_loss(input_tensor,\n",
    "             target_tensor,\n",
    "             encoder,\n",
    "             decoder,\n",
    "             criterion,\n",
    "             max_length):\n",
    "\n",
    "    encoder_hidden = encoder.initHidden()\n",
    "    input_length = input_tensor.size(0)\n",
    "    target_length = target_tensor.size(0)\n",
    "    encoder_outputs = torch.zeros(max_length,\n",
    "                                  encoder.hidden_size,\n",
    "                                  device=device)\n",
    "    loss = 0\n",
    "\n",
    "    for ei in range(input_length):\n",
    "        encoder_output, encoder_hidden = encoder(\n",
    "            input_tensor[ei], encoder_hidden)\n",
    "        encoder_outputs[ei] = encoder_output[0, 0]\n",
    "\n",
    "    decoder_input = torch.tensor([[SOS_token]], device=device)\n",
    "\n",
    "    decoder_hidden = encoder_hidden\n",
    "    \n",
    "    for di in range(target_length):\n",
    "        decoder_output, decoder_hidden = decoder(\n",
    "            decoder_input, decoder_hidden)\n",
    "        _, topone = decoder_output.topk(1)\n",
    "        decoder_input = topone.squeeze().detach()  # detach from history as input\n",
    "\n",
    "        loss += criterion(decoder_output, target_tensor[di])\n",
    "        if decoder_input.item() == EOS_token:\n",
    "            break\n",
    "    return loss.item() / target_length"
   ]
  },
  {
   "cell_type": "markdown",
   "metadata": {},
   "source": [
    "Test get loss"
   ]
  },
  {
   "cell_type": "code",
   "execution_count": 36,
   "metadata": {},
   "outputs": [
    {
     "name": "stdout",
     "output_type": "stream",
     "text": [
      "mean loss 8.891215361913044\n"
     ]
    }
   ],
   "source": [
    "valid_pairs = [tensorsFromPair(pair) for pair in valid_pairs_nor_f[0:100]]\n",
    "valid_loss = []\n",
    "for t in valid_pairs:\n",
    "    input_sen, output_sen = t\n",
    "    loss = get_loss(input_sen,\n",
    "                    output_sen,\n",
    "                    encoder,\n",
    "                    decoder,\n",
    "                    criterion,\n",
    "                    MAX_LENGTH)\n",
    "    valid_loss.append(loss)\n",
    "print(\"mean loss\", np.mean(valid_loss))"
   ]
  },
  {
   "cell_type": "code",
   "execution_count": 37,
   "metadata": {},
   "outputs": [],
   "source": [
    "import time\n",
    "import math\n",
    "\n",
    "\n",
    "def asMinutes(s):\n",
    "    m = math.floor(s / 60)\n",
    "    s -= m * 60\n",
    "    return '%dm %ds' % (m, s)\n",
    "\n",
    "\n",
    "def timeSince(since):\n",
    "    now = time.time()\n",
    "    s = now - since\n",
    "    return '%s' % asMinutes(s)"
   ]
  },
  {
   "cell_type": "markdown",
   "metadata": {},
   "source": [
    "Test train"
   ]
  },
  {
   "cell_type": "code",
   "execution_count": 38,
   "metadata": {},
   "outputs": [
    {
     "name": "stdout",
     "output_type": "stream",
     "text": [
      "0m 7s\n"
     ]
    },
    {
     "data": {
      "image/png": "[encoded data removed]",
      "text/plain": [
       "<Figure size 720x216 with 1 Axes>"
      ]
     },
     "metadata": {},
     "output_type": "display_data"
    }
   ],
   "source": [
    "n_iters = 1000\n",
    "training_pairs_little = [tensorsFromPair(random.choice(train_pairs_nor_f)) for i in range(n_iters)]\n",
    "\n",
    "losses = []\n",
    "start = time.time()\n",
    "\n",
    "for t in training_pairs_little:\n",
    "    input_sen, output_sen = t    \n",
    "    loss = train(input_sen,\n",
    "                 output_sen,\n",
    "                 encoder,\n",
    "                 decoder,\n",
    "                 encoder_optimizer,\n",
    "                 decoder_optimizer,\n",
    "                 criterion,\n",
    "                 max_length=MAX_LENGTH)\n",
    "    losses.append(loss)\n",
    "\n",
    "print(timeSince(start))\n",
    "\n",
    "simple_step_plot([losses],\n",
    "                 \"loss\",\n",
    "                 \"loss example ({} pair of sentences only)\".format(n_iters),\n",
    "                 \"loss_example.png\",\n",
    "                  figsize=(10,3))"
   ]
  },
  {
   "cell_type": "code",
   "execution_count": 39,
   "metadata": {},
   "outputs": [],
   "source": [
    "def trainIters(encoder,\n",
    "               decoder,\n",
    "               n_iters,\n",
    "               pairs,\n",
    "               valid_pairs,\n",
    "               encoder_path,\n",
    "               decoder_path,\n",
    "               batch_size=32,\n",
    "               status_every=100,\n",
    "               learning_rate=0.01,\n",
    "               teacher_forcing_ratio=0.5):\n",
    "\n",
    "    plot_losses = []\n",
    "    old = 0\n",
    "    start = time.time()\n",
    "    all_loss = []\n",
    "    valid_loss = float(\"inf\")\n",
    "    \n",
    "    \n",
    "\n",
    "    encoder_optimizer = torch.optim.SGD(encoder.parameters(), lr=learning_rate)\n",
    "    decoder_optimizer = torch.optim.SGD(decoder.parameters(), lr=learning_rate)\n",
    "    criterion = nn.NLLLoss()\n",
    "    training_pairs = [tensorsFromPair(random.choice(pairs))\n",
    "                      for i in range(n_iters)]\n",
    "\n",
    "    for i, t in enumerate(training_pairs):\n",
    "        input_sen, output_sen = t\n",
    "        loss = train(input_sen,\n",
    "                     output_sen,\n",
    "                     encoder,\n",
    "                     decoder,\n",
    "                     encoder_optimizer,\n",
    "                     decoder_optimizer,\n",
    "                     criterion,\n",
    "                     max_length=MAX_LENGTH,\n",
    "                     teacher_forcing_ratio=teacher_forcing_ratio)\n",
    "        plot_losses.append(loss)\n",
    "\n",
    "        if i % status_every == 0 and i != 0:\n",
    "            valid_batch = [tensorsFromPair(random.choice(valid_pairs))\n",
    "                           for i in range(batch_size)]\n",
    "            batch_loss = 0\n",
    "            for t in valid_batch:\n",
    "                input_sen, output_sen = t\n",
    "                batch_loss += get_loss(input_sen,\n",
    "                                       output_sen,\n",
    "                                       encoder,\n",
    "                                       decoder,\n",
    "                                       criterion,\n",
    "                                       MAX_LENGTH)\n",
    "            current_valid_loss = batch_loss / batch_size\n",
    "            \n",
    "            if current_valid_loss < valid_loss:\n",
    "                valid_loss = current_valid_loss\n",
    "                torch.save(encoder.state_dict(), encoder_path)\n",
    "                torch.save(decoder.state_dict(), decoder_path)\n",
    "            print(\"mean training loss = {:.2f}\".format(np.mean(plot_losses)))\n",
    "            print(\"mean valid loss = {:.2f}\".format(current_valid_loss))\n",
    "            print(\"time in {} steps:\".format(status_every), timeSince(start))\n",
    "            print()\n",
    "            all_loss += plot_losses\n",
    "            plot_losses = []\n",
    "            old = i\n",
    "            start = time.time()\n",
    "    \n",
    "    simple_step_plot([all_loss],\n",
    "                     \"loss\",\n",
    "                     \"loss over training\" ,\n",
    "                     \"loss_example.png\",\n",
    "                     figsize=(15, 3))\n"
   ]
  },
  {
   "cell_type": "code",
   "execution_count": 40,
   "metadata": {},
   "outputs": [
    {
     "name": "stdout",
     "output_type": "stream",
     "text": [
      "mean training loss = 4.17\n",
      "mean valid loss = 4.68\n",
      "time in 100 steps: 0m 0s\n",
      "\n",
      "mean training loss = 4.36\n",
      "mean valid loss = 4.28\n",
      "time in 100 steps: 0m 0s\n",
      "\n",
      "mean training loss = 4.29\n",
      "mean valid loss = 4.91\n",
      "time in 100 steps: 0m 0s\n",
      "\n",
      "mean training loss = 4.34\n",
      "mean valid loss = 4.56\n",
      "time in 100 steps: 0m 0s\n",
      "\n",
      "mean training loss = 4.35\n",
      "mean valid loss = 4.29\n",
      "time in 100 steps: 0m 0s\n",
      "\n",
      "mean training loss = 3.99\n",
      "mean valid loss = 4.50\n",
      "time in 100 steps: 0m 0s\n",
      "\n",
      "mean training loss = 4.37\n",
      "mean valid loss = 3.91\n",
      "time in 100 steps: 0m 0s\n",
      "\n",
      "mean training loss = 4.25\n",
      "mean valid loss = 4.68\n",
      "time in 100 steps: 0m 0s\n",
      "\n",
      "mean training loss = 4.30\n",
      "mean valid loss = 4.66\n",
      "time in 100 steps: 0m 0s\n",
      "\n"
     ]
    },
    {
     "data": {
      "image/png": "[encoded data removed]",
      "text/plain": [
       "<Figure size 1080x216 with 1 Axes>"
      ]
     },
     "metadata": {},
     "output_type": "display_data"
    }
   ],
   "source": [
    "trainIters(encoder=encoder,\n",
    "           decoder=decoder,\n",
    "           n_iters=1000,\n",
    "           pairs=train_pairs_nor_f,\n",
    "           valid_pairs=valid_pairs_nor_f,\n",
    "           encoder_path=\"encoder.pkl\",\n",
    "           decoder_path=\"decoder.pkl\",\n",
    "           batch_size=32,\n",
    "           status_every=100,\n",
    "           learning_rate=0.01,\n",
    "           teacher_forcing_ratio=0.5)"
   ]
  },
  {
   "cell_type": "markdown",
   "metadata": {},
   "source": [
    "## translating"
   ]
  },
  {
   "cell_type": "code",
   "execution_count": 41,
   "metadata": {},
   "outputs": [],
   "source": [
    "def translate(encoder,\n",
    "              decoder,\n",
    "              sentence,\n",
    "              max_length=MAX_LENGTH):\n",
    "    with torch.no_grad():\n",
    "        input_tensor = tensorFromSentence(input_lang, sentence)\n",
    "        input_length = input_tensor.size()[0]\n",
    "        encoder_hidden = encoder.initHidden()\n",
    "\n",
    "        encoder_outputs = torch.zeros(\n",
    "            max_length, encoder.hidden_size, device=device)\n",
    "\n",
    "        for ei in range(input_length):\n",
    "            encoder_output, encoder_hidden = encoder(input_tensor[ei],\n",
    "                                                     encoder_hidden)\n",
    "            encoder_outputs[ei] += encoder_output[0, 0]\n",
    "\n",
    "        decoder_input = torch.tensor([[SOS_token]], device=device)  # SOS\n",
    "\n",
    "        decoder_hidden = encoder_hidden\n",
    "\n",
    "        decoded_words = []\n",
    "\n",
    "        for di in range(max_length):\n",
    "            decoder_output, decoder_hidden = decoder(decoder_input, decoder_hidden)\n",
    "            _, topone = decoder_output.data.topk(1)\n",
    "            if topone.item() == EOS_token:\n",
    "                decoded_words.append('<EOS>')\n",
    "                break\n",
    "            else:\n",
    "                decoded_words.append(output_lang.index2word[topone.item()])\n",
    "\n",
    "            decoder_input = topone.squeeze().detach()\n",
    "\n",
    "        return \" \".join(decoded_words)"
   ]
  },
  {
   "cell_type": "markdown",
   "metadata": {},
   "source": [
    "## translation of a non trained model"
   ]
  },
  {
   "cell_type": "code",
   "execution_count": 42,
   "metadata": {},
   "outputs": [],
   "source": [
    "encoder = EncoderRNN(eng_enc_v_size, hidden_size)\n",
    "decoder = DecoderRNN(hidden_size, eng_dec_v_size)\n",
    "\n",
    "np.random.shuffle(train_pairs_nor_f)"
   ]
  },
  {
   "cell_type": "code",
   "execution_count": 43,
   "metadata": {},
   "outputs": [
    {
     "name": "stdout",
     "output_type": "stream",
     "text": [
      "input_sentence : it was worth it \n",
      "neural translation : azeitona azeitona festa engorde festa ouro\n",
      "reference translation : isso valeu a pena  <EOS>\n",
      "blue score = 0.00\n",
      "\n",
      "input_sentence : i m drowning \n",
      "neural translation : azeitona azeitona festa engorde festa ouro\n",
      "reference translation : estou me afogando  <EOS>\n",
      "blue score = 0.00\n",
      "\n",
      "input_sentence : welcome to japan \n",
      "neural translation : azeitona azeitona festa engorde festa ouro\n",
      "reference translation : bem vindos ao japao  <EOS>\n",
      "blue score = 0.00\n",
      "\n"
     ]
    }
   ],
   "source": [
    "for t in train_pairs_nor_f[0:3]:\n",
    "    print(\"input_sentence : \" + t[0])\n",
    "    neural_translation = translate(encoder,\n",
    "                                   decoder,\n",
    "                                   t[0],\n",
    "                                   max_length=MAX_LENGTH)\n",
    "    print(\"neural translation : \" + neural_translation)\n",
    "    reference = t[1] + ' <EOS>'\n",
    "    print(\"reference translation : \" + reference)\n",
    "    reference = reference.split(\" \")\n",
    "    candidate = neural_translation.split(\" \")\n",
    "    score = sentence_bleu([reference], candidate)\n",
    "    print(\"blue score = {:.2f}\".format(score))\n",
    "    print()\n"
   ]
  },
  {
   "cell_type": "markdown",
   "metadata": {},
   "source": [
    "## Training some models and observing its translation"
   ]
  },
  {
   "cell_type": "code",
   "execution_count": 44,
   "metadata": {},
   "outputs": [],
   "source": [
    "def save_translation(pairs, encoder, decoder, max_length, out_path):\n",
    "    with open(out_path, \"w\") as file:\n",
    "        file.write(\"source,candidate,reference,blue,accuracy\\n\")        \n",
    "        for tuple_ in pairs:\n",
    "            source, reference = tuple_\n",
    "            candidate = translate(encoder,\n",
    "                                  decoder,\n",
    "                                  source,\n",
    "                                  max_length=max_length)\n",
    "            reference =  reference + ' <EOS>'\n",
    "            blue = sentence_bleu([reference.split(\" \")], candidate.split(\" \"))\n",
    "            if blue >= 0.95:\n",
    "                acc = 1\n",
    "            else:\n",
    "                acc = 0\n",
    "            line = source + \",\"\n",
    "            line += candidate + \",\"\n",
    "            line += reference + \",\"\n",
    "            line += \"{:.3f},\".format(blue)\n",
    "            line += \"{}\\n\".format(acc)\n",
    "            file.write(line)"
   ]
  },
  {
   "cell_type": "markdown",
   "metadata": {},
   "source": [
    "Test save_translation"
   ]
  },
  {
   "cell_type": "code",
   "execution_count": 45,
   "metadata": {},
   "outputs": [],
   "source": [
    "save_translation(train_pairs_nor_f[0:3],\n",
    "                 encoder,\n",
    "                 decoder,\n",
    "                 MAX_LENGTH,\n",
    "                 \"temp.csv\")"
   ]
  },
  {
   "cell_type": "markdown",
   "metadata": {},
   "source": [
    "### Training 1"
   ]
  },
  {
   "cell_type": "code",
   "execution_count": 48,
   "metadata": {},
   "outputs": [
    {
     "name": "stdout",
     "output_type": "stream",
     "text": [
      "mean training loss = 5.33\n",
      "mean valid loss = 5.38\n",
      "time in 200 steps: 0m 5s\n",
      "\n",
      "mean training loss = 4.58\n",
      "mean valid loss = 5.49\n",
      "time in 200 steps: 0m 5s\n",
      "\n",
      "mean training loss = 4.40\n",
      "mean valid loss = 5.54\n",
      "time in 200 steps: 0m 5s\n",
      "\n",
      "mean training loss = 4.33\n",
      "mean valid loss = 5.11\n",
      "time in 200 steps: 0m 5s\n",
      "\n",
      "mean training loss = 4.35\n",
      "mean valid loss = 4.95\n",
      "time in 200 steps: 0m 5s\n",
      "\n",
      "mean training loss = 4.23\n",
      "mean valid loss = 5.95\n",
      "time in 200 steps: 0m 5s\n",
      "\n",
      "mean training loss = 4.27\n",
      "mean valid loss = 5.55\n",
      "time in 200 steps: 0m 5s\n",
      "\n",
      "mean training loss = 4.15\n",
      "mean valid loss = 5.91\n",
      "time in 200 steps: 0m 5s\n",
      "\n",
      "mean training loss = 4.11\n",
      "mean valid loss = 5.12\n",
      "time in 200 steps: 0m 5s\n",
      "\n",
      "mean training loss = 4.01\n",
      "mean valid loss = 5.07\n",
      "time in 200 steps: 0m 5s\n",
      "\n",
      "mean training loss = 3.89\n",
      "mean valid loss = 5.08\n",
      "time in 200 steps: 0m 6s\n",
      "\n",
      "mean training loss = 4.07\n",
      "mean valid loss = 5.06\n",
      "time in 200 steps: 0m 6s\n",
      "\n",
      "mean training loss = 3.91\n",
      "mean valid loss = 5.33\n",
      "time in 200 steps: 0m 6s\n",
      "\n",
      "mean training loss = 3.82\n",
      "mean valid loss = 5.12\n",
      "time in 200 steps: 0m 6s\n",
      "\n",
      "mean training loss = 3.77\n",
      "mean valid loss = 4.86\n",
      "time in 200 steps: 0m 6s\n",
      "\n",
      "mean training loss = 3.73\n",
      "mean valid loss = 5.40\n",
      "time in 200 steps: 0m 5s\n",
      "\n",
      "mean training loss = 3.69\n",
      "mean valid loss = 4.95\n",
      "time in 200 steps: 0m 5s\n",
      "\n",
      "mean training loss = 3.75\n",
      "mean valid loss = 5.35\n",
      "time in 200 steps: 0m 5s\n",
      "\n",
      "mean training loss = 3.64\n",
      "mean valid loss = 4.79\n",
      "time in 200 steps: 0m 5s\n",
      "\n",
      "mean training loss = 3.63\n",
      "mean valid loss = 5.65\n",
      "time in 200 steps: 0m 5s\n",
      "\n",
      "mean training loss = 3.63\n",
      "mean valid loss = 4.81\n",
      "time in 200 steps: 0m 5s\n",
      "\n",
      "mean training loss = 3.44\n",
      "mean valid loss = 5.11\n",
      "time in 200 steps: 0m 5s\n",
      "\n",
      "mean training loss = 3.45\n",
      "mean valid loss = 5.11\n",
      "time in 200 steps: 0m 5s\n",
      "\n",
      "mean training loss = 3.56\n",
      "mean valid loss = 4.72\n",
      "time in 200 steps: 0m 5s\n",
      "\n"
     ]
    },
    {
     "name": "stderr",
     "output_type": "stream",
     "text": [
      "/usr/local/lib/python3.5/dist-packages/nltk/translate/bleu_score.py:490: UserWarning: \n",
      "Corpus/Sentence contains 0 counts of 3-gram overlaps.\n",
      "BLEU scores might be undesirable; use SmoothingFunction().\n",
      "  warnings.warn(_msg)\n",
      "/usr/local/lib/python3.5/dist-packages/nltk/translate/bleu_score.py:490: UserWarning: \n",
      "Corpus/Sentence contains 0 counts of 2-gram overlaps.\n",
      "BLEU scores might be undesirable; use SmoothingFunction().\n",
      "  warnings.warn(_msg)\n",
      "/usr/local/lib/python3.5/dist-packages/nltk/translate/bleu_score.py:490: UserWarning: \n",
      "Corpus/Sentence contains 0 counts of 4-gram overlaps.\n",
      "BLEU scores might be undesirable; use SmoothingFunction().\n",
      "  warnings.warn(_msg)\n"
     ]
    },
    {
     "name": "stdout",
     "output_type": "stream",
     "text": [
      "mean blue score over training data = 0.569\n",
      "mean acc over training data = 0.000\n"
     ]
    },
    {
     "data": {
      "image/png": "[encoded data removed]",
      "text/plain": [
       "<Figure size 1080x216 with 1 Axes>"
      ]
     },
     "metadata": {},
     "output_type": "display_data"
    }
   ],
   "source": [
    "hidden_size = 100\n",
    "num_layers = 1\n",
    "\n",
    "encoder = EncoderRNN(eng_enc_v_size, hidden_size, num_layers)\n",
    "decoder = DecoderRNN(hidden_size, eng_dec_v_size, num_layers)\n",
    "\n",
    "trainIters(encoder=encoder,\n",
    "           decoder=decoder,\n",
    "           n_iters=5000,\n",
    "           pairs=train_pairs_nor_f,\n",
    "           valid_pairs=valid_pairs_nor_f,\n",
    "           encoder_path=\"encoder1.pkl\",\n",
    "           decoder_path=\"decoder1.pkl\",\n",
    "           status_every=200,\n",
    "           learning_rate=0.02,\n",
    "           teacher_forcing_ratio=1)\n",
    "\n",
    "\n",
    "np.random.shuffle(train_pairs_nor_f)\n",
    "\n",
    "save_translation(train_pairs_nor_f[0:1000],\n",
    "                 encoder,\n",
    "                 decoder,\n",
    "                 MAX_LENGTH,\n",
    "                 \"training1.csv\")\n",
    "\n",
    "\n",
    "\n",
    "df_results = pd.read_csv(\"training1.csv\")\n",
    "acc = np.mean(df_results.accuracy.values)\n",
    "blue = np.mean(df_results.blue.values)\n",
    "print(\"mean blue score over training data = {:.3f}\".format(blue))\n",
    "print(\"mean acc over training data = {:.3f}\".format(acc))"
   ]
  },
  {
   "cell_type": "markdown",
   "metadata": {},
   "source": [
    "### Evaluating the trained models"
   ]
  },
  {
   "cell_type": "code",
   "execution_count": 49,
   "metadata": {},
   "outputs": [
    {
     "name": "stderr",
     "output_type": "stream",
     "text": [
      "/usr/local/lib/python3.5/dist-packages/nltk/translate/bleu_score.py:490: UserWarning: \n",
      "Corpus/Sentence contains 0 counts of 3-gram overlaps.\n",
      "BLEU scores might be undesirable; use SmoothingFunction().\n",
      "  warnings.warn(_msg)\n",
      "/usr/local/lib/python3.5/dist-packages/nltk/translate/bleu_score.py:490: UserWarning: \n",
      "Corpus/Sentence contains 0 counts of 4-gram overlaps.\n",
      "BLEU scores might be undesirable; use SmoothingFunction().\n",
      "  warnings.warn(_msg)\n",
      "/usr/local/lib/python3.5/dist-packages/nltk/translate/bleu_score.py:490: UserWarning: \n",
      "Corpus/Sentence contains 0 counts of 2-gram overlaps.\n",
      "BLEU scores might be undesirable; use SmoothingFunction().\n",
      "  warnings.warn(_msg)\n"
     ]
    },
    {
     "name": "stdout",
     "output_type": "stream",
     "text": [
      "mean blue score over valid data = 0.556\n",
      "mean acc over valid data = 0.000\n"
     ]
    }
   ],
   "source": [
    "hidden_size = 100\n",
    "num_layers = 1\n",
    "\n",
    "encoder = EncoderRNN(eng_enc_v_size, hidden_size, num_layers)\n",
    "decoder = DecoderRNN(hidden_size, eng_dec_v_size, num_layers)\n",
    "\n",
    "\n",
    "encoder.load_state_dict(torch.load(\"encoder1.pkl\"))\n",
    "decoder.load_state_dict(torch.load(\"decoder1.pkl\"))\n",
    "\n",
    "np.random.shuffle(valid_pairs_nor_f)\n",
    "\n",
    "save_translation(valid_pairs_nor_f[0:1000],\n",
    "                 encoder,\n",
    "                 decoder,\n",
    "                 MAX_LENGTH,\n",
    "                 \"valid1.csv\")\n",
    "\n",
    "df_results = pd.read_csv(\"valid1.csv\")\n",
    "acc = np.mean(df_results.accuracy.values)\n",
    "blue = np.mean(df_results.blue.values)\n",
    "print(\"mean blue score over valid data = {:.3f}\".format(blue))\n",
    "print(\"mean acc over valid data = {:.3f}\".format(acc))"
   ]
  },
  {
   "cell_type": "markdown",
   "metadata": {},
   "source": [
    "## Training 2"
   ]
  },
  {
   "cell_type": "code",
   "execution_count": 50,
   "metadata": {},
   "outputs": [
    {
     "name": "stdout",
     "output_type": "stream",
     "text": [
      "mean training loss = 5.04\n",
      "mean valid loss = 4.95\n",
      "time in 200 steps: 0m 22s\n",
      "\n",
      "mean training loss = 4.89\n",
      "mean valid loss = 4.76\n",
      "time in 200 steps: 0m 23s\n",
      "\n",
      "mean training loss = 4.69\n",
      "mean valid loss = 4.68\n",
      "time in 200 steps: 0m 25s\n",
      "\n",
      "mean training loss = 4.60\n",
      "mean valid loss = 4.52\n",
      "time in 200 steps: 0m 26s\n",
      "\n",
      "mean training loss = 4.52\n",
      "mean valid loss = 4.30\n",
      "time in 200 steps: 0m 25s\n",
      "\n",
      "mean training loss = 4.36\n",
      "mean valid loss = 4.44\n",
      "time in 200 steps: 0m 25s\n",
      "\n",
      "mean training loss = 4.31\n",
      "mean valid loss = 4.31\n",
      "time in 200 steps: 0m 26s\n",
      "\n",
      "mean training loss = 4.24\n",
      "mean valid loss = 4.15\n",
      "time in 200 steps: 0m 27s\n",
      "\n",
      "mean training loss = 4.21\n",
      "mean valid loss = 4.44\n",
      "time in 200 steps: 0m 26s\n",
      "\n",
      "mean training loss = 4.15\n",
      "mean valid loss = 3.91\n",
      "time in 200 steps: 0m 26s\n",
      "\n",
      "mean training loss = 4.12\n",
      "mean valid loss = 4.07\n",
      "time in 200 steps: 0m 26s\n",
      "\n",
      "mean training loss = 4.15\n",
      "mean valid loss = 3.97\n",
      "time in 200 steps: 0m 26s\n",
      "\n",
      "mean training loss = 4.12\n",
      "mean valid loss = 4.17\n",
      "time in 200 steps: 0m 26s\n",
      "\n",
      "mean training loss = 4.08\n",
      "mean valid loss = 4.11\n",
      "time in 200 steps: 0m 26s\n",
      "\n",
      "mean training loss = 3.90\n",
      "mean valid loss = 3.88\n",
      "time in 200 steps: 0m 25s\n",
      "\n",
      "mean training loss = 3.91\n",
      "mean valid loss = 3.93\n",
      "time in 200 steps: 0m 26s\n",
      "\n",
      "mean training loss = 3.88\n",
      "mean valid loss = 4.14\n",
      "time in 200 steps: 0m 26s\n",
      "\n",
      "mean training loss = 3.82\n",
      "mean valid loss = 3.78\n",
      "time in 200 steps: 0m 25s\n",
      "\n",
      "mean training loss = 3.79\n",
      "mean valid loss = 3.81\n",
      "time in 200 steps: 0m 27s\n",
      "\n",
      "mean training loss = 3.71\n",
      "mean valid loss = 4.33\n",
      "time in 200 steps: 0m 26s\n",
      "\n",
      "mean training loss = 3.90\n",
      "mean valid loss = 3.44\n",
      "time in 200 steps: 0m 26s\n",
      "\n",
      "mean training loss = 3.79\n",
      "mean valid loss = 3.73\n",
      "time in 200 steps: 0m 27s\n",
      "\n",
      "mean training loss = 3.80\n",
      "mean valid loss = 3.55\n",
      "time in 200 steps: 0m 26s\n",
      "\n",
      "mean training loss = 3.67\n",
      "mean valid loss = 3.82\n",
      "time in 200 steps: 0m 27s\n",
      "\n"
     ]
    },
    {
     "name": "stderr",
     "output_type": "stream",
     "text": [
      "/usr/local/lib/python3.5/dist-packages/nltk/translate/bleu_score.py:490: UserWarning: \n",
      "Corpus/Sentence contains 0 counts of 3-gram overlaps.\n",
      "BLEU scores might be undesirable; use SmoothingFunction().\n",
      "  warnings.warn(_msg)\n",
      "/usr/local/lib/python3.5/dist-packages/nltk/translate/bleu_score.py:490: UserWarning: \n",
      "Corpus/Sentence contains 0 counts of 4-gram overlaps.\n",
      "BLEU scores might be undesirable; use SmoothingFunction().\n",
      "  warnings.warn(_msg)\n",
      "/usr/local/lib/python3.5/dist-packages/nltk/translate/bleu_score.py:490: UserWarning: \n",
      "Corpus/Sentence contains 0 counts of 2-gram overlaps.\n",
      "BLEU scores might be undesirable; use SmoothingFunction().\n",
      "  warnings.warn(_msg)\n"
     ]
    },
    {
     "name": "stdout",
     "output_type": "stream",
     "text": [
      "mean blue score over training data = 0.586\n",
      "mean acc over training data = 0.000\n"
     ]
    },
    {
     "data": {
      "image/png": "[encoded data removed]",
      "text/plain": [
       "<Figure size 1080x216 with 1 Axes>"
      ]
     },
     "metadata": {},
     "output_type": "display_data"
    }
   ],
   "source": [
    "hidden_size = 300\n",
    "num_layers = 3\n",
    "\n",
    "encoder = EncoderRNN(eng_enc_v_size, hidden_size, num_layers)\n",
    "decoder = DecoderRNN(hidden_size, eng_dec_v_size, num_layers)\n",
    "\n",
    "trainIters(encoder=encoder,\n",
    "           decoder=decoder,\n",
    "           n_iters=5000,\n",
    "           pairs=train_pairs_nor_f,\n",
    "           valid_pairs=valid_pairs_nor_f,\n",
    "           encoder_path=\"encoder2.pkl\",\n",
    "           decoder_path=\"decoder2.pkl\",\n",
    "           status_every=200,\n",
    "           learning_rate=0.02,\n",
    "           teacher_forcing_ratio=0.2)\n",
    "\n",
    "\n",
    "np.random.shuffle(train_pairs_nor_f)\n",
    "\n",
    "save_translation(train_pairs_nor_f[0:1000],\n",
    "                 encoder,\n",
    "                 decoder,\n",
    "                 MAX_LENGTH,\n",
    "                 \"training2.csv\")\n",
    "\n",
    "\n",
    "\n",
    "df_results = pd.read_csv(\"training2.csv\")\n",
    "acc = np.mean(df_results.accuracy.values)\n",
    "blue = np.mean(df_results.blue.values)\n",
    "print(\"mean blue score over training data = {:.3f}\".format(blue))\n",
    "print(\"mean acc over training data = {:.3f}\".format(acc))"
   ]
  },
  {
   "cell_type": "code",
   "execution_count": 51,
   "metadata": {},
   "outputs": [
    {
     "name": "stderr",
     "output_type": "stream",
     "text": [
      "/usr/local/lib/python3.5/dist-packages/nltk/translate/bleu_score.py:490: UserWarning: \n",
      "Corpus/Sentence contains 0 counts of 3-gram overlaps.\n",
      "BLEU scores might be undesirable; use SmoothingFunction().\n",
      "  warnings.warn(_msg)\n",
      "/usr/local/lib/python3.5/dist-packages/nltk/translate/bleu_score.py:490: UserWarning: \n",
      "Corpus/Sentence contains 0 counts of 4-gram overlaps.\n",
      "BLEU scores might be undesirable; use SmoothingFunction().\n",
      "  warnings.warn(_msg)\n",
      "/usr/local/lib/python3.5/dist-packages/nltk/translate/bleu_score.py:490: UserWarning: \n",
      "Corpus/Sentence contains 0 counts of 2-gram overlaps.\n",
      "BLEU scores might be undesirable; use SmoothingFunction().\n",
      "  warnings.warn(_msg)\n"
     ]
    },
    {
     "name": "stdout",
     "output_type": "stream",
     "text": [
      "mean blue score over valid data = 0.567\n",
      "mean acc over valid data = 0.000\n"
     ]
    }
   ],
   "source": [
    "hidden_size = 300\n",
    "num_layers = 3\n",
    "\n",
    "encoder = EncoderRNN(eng_enc_v_size, hidden_size, num_layers)\n",
    "decoder = DecoderRNN(hidden_size, eng_dec_v_size, num_layers)\n",
    "\n",
    "\n",
    "encoder.load_state_dict(torch.load(\"encoder2.pkl\"))\n",
    "decoder.load_state_dict(torch.load(\"decoder2.pkl\"))\n",
    "\n",
    "np.random.shuffle(valid_pairs_nor_f)\n",
    "\n",
    "save_translation(valid_pairs_nor_f[0:1000],\n",
    "                 encoder,\n",
    "                 decoder,\n",
    "                 MAX_LENGTH,\n",
    "                 \"valid2.csv\")\n",
    "\n",
    "df_results = pd.read_csv(\"valid2.csv\")\n",
    "acc = np.mean(df_results.accuracy.values)\n",
    "blue = np.mean(df_results.blue.values)\n",
    "print(\"mean blue score over valid data = {:.3f}\".format(blue))\n",
    "print(\"mean acc over valid data = {:.3f}\".format(acc))"
   ]
  },
  {
   "cell_type": "code",
   "execution_count": null,
   "metadata": {},
   "outputs": [],
   "source": []
  },
  {
   "cell_type": "code",
   "execution_count": null,
   "metadata": {},
   "outputs": [],
   "source": []
  },
  {
   "cell_type": "code",
   "execution_count": null,
   "metadata": {},
   "outputs": [],
   "source": []
  },
  {
   "cell_type": "code",
   "execution_count": null,
   "metadata": {},
   "outputs": [],
   "source": []
  }
 ],
 "metadata": {
  "kernelspec": {
   "display_name": "Python 3",
   "language": "python",
   "name": "python3"
  },
  "language_info": {
   "codemirror_mode": {
    "name": "ipython",
    "version": 3
   },
   "file_extension": ".py",
   "mimetype": "text/x-python",
   "name": "python",
   "nbconvert_exporter": "python",
   "pygments_lexer": "ipython3",
   "version": "3.5.2"
  }
 },
 "nbformat": 4,
 "nbformat_minor": 2
}
