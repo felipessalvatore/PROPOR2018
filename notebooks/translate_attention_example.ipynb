{
 "cells": [
  {
   "cell_type": "markdown",
   "metadata": {},
   "source": [
    "# Translation ecoder-decocer with attention over the b4 dataset"
   ]
  },
  {
   "cell_type": "code",
   "execution_count": 1,
   "metadata": {},
   "outputs": [],
   "source": [
    "import numpy as np\n",
    "import torch\n",
    "import torch.nn as nn\n",
    "import torch.nn.functional as F\n",
    "import matplotlib.ticker as ticker\n",
    "from torchtext import data\n",
    "import pandas as pd\n",
    "import unicodedata\n",
    "import string\n",
    "import re\n",
    "import random\n",
    "import copy\n",
    "from contra_qa.plots.functions  import simple_step_plot\n",
    "import  matplotlib.pyplot as plt\n",
    "device = torch.device(\"cuda\" if torch.cuda.is_available() else \"cpu\")\n",
    "from nltk.translate.bleu_score import sentence_bleu\n",
    "\n",
    "% matplotlib inline"
   ]
  },
  {
   "cell_type": "markdown",
   "metadata": {},
   "source": [
    "### Preparing data"
   ]
  },
  {
   "cell_type": "code",
   "execution_count": 2,
   "metadata": {},
   "outputs": [],
   "source": [
    "df2 = pd.read_csv(\"data/boolean4_train.csv\")\n",
    "df2_test = pd.read_csv(\"data/boolean4_test.csv\")\n",
    "\n",
    "\n",
    "df2[\"text\"] = df2[\"sentence1\"] + df2[\"sentence2\"] \n",
    "df2_test[\"text\"] = df2_test[\"sentence1\"] + df2_test[\"sentence2\"] \n",
    "\n",
    "all_sentences = list(df2.text.values) + list(df2_test.text.values)\n",
    "\n",
    "df2train = df2.iloc[:8500]\n",
    "df2valid = df2.iloc[8500:]"
   ]
  },
  {
   "cell_type": "code",
   "execution_count": 3,
   "metadata": {},
   "outputs": [
    {
     "data": {
      "text/html": [
       "<div>\n",
       "<style scoped>\n",
       "    .dataframe tbody tr th:only-of-type {\n",
       "        vertical-align: middle;\n",
       "    }\n",
       "\n",
       "    .dataframe tbody tr th {\n",
       "        vertical-align: top;\n",
       "    }\n",
       "\n",
       "    .dataframe thead th {\n",
       "        text-align: right;\n",
       "    }\n",
       "</style>\n",
       "<table border=\"1\" class=\"dataframe\">\n",
       "  <thead>\n",
       "    <tr style=\"text-align: right;\">\n",
       "      <th></th>\n",
       "      <th>sentence1</th>\n",
       "      <th>sentence2</th>\n",
       "      <th>and_A</th>\n",
       "      <th>and_B</th>\n",
       "      <th>label</th>\n",
       "      <th>text</th>\n",
       "    </tr>\n",
       "  </thead>\n",
       "  <tbody>\n",
       "    <tr>\n",
       "      <th>8495</th>\n",
       "      <td>Tracy grew up and won the game</td>\n",
       "      <td>Tracy didn't grow up</td>\n",
       "      <td>Tracy grew up</td>\n",
       "      <td>Tracy won the game</td>\n",
       "      <td>1</td>\n",
       "      <td>Tracy grew up and won the gameTracy didn't gro...</td>\n",
       "    </tr>\n",
       "    <tr>\n",
       "      <th>8496</th>\n",
       "      <td>Dennis heard Dora and wore a white jacket</td>\n",
       "      <td>Dennis didn't wear a white jacket</td>\n",
       "      <td>Dennis heard Dora</td>\n",
       "      <td>Dennis wore a white jacket</td>\n",
       "      <td>1</td>\n",
       "      <td>Dennis heard Dora and wore a white jacketDenni...</td>\n",
       "    </tr>\n",
       "    <tr>\n",
       "      <th>8497</th>\n",
       "      <td>Candice caught a yellow fish and slept the night</td>\n",
       "      <td>Ben didn't sleep the night</td>\n",
       "      <td>Candice caught a yellow fish</td>\n",
       "      <td>Candice slept the night</td>\n",
       "      <td>0</td>\n",
       "      <td>Candice caught a yellow fish and slept the nig...</td>\n",
       "    </tr>\n",
       "    <tr>\n",
       "      <th>8498</th>\n",
       "      <td>Anna spent all my money and fought the law</td>\n",
       "      <td>Anna didn't spend all my money</td>\n",
       "      <td>Anna spent all my money</td>\n",
       "      <td>Anna fought the law</td>\n",
       "      <td>1</td>\n",
       "      <td>Anna spent all my money and fought the lawAnna...</td>\n",
       "    </tr>\n",
       "    <tr>\n",
       "      <th>8499</th>\n",
       "      <td>Joel sat on the chair and understood what I said</td>\n",
       "      <td>Joel didn't understand what I said</td>\n",
       "      <td>Joel sat on the chair</td>\n",
       "      <td>Joel understood what I said</td>\n",
       "      <td>1</td>\n",
       "      <td>Joel sat on the chair and understood what I sa...</td>\n",
       "    </tr>\n",
       "  </tbody>\n",
       "</table>\n",
       "</div>"
      ],
      "text/plain": [
       "                                             sentence1  \\\n",
       "8495                    Tracy grew up and won the game   \n",
       "8496         Dennis heard Dora and wore a white jacket   \n",
       "8497  Candice caught a yellow fish and slept the night   \n",
       "8498        Anna spent all my money and fought the law   \n",
       "8499  Joel sat on the chair and understood what I said   \n",
       "\n",
       "                               sentence2                         and_A  \\\n",
       "8495                Tracy didn't grow up                 Tracy grew up   \n",
       "8496   Dennis didn't wear a white jacket             Dennis heard Dora   \n",
       "8497          Ben didn't sleep the night  Candice caught a yellow fish   \n",
       "8498      Anna didn't spend all my money       Anna spent all my money   \n",
       "8499  Joel didn't understand what I said         Joel sat on the chair   \n",
       "\n",
       "                            and_B  label  \\\n",
       "8495           Tracy won the game      1   \n",
       "8496   Dennis wore a white jacket      1   \n",
       "8497      Candice slept the night      0   \n",
       "8498          Anna fought the law      1   \n",
       "8499  Joel understood what I said      1   \n",
       "\n",
       "                                                   text  \n",
       "8495  Tracy grew up and won the gameTracy didn't gro...  \n",
       "8496  Dennis heard Dora and wore a white jacketDenni...  \n",
       "8497  Candice caught a yellow fish and slept the nig...  \n",
       "8498  Anna spent all my money and fought the lawAnna...  \n",
       "8499  Joel sat on the chair and understood what I sa...  "
      ]
     },
     "execution_count": 3,
     "metadata": {},
     "output_type": "execute_result"
    }
   ],
   "source": [
    "df2train.tail()"
   ]
  },
  {
   "cell_type": "code",
   "execution_count": 4,
   "metadata": {},
   "outputs": [],
   "source": [
    "SOS_token = 0\n",
    "EOS_token = 1\n",
    "\n",
    "class Lang:\n",
    "    def __init__(self, name):\n",
    "        self.name = name\n",
    "        self.word2index = {}\n",
    "        self.word2count = {}\n",
    "        self.index2word = {0: \"SOS\", 1: \"EOS\"}\n",
    "        self.n_words = 2  # Count SOS and EOS\n",
    "\n",
    "    def addSentence(self, sentence):\n",
    "        for word in sentence.split(' '):\n",
    "            self.addWord(word)\n",
    "\n",
    "    def addWord(self, word):\n",
    "        if word not in self.word2index:\n",
    "            self.word2index[word] = self.n_words\n",
    "            self.word2count[word] = 1\n",
    "            self.index2word[self.n_words] = word\n",
    "            self.n_words += 1\n",
    "        else:\n",
    "            self.word2count[word] += 1"
   ]
  },
  {
   "cell_type": "code",
   "execution_count": 5,
   "metadata": {},
   "outputs": [
    {
     "name": "stdout",
     "output_type": "stream",
     "text": [
      "Before: Sheryl went to cluj-Napoca and Hunedoara\n",
      "\n",
      "After: sheryl went to cluj napoca and hunedoara\n"
     ]
    }
   ],
   "source": [
    "# Turn a Unicode string to plain ASCII, thanks to\n",
    "# http://stackoverflow.com/a/518232/2809427\n",
    "def unicodeToAscii(s):\n",
    "    return ''.join(\n",
    "        c for c in unicodedata.normalize('NFD', s)\n",
    "        if unicodedata.category(c) != 'Mn')\n",
    "\n",
    "# Lowercase, trim, and remove non-letter characters\n",
    "\n",
    "def normalizeString(s):\n",
    "    s = unicodeToAscii(s.lower().strip())\n",
    "    s = re.sub(r\"([.!?])\", r\" \\1\", s)\n",
    "    s = re.sub(r\"[^a-zA-Z.!?]+\", r\" \", s)\n",
    "    return s\n",
    "\n",
    "\n",
    "example = \"Sheryl went to cluj-Napoca and Hunedoara\"\n",
    "print(\"Before:\", example)\n",
    "print()\n",
    "print(\"After:\", normalizeString(example))"
   ]
  },
  {
   "cell_type": "code",
   "execution_count": 6,
   "metadata": {},
   "outputs": [],
   "source": [
    "pairs_A = list(zip(list(df2train.sentence1.values), list(df2train.and_A.values)))\n",
    "pairs_B = list(zip(list(df2train.sentence1.values), list(df2train.and_B.values)))\n",
    "pairs_A = [(normalizeString(s1), normalizeString(s2)) for s1, s2 in pairs_A]\n",
    "pairs_B = [(normalizeString(s1), normalizeString(s2)) for s1, s2 in pairs_B]\n",
    "pairs_A_val = list(zip(list(df2valid.sentence1.values), list(df2valid.and_A.values)))\n",
    "pairs_B_val = list(zip(list(df2valid.sentence1.values), list(df2valid.and_B.values)))\n",
    "pairs_A_val = [(normalizeString(s1), normalizeString(s2)) for s1, s2 in pairs_A_val]\n",
    "pairs_B_val = [(normalizeString(s1), normalizeString(s2)) for s1, s2 in pairs_B_val]\n"
   ]
  },
  {
   "cell_type": "code",
   "execution_count": 7,
   "metadata": {},
   "outputs": [],
   "source": [
    "all_text_pairs = zip(all_sentences, all_sentences)\n",
    "all_text_pairs = [(normalizeString(s1), normalizeString(s2)) for s1, s2 in all_text_pairs]"
   ]
  },
  {
   "cell_type": "code",
   "execution_count": 8,
   "metadata": {},
   "outputs": [],
   "source": [
    "def readLangs(lang1, lang2, pairs, reverse=False):\n",
    "    # Reverse pairs, make Lang instances\n",
    "    if reverse:\n",
    "        pairs = [tuple(reversed(p)) for p in pairs]\n",
    "        input_lang = Lang(lang2)\n",
    "        output_lang = Lang(lang1)\n",
    "    else:\n",
    "        input_lang = Lang(lang1)\n",
    "        output_lang = Lang(lang2)\n",
    "\n",
    "    return input_lang, output_lang, pairs"
   ]
  },
  {
   "cell_type": "code",
   "execution_count": 9,
   "metadata": {},
   "outputs": [],
   "source": [
    "f = lambda x: len(x.split(\" \"))\n",
    "\n",
    "MAX_LENGTH = np.max(list(map(f, all_sentences)))"
   ]
  },
  {
   "cell_type": "code",
   "execution_count": 10,
   "metadata": {},
   "outputs": [],
   "source": [
    "# MAX_LENGTH = 20\n",
    "\n",
    "\n",
    "def filterPair(p):\n",
    "    cond1 = len(p[0].split(' ')) < MAX_LENGTH\n",
    "    cond2 = len(p[1].split(' ')) < MAX_LENGTH \n",
    "    return cond1 and cond2\n",
    "\n",
    "\n",
    "def filterPairs(pairs):\n",
    "    return [pair for pair in pairs if filterPair(pair)]\n"
   ]
  },
  {
   "cell_type": "code",
   "execution_count": 11,
   "metadata": {},
   "outputs": [],
   "source": [
    "def prepareData(lang1, lang2, pairs, reverse=False):\n",
    "    input_lang, output_lang, pairs = readLangs(lang1, lang2, pairs, reverse)\n",
    "    print(\"Read %s sentence pairs\" % len(pairs))\n",
    "    pairs = filterPairs(pairs)\n",
    "    print(\"Trimmed to %s sentence pairs\" % len(pairs))\n",
    "    print(\"Counting words...\")\n",
    "    for pair in pairs:\n",
    "        input_lang.addSentence(pair[0])\n",
    "        output_lang.addSentence(pair[1])\n",
    "    print(\"Counted words:\")\n",
    "    print(input_lang.name, input_lang.n_words)\n",
    "    print(output_lang.name, output_lang.n_words)\n",
    "    return input_lang, output_lang, pairs"
   ]
  },
  {
   "cell_type": "code",
   "execution_count": 12,
   "metadata": {},
   "outputs": [
    {
     "name": "stdout",
     "output_type": "stream",
     "text": [
      "Read 8500 sentence pairs\n",
      "Trimmed to 8500 sentence pairs\n",
      "Counting words...\n",
      "Counted words:\n",
      "eng_enc 1027\n",
      "eng_dec 1020\n",
      "\n",
      "Read 11000 sentence pairs\n",
      "Trimmed to 10978 sentence pairs\n",
      "Counting words...\n",
      "Counted words:\n",
      "eng_enc 10962\n",
      "eng_dec 10962\n",
      "\n",
      "Read 1500 sentence pairs\n",
      "Trimmed to 1500 sentence pairs\n",
      "Counting words...\n",
      "Counted words:\n",
      "eng_enc 979\n",
      "eng_dec 955\n"
     ]
    }
   ],
   "source": [
    "_, _, training_pairs_A = prepareData(\"eng_enc\",\n",
    "                                     \"eng_dec\",\n",
    "                                     pairs_A)\n",
    "print()\n",
    "\n",
    "\n",
    "input_lang, _, _ = prepareData(\"eng_enc\",\n",
    "                               \"eng_dec\",\n",
    "                               all_text_pairs)\n",
    "\n",
    "output_lang = copy.deepcopy(input_lang)\n",
    "\n",
    "print()\n",
    "\n",
    "_, _, valid_pairs_A = prepareData(\"eng_enc\",\n",
    "                                \"eng_dec\",\n",
    "                                pairs_A_val)"
   ]
  },
  {
   "cell_type": "code",
   "execution_count": 13,
   "metadata": {},
   "outputs": [
    {
     "name": "stdout",
     "output_type": "stream",
     "text": [
      "Read 8500 sentence pairs\n",
      "Trimmed to 8500 sentence pairs\n",
      "Counting words...\n",
      "Counted words:\n",
      "eng_enc 1027\n",
      "eng_dec 1022\n",
      "\n",
      "Read 1500 sentence pairs\n",
      "Trimmed to 1500 sentence pairs\n",
      "Counting words...\n",
      "Counted words:\n",
      "eng_enc 979\n",
      "eng_dec 946\n"
     ]
    }
   ],
   "source": [
    "_, _, training_pairs_B = prepareData(\"eng_enc\",\n",
    "                                     \"eng_dec\",\n",
    "                                     pairs_B)\n",
    "print()\n",
    "_, _, valid_pairs_B = prepareData(\"eng_enc\",\n",
    "                                \"eng_dec\",\n",
    "                                pairs_B_val)"
   ]
  },
  {
   "cell_type": "code",
   "execution_count": 14,
   "metadata": {},
   "outputs": [],
   "source": [
    "# all_sentences_1_and_2 = list(df2.sentence1.values) + list(df2.sentence2.values) + list(df2_test.sentence1.values) + list(df2_test.sentence2.values) \n",
    "\n",
    "# f = lambda x: len(x.split(\" \"))\n",
    "\n",
    "# MAX_LENGTH = np.max(list(map(f, all_sentences_1_and_2))) + 1"
   ]
  },
  {
   "cell_type": "markdown",
   "metadata": {},
   "source": [
    "### sentences 2 tensors"
   ]
  },
  {
   "cell_type": "code",
   "execution_count": 15,
   "metadata": {},
   "outputs": [
    {
     "name": "stdout",
     "output_type": "stream",
     "text": [
      "('danny spent all my money and was a gentle person', 'danny spent all my money')\n"
     ]
    }
   ],
   "source": [
    "example = random.choice(training_pairs_A)\n",
    "print(example)"
   ]
  },
  {
   "cell_type": "code",
   "execution_count": 16,
   "metadata": {},
   "outputs": [],
   "source": [
    "def indexesFromSentence(lang, sentence):\n",
    "    return [lang.word2index[word] for word in sentence.split(' ')]"
   ]
  },
  {
   "cell_type": "code",
   "execution_count": 17,
   "metadata": {},
   "outputs": [
    {
     "data": {
      "text/plain": [
       "[2674, 452, 453, 57, 454, 7, 17, 4, 5443, 559]"
      ]
     },
     "execution_count": 17,
     "metadata": {},
     "output_type": "execute_result"
    }
   ],
   "source": [
    "indexesFromSentence(input_lang,example[0])"
   ]
  },
  {
   "cell_type": "code",
   "execution_count": 18,
   "metadata": {},
   "outputs": [
    {
     "data": {
      "text/plain": [
       "[2674, 452, 453, 57, 454]"
      ]
     },
     "execution_count": 18,
     "metadata": {},
     "output_type": "execute_result"
    }
   ],
   "source": [
    "indexesFromSentence(output_lang, example[1])"
   ]
  },
  {
   "cell_type": "code",
   "execution_count": 19,
   "metadata": {},
   "outputs": [],
   "source": [
    "def tensorFromSentence(lang, sentence):\n",
    "    indexes = indexesFromSentence(lang, sentence)\n",
    "    indexes.append(EOS_token)\n",
    "    return torch.tensor(indexes, dtype=torch.long, device=device).view(-1, 1)"
   ]
  },
  {
   "cell_type": "code",
   "execution_count": 20,
   "metadata": {},
   "outputs": [
    {
     "name": "stdout",
     "output_type": "stream",
     "text": [
      "tensor([[2674],\n",
      "        [ 452],\n",
      "        [ 453],\n",
      "        [  57],\n",
      "        [ 454],\n",
      "        [   7],\n",
      "        [  17],\n",
      "        [   4],\n",
      "        [5443],\n",
      "        [ 559],\n",
      "        [   1]])\n",
      "\n",
      "torch.Size([11, 1])\n",
      "torch.int64\n",
      "tensor([[2674],\n",
      "        [ 452],\n",
      "        [ 453],\n",
      "        [  57],\n",
      "        [ 454],\n",
      "        [   1]])\n",
      "\n",
      "torch.Size([6, 1])\n",
      "torch.int64\n"
     ]
    }
   ],
   "source": [
    "input_sen = tensorFromSentence(input_lang,example[0])\n",
    "output_sen = tensorFromSentence(output_lang, example[1])\n",
    "\n",
    "print(input_sen)\n",
    "print()\n",
    "print(input_sen.shape)\n",
    "print(input_sen.dtype)\n",
    "print(output_sen)\n",
    "print()\n",
    "print(output_sen.shape)\n",
    "print(output_sen.dtype)"
   ]
  },
  {
   "cell_type": "code",
   "execution_count": 21,
   "metadata": {},
   "outputs": [],
   "source": [
    "def tensorsFromPair(pair):\n",
    "    input_tensor = tensorFromSentence(input_lang, pair[0])\n",
    "    target_tensor = tensorFromSentence(output_lang, pair[1])\n",
    "    return (input_tensor, target_tensor)"
   ]
  },
  {
   "cell_type": "code",
   "execution_count": 22,
   "metadata": {},
   "outputs": [
    {
     "name": "stdout",
     "output_type": "stream",
     "text": [
      "input\n",
      "\n",
      "tensor([[2674],\n",
      "        [ 452],\n",
      "        [ 453],\n",
      "        [  57],\n",
      "        [ 454],\n",
      "        [   7],\n",
      "        [  17],\n",
      "        [   4],\n",
      "        [5443],\n",
      "        [ 559],\n",
      "        [   1]])\n",
      "\n",
      "torch.Size([11, 1])\n",
      "torch.int64\n",
      "\n",
      "output\n",
      "\n",
      "tensor([[2674],\n",
      "        [ 452],\n",
      "        [ 453],\n",
      "        [  57],\n",
      "        [ 454],\n",
      "        [   1]])\n",
      "\n",
      "torch.Size([6, 1])\n",
      "torch.int64\n"
     ]
    }
   ],
   "source": [
    "input_sen, output_sen = tensorsFromPair(example)\n",
    "\n",
    "\n",
    "print(\"input\\n\")\n",
    "print(input_sen)\n",
    "print()\n",
    "print(input_sen.shape)\n",
    "print(input_sen.dtype)\n",
    "\n",
    "print(\"\\noutput\\n\")\n",
    "print(output_sen)\n",
    "print()\n",
    "print(output_sen.shape)\n",
    "print(output_sen.dtype)"
   ]
  },
  {
   "cell_type": "code",
   "execution_count": 23,
   "metadata": {},
   "outputs": [],
   "source": [
    "class EncoderRNN(nn.Module):\n",
    "    def __init__(self, input_size, hidden_size):\n",
    "        super(EncoderRNN, self).__init__()\n",
    "        self.hidden_size = hidden_size\n",
    "        self.embedding = nn.Embedding(input_size, hidden_size)\n",
    "        self.gru = nn.GRU(hidden_size, hidden_size)\n",
    "\n",
    "    def forward(self, input, hidden):\n",
    "        embedded = self.embedding(input).view(1, 1, -1)\n",
    "        output = embedded\n",
    "        output, hidden = self.gru(output, hidden)\n",
    "        return output, hidden\n",
    "\n",
    "    def initHidden(self):\n",
    "        return torch.zeros(1, 1, self.hidden_size, device=device)"
   ]
  },
  {
   "cell_type": "code",
   "execution_count": 24,
   "metadata": {},
   "outputs": [],
   "source": [
    "hidden_size = 12\n",
    "eng_enc_v_size = input_lang.n_words\n",
    "eng_dec_v_size = output_lang.n_words"
   ]
  },
  {
   "cell_type": "code",
   "execution_count": 25,
   "metadata": {},
   "outputs": [
    {
     "name": "stdout",
     "output_type": "stream",
     "text": [
      "input_sen: torch.Size([11, 1]) torch.int64\n",
      "h0: torch.Size([1, 1, 12]) torch.float32\n"
     ]
    }
   ],
   "source": [
    "encoder = EncoderRNN(eng_enc_v_size, hidden_size)\n",
    "h0 = encoder.initHidden()\n",
    "print(\"input_sen:\", input_sen.shape, input_sen.dtype)\n",
    "print(\"h0:\", h0.shape, h0.dtype)"
   ]
  },
  {
   "cell_type": "code",
   "execution_count": 26,
   "metadata": {},
   "outputs": [
    {
     "name": "stdout",
     "output_type": "stream",
     "text": [
      "output: torch.Size([1, 1, 12]) torch.float32\n",
      "hidden_enc: torch.Size([1, 1, 12]) torch.float32\n"
     ]
    }
   ],
   "source": [
    "max_length = MAX_LENGTH\n",
    "encoder_outputs = torch.zeros(max_length,\n",
    "                              encoder.hidden_size,\n",
    "                              device=device)\n",
    "\n",
    "input_length = input_sen.size(0)\n",
    "\n",
    "for ei in range(input_length):\n",
    "    output, hidden_enc = encoder(input_sen[ei], h0)\n",
    "    h0 = hidden_enc\n",
    "    encoder_outputs[ei] = output[0, 0]\n",
    "\n",
    "print(\"output:\", output.shape, output.dtype)\n",
    "print(\"hidden_enc:\", hidden_enc.shape, hidden_enc.dtype)"
   ]
  },
  {
   "cell_type": "code",
   "execution_count": 27,
   "metadata": {},
   "outputs": [],
   "source": [
    "class AttnDecoderRNN(nn.Module):\n",
    "    def __init__(self, hidden_size, output_size, dropout_p=0.1, max_length=MAX_LENGTH):\n",
    "        super(AttnDecoderRNN, self).__init__()\n",
    "        self.hidden_size = hidden_size\n",
    "        self.output_size = output_size\n",
    "        self.dropout_p = dropout_p\n",
    "        self.max_length = max_length\n",
    "\n",
    "        self.embedding = nn.Embedding(self.output_size, self.hidden_size)\n",
    "        self.attn = nn.Linear(self.hidden_size * 2, self.max_length)\n",
    "        self.attn_combine = nn.Linear(self.hidden_size * 2, self.hidden_size)\n",
    "        self.dropout = nn.Dropout(self.dropout_p)\n",
    "        self.gru = nn.GRU(self.hidden_size, self.hidden_size)\n",
    "        self.out = nn.Linear(self.hidden_size, self.output_size)\n",
    "\n",
    "    def forward(self, input, hidden, encoder_outputs):\n",
    "        embedded = self.embedding(input).view(1, 1, -1)\n",
    "        embedded = self.dropout(embedded)\n",
    "\n",
    "        attn_weights = F.softmax(\n",
    "            self.attn(torch.cat((embedded[0], hidden[0]), 1)), dim=1)\n",
    "        attn_applied = torch.bmm(attn_weights.unsqueeze(0),\n",
    "                                 encoder_outputs.unsqueeze(0))\n",
    "        output = torch.cat((embedded[0], attn_applied[0]), 1)\n",
    "        output = self.attn_combine(output).unsqueeze(0)\n",
    "\n",
    "        output = F.relu(output)\n",
    "        output, hidden = self.gru(output, hidden)\n",
    "\n",
    "        output = F.log_softmax(self.out(output[0]), dim=1)\n",
    "        return output, hidden, attn_weights\n",
    "\n",
    "    def initHidden(self):\n",
    "        return torch.zeros(1, 1, self.hidden_size, device=device)"
   ]
  },
  {
   "cell_type": "code",
   "execution_count": 28,
   "metadata": {},
   "outputs": [
    {
     "name": "stdout",
     "output_type": "stream",
     "text": [
      "decoder_output: torch.Size([1, 10962]) torch.float32\n",
      "\n",
      "decoder_hidden: torch.Size([1, 1, 12]) torch.float32\n",
      "decoder_output: torch.Size([1, 10962]) torch.float32\n",
      "\n",
      "decoder_hidden: torch.Size([1, 1, 12]) torch.float32\n",
      "decoder_output: torch.Size([1, 10962]) torch.float32\n",
      "\n",
      "decoder_hidden: torch.Size([1, 1, 12]) torch.float32\n",
      "decoder_output: torch.Size([1, 10962]) torch.float32\n",
      "\n",
      "decoder_hidden: torch.Size([1, 1, 12]) torch.float32\n",
      "decoder_output: torch.Size([1, 10962]) torch.float32\n",
      "\n",
      "decoder_hidden: torch.Size([1, 1, 12]) torch.float32\n",
      "decoder_output: torch.Size([1, 10962]) torch.float32\n",
      "\n",
      "decoder_hidden: torch.Size([1, 1, 12]) torch.float32\n"
     ]
    }
   ],
   "source": [
    "decoder = AttnDecoderRNN(hidden_size, eng_dec_v_size)\n",
    "\n",
    "decoder_input = torch.tensor([[SOS_token]], device=device)\n",
    "\n",
    "decoder_hidden = hidden_enc\n",
    "\n",
    "target_length = output_sen.size(0)\n",
    "\n",
    "for di in range(target_length):\n",
    "    decoder_output, decoder_hidden, decoder_attention = decoder(decoder_input, decoder_hidden, encoder_outputs)\n",
    "    decoder_input = output_sen[di]  # Teacher forcing\n",
    "    print(\"decoder_output:\", decoder_output.shape, decoder_output.dtype)\n",
    "    print()\n",
    "    print(\"decoder_hidden:\", decoder_hidden.shape, decoder_hidden.dtype)    \n"
   ]
  },
  {
   "cell_type": "markdown",
   "metadata": {},
   "source": [
    "## Calculate loss over each token of the target language"
   ]
  },
  {
   "cell_type": "code",
   "execution_count": 29,
   "metadata": {},
   "outputs": [],
   "source": [
    "learning_rate = 0.2\n",
    "encoder_optimizer = torch.optim.SGD(encoder.parameters(), lr=learning_rate)\n",
    "decoder_optimizer = torch.optim.SGD(decoder.parameters(), lr=learning_rate)\n",
    "criterion = nn.NLLLoss()"
   ]
  },
  {
   "cell_type": "code",
   "execution_count": 30,
   "metadata": {},
   "outputs": [],
   "source": [
    "def train(input_tensor,\n",
    "          target_tensor,\n",
    "          encoder,\n",
    "          decoder,\n",
    "          encoder_optimizer,\n",
    "          decoder_optimizer,\n",
    "          criterion,\n",
    "          teacher_forcing_ratio=0.2,\n",
    "          max_length=MAX_LENGTH):\n",
    "    encoder_hidden = encoder.initHidden()\n",
    "\n",
    "    encoder_optimizer.zero_grad()\n",
    "    decoder_optimizer.zero_grad()\n",
    "\n",
    "    input_length = input_tensor.size(0)\n",
    "    target_length = target_tensor.size(0)\n",
    "\n",
    "    encoder_outputs = torch.zeros(max_length, encoder.hidden_size, device=device)\n",
    "\n",
    "    loss = 0\n",
    "\n",
    "    for ei in range(input_length):\n",
    "        encoder_output, encoder_hidden = encoder(\n",
    "            input_tensor[ei], encoder_hidden)\n",
    "        encoder_outputs[ei] = encoder_output[0, 0]\n",
    "\n",
    "    decoder_input = torch.tensor([[SOS_token]], device=device)\n",
    "\n",
    "    decoder_hidden = encoder_hidden\n",
    "\n",
    "    use_teacher_forcing = True if random.random() < teacher_forcing_ratio else False\n",
    "\n",
    "    if use_teacher_forcing:\n",
    "        # Teacher forcing: Feed the target as the next input\n",
    "        for di in range(target_length):\n",
    "            decoder_output, decoder_hidden, decoder_attention = decoder(\n",
    "                decoder_input, decoder_hidden, encoder_outputs)\n",
    "            loss += criterion(decoder_output, target_tensor[di])\n",
    "            decoder_input = target_tensor[di]  # Teacher forcing\n",
    "\n",
    "    else:\n",
    "        # Without teacher forcing: use its own predictions as the next input\n",
    "        for di in range(target_length):\n",
    "            decoder_output, decoder_hidden, decoder_attention = decoder(\n",
    "                decoder_input, decoder_hidden, encoder_outputs)\n",
    "            topv, topi = decoder_output.topk(1)\n",
    "            decoder_input = topi.squeeze().detach()  # detach from history as input\n",
    "\n",
    "            loss += criterion(decoder_output, target_tensor[di])\n",
    "            if decoder_input.item() == EOS_token:\n",
    "                break\n",
    "\n",
    "    loss.backward()\n",
    "\n",
    "    encoder_optimizer.step()\n",
    "    decoder_optimizer.step()\n",
    "\n",
    "    return loss.item() / target_length"
   ]
  },
  {
   "cell_type": "code",
   "execution_count": 31,
   "metadata": {},
   "outputs": [],
   "source": [
    "def get_loss(input_tensor,\n",
    "             target_tensor,\n",
    "             encoder,\n",
    "             decoder,\n",
    "             criterion,\n",
    "             max_length):\n",
    "\n",
    "    encoder_hidden = encoder.initHidden()\n",
    "    input_length = input_tensor.size(0)\n",
    "    target_length = target_tensor.size(0)\n",
    "    encoder_outputs = torch.zeros(max_length,\n",
    "                                  encoder.hidden_size,\n",
    "                                  device=device)\n",
    "    loss = 0\n",
    "\n",
    "    for ei in range(input_length):\n",
    "        encoder_output, encoder_hidden = encoder(\n",
    "            input_tensor[ei], encoder_hidden)\n",
    "        encoder_outputs[ei] = encoder_output[0, 0]\n",
    "\n",
    "    decoder_input = torch.tensor([[SOS_token]], device=device)\n",
    "\n",
    "    decoder_hidden = encoder_hidden\n",
    "    \n",
    "    for di in range(target_length):\n",
    "        decoder_output, decoder_hidden, decoder_attention = decoder(\n",
    "            decoder_input, decoder_hidden, encoder_outputs)\n",
    "        _, topone = decoder_output.topk(1)\n",
    "        decoder_input = topone.squeeze().detach()  # detach from history as input\n",
    "\n",
    "        loss += criterion(decoder_output, target_tensor[di])\n",
    "        if decoder_input.item() == EOS_token:\n",
    "            break\n",
    "    return loss.item() / target_length"
   ]
  },
  {
   "cell_type": "markdown",
   "metadata": {},
   "source": [
    "Test get loss"
   ]
  },
  {
   "cell_type": "code",
   "execution_count": 32,
   "metadata": {},
   "outputs": [
    {
     "name": "stdout",
     "output_type": "stream",
     "text": [
      "mean loss 9.331914864415973\n"
     ]
    }
   ],
   "source": [
    "valid_pairs = [tensorsFromPair(pair) for pair in valid_pairs_A]\n",
    "valid_loss = []\n",
    "for t in valid_pairs:\n",
    "    input_sen, output_sen = t\n",
    "    loss = get_loss(input_sen,\n",
    "                    output_sen,\n",
    "                    encoder,\n",
    "                    decoder,\n",
    "                    criterion,\n",
    "                    MAX_LENGTH)\n",
    "    valid_loss.append(loss)\n",
    "print(\"mean loss\", np.mean(valid_loss))"
   ]
  },
  {
   "cell_type": "code",
   "execution_count": 33,
   "metadata": {},
   "outputs": [],
   "source": [
    "import time\n",
    "import math\n",
    "\n",
    "\n",
    "def asMinutes(s):\n",
    "    m = math.floor(s / 60)\n",
    "    s -= m * 60\n",
    "    return '%dm %ds' % (m, s)\n",
    "\n",
    "\n",
    "def timeSince(since):\n",
    "    now = time.time()\n",
    "    s = now - since\n",
    "    return '%s' % asMinutes(s)"
   ]
  },
  {
   "cell_type": "markdown",
   "metadata": {},
   "source": [
    "Test train"
   ]
  },
  {
   "cell_type": "code",
   "execution_count": 34,
   "metadata": {},
   "outputs": [
    {
     "name": "stdout",
     "output_type": "stream",
     "text": [
      "0m 13s\n"
     ]
    },
    {
     "data": {
      "image/png": "[encoded data removed]",
      "text/plain": [
       "<Figure size 720x216 with 1 Axes>"
      ]
     },
     "metadata": {},
     "output_type": "display_data"
    }
   ],
   "source": [
    "n_iters = 1000\n",
    "training_pairs_little = [tensorsFromPair(random.choice(training_pairs_A)) for i in range(n_iters)]\n",
    "\n",
    "losses = []\n",
    "start = time.time()\n",
    "\n",
    "for t in training_pairs_little:\n",
    "    input_sen, output_sen = t    \n",
    "    loss = train(input_sen,\n",
    "                 output_sen,\n",
    "                 encoder,\n",
    "                 decoder,\n",
    "                 encoder_optimizer,\n",
    "                 decoder_optimizer,\n",
    "                 criterion,\n",
    "                 max_length=MAX_LENGTH)\n",
    "    losses.append(loss)\n",
    "\n",
    "print(timeSince(start))\n",
    "\n",
    "simple_step_plot([losses],\n",
    "                 \"loss\",\n",
    "                 \"loss example ({} pair of sentences only)\".format(n_iters),\n",
    "                 \"loss_example.png\",\n",
    "                  figsize=(10,3))"
   ]
  },
  {
   "cell_type": "code",
   "execution_count": 35,
   "metadata": {},
   "outputs": [],
   "source": [
    "def trainIters(encoder,\n",
    "               decoder,\n",
    "               n_iters,\n",
    "               pairs,\n",
    "               valid_pairs,\n",
    "               encoder_path,\n",
    "               decoder_path,\n",
    "               batch_size=32,\n",
    "               status_every=100,\n",
    "               learning_rate=0.01,\n",
    "               teacher_forcing_ratio=0.5):\n",
    "\n",
    "    plot_losses = []\n",
    "    old = 0\n",
    "    start = time.time()\n",
    "    all_loss = []\n",
    "    valid_loss = float(\"inf\")\n",
    "    \n",
    "    \n",
    "\n",
    "    encoder_optimizer = torch.optim.SGD(encoder.parameters(), lr=learning_rate)\n",
    "    decoder_optimizer = torch.optim.SGD(decoder.parameters(), lr=learning_rate)\n",
    "    criterion = nn.NLLLoss()\n",
    "    training_pairs = [tensorsFromPair(random.choice(pairs))\n",
    "                      for i in range(n_iters)]\n",
    "\n",
    "    for i, t in enumerate(training_pairs):\n",
    "        input_sen, output_sen = t\n",
    "        loss = train(input_sen,\n",
    "                     output_sen,\n",
    "                     encoder,\n",
    "                     decoder,\n",
    "                     encoder_optimizer,\n",
    "                     decoder_optimizer,\n",
    "                     criterion,\n",
    "                     max_length=MAX_LENGTH,\n",
    "                     teacher_forcing_ratio=teacher_forcing_ratio)\n",
    "        plot_losses.append(loss)\n",
    "\n",
    "        if i % status_every == 0 and i != 0:\n",
    "            valid_batch = [tensorsFromPair(random.choice(valid_pairs))\n",
    "                           for i in range(batch_size)]\n",
    "            batch_loss = 0\n",
    "            for t in valid_batch:\n",
    "                input_sen, output_sen = t\n",
    "                batch_loss += get_loss(input_sen,\n",
    "                                       output_sen,\n",
    "                                       encoder,\n",
    "                                       decoder,\n",
    "                                       criterion,\n",
    "                                       MAX_LENGTH)\n",
    "            current_valid_loss = batch_loss / batch_size\n",
    "            \n",
    "            if current_valid_loss < valid_loss:\n",
    "                valid_loss = current_valid_loss\n",
    "                torch.save(encoder.state_dict(), encoder_path)\n",
    "                torch.save(decoder.state_dict(), decoder_path)\n",
    "            print(\"mean training loss = {:.2f}\".format(np.mean(plot_losses)))\n",
    "            print(\"mean valid loss = {:.2f}\".format(current_valid_loss))\n",
    "            print(\"time in {} steps:\".format(status_every), timeSince(start))\n",
    "            print()\n",
    "            all_loss += plot_losses\n",
    "            plot_losses = []\n",
    "            old = i\n",
    "            start = time.time()\n",
    "    \n",
    "    simple_step_plot([all_loss],\n",
    "                     \"loss\",\n",
    "                     \"loss over training\" ,\n",
    "                     \"loss_example.png\",\n",
    "                     figsize=(15, 3))\n"
   ]
  },
  {
   "cell_type": "markdown",
   "metadata": {},
   "source": [
    "## translating"
   ]
  },
  {
   "cell_type": "code",
   "execution_count": 36,
   "metadata": {},
   "outputs": [],
   "source": [
    "def translate(encoder,\n",
    "              decoder,\n",
    "              sentence,\n",
    "              max_length=MAX_LENGTH):\n",
    "    with torch.no_grad():\n",
    "        input_tensor = tensorFromSentence(input_lang, sentence)\n",
    "        input_length = input_tensor.size()[0]\n",
    "        encoder_hidden = encoder.initHidden()\n",
    "\n",
    "        encoder_outputs = torch.zeros(\n",
    "            max_length, encoder.hidden_size, device=device)\n",
    "\n",
    "        for ei in range(input_length):\n",
    "            encoder_output, encoder_hidden = encoder(input_tensor[ei],\n",
    "                                                     encoder_hidden)\n",
    "            encoder_outputs[ei] += encoder_output[0, 0]\n",
    "\n",
    "        decoder_input = torch.tensor([[SOS_token]], device=device)  # SOS\n",
    "\n",
    "        decoder_hidden = encoder_hidden\n",
    "\n",
    "        decoded_words = []\n",
    "\n",
    "        for di in range(max_length):\n",
    "            decoder_output, decoder_hidden, decoder_attention = decoder(decoder_input, decoder_hidden, encoder_outputs)\n",
    "            _, topone = decoder_output.data.topk(1)\n",
    "            if topone.item() == EOS_token:\n",
    "                decoded_words.append('<EOS>')\n",
    "                break\n",
    "            else:\n",
    "                decoded_words.append(output_lang.index2word[topone.item()])\n",
    "\n",
    "            decoder_input = topone.squeeze().detach()\n",
    "\n",
    "        return \" \".join(decoded_words)"
   ]
  },
  {
   "cell_type": "markdown",
   "metadata": {},
   "source": [
    "## translation of a non trained model"
   ]
  },
  {
   "cell_type": "code",
   "execution_count": 37,
   "metadata": {},
   "outputs": [],
   "source": [
    "encoder = EncoderRNN(eng_enc_v_size, hidden_size)\n",
    "decoder = AttnDecoderRNN(hidden_size, eng_dec_v_size)\n",
    "\n",
    "np.random.shuffle(training_pairs_A)"
   ]
  },
  {
   "cell_type": "code",
   "execution_count": 38,
   "metadata": {},
   "outputs": [
    {
     "name": "stdout",
     "output_type": "stream",
     "text": [
      "input_sentence : craig let this happen and hung up on me\n",
      "neural translation : usgrace usgrace hobbylauren matchaaron crowddaisy raymondelsie meganjerome raymondelsie meganjerome raymondelsie treevirgil treevirgil treevirgil treevirgil treevirgil treevirgil treevirgil treevirgil treevirgil treevirgil treevirgil treevirgil treevirgil treevirgil treevirgil treevirgil treevirgil\n",
      "reference translation : craig let this happen <EOS>\n",
      "blue score = 0.00\n",
      "\n",
      "input_sentence : judy spoke to her about kenneth and drove the truck to charlie s house\n",
      "neural translation : housereginald noteleo hobbylauren lyingterry lyingterry lyingterry himdavid gamecarrie crowddaisy gamecarrie yvette crowddaisy yvette yvette yvette yvette mevanessa meganjerome meganjerome lyingterry himdavid raymondelsie yvette yvette yvette mevanessa meganjerome\n",
      "reference translation : judy spoke to her about kenneth <EOS>\n",
      "blue score = 0.00\n",
      "\n",
      "input_sentence : geraldine met him and swam out toward the purple boat\n",
      "neural translation : smileisaac outsideralfred outsideralfred outsideralfred outsideralfred himdavid raymondelsie yvette yvette yvette yvette mevanessa meganjerome meganjerome meganjerome himdavid raymondelsie yvette yvette meganjerome meganjerome meganjerome meganjerome meganjerome meganjerome meganjerome meganjerome\n",
      "reference translation : geraldine met him <EOS>\n",
      "blue score = 0.00\n",
      "\n"
     ]
    }
   ],
   "source": [
    "for t in training_pairs_A[0:3]:\n",
    "    print(\"input_sentence : \" + t[0])\n",
    "    neural_translation = translate(encoder,\n",
    "                                   decoder,\n",
    "                                   t[0],\n",
    "                                   max_length=MAX_LENGTH)\n",
    "    print(\"neural translation : \" + neural_translation)\n",
    "    reference = t[1] + ' <EOS>'\n",
    "    print(\"reference translation : \" + reference)\n",
    "    reference = reference.split(\" \")\n",
    "    candidate = neural_translation.split(\" \")\n",
    "    score = sentence_bleu([reference], candidate)\n",
    "    print(\"blue score = {:.2f}\".format(score))\n",
    "    print()\n"
   ]
  },
  {
   "cell_type": "markdown",
   "metadata": {},
   "source": [
    "## Training some models and observing its translation"
   ]
  },
  {
   "cell_type": "code",
   "execution_count": 39,
   "metadata": {},
   "outputs": [],
   "source": [
    "def save_translation(pairs, encoder, decoder, max_length, out_path):\n",
    "    with open(out_path, \"w\") as file:\n",
    "        file.write(\"source,candidate,reference,blue,accuracy\\n\")        \n",
    "        for tuple_ in pairs:\n",
    "            source, reference = tuple_\n",
    "            candidate = translate(encoder,\n",
    "                                  decoder,\n",
    "                                  source,\n",
    "                                  max_length=max_length)\n",
    "            reference =  reference + ' <EOS>'\n",
    "            blue = sentence_bleu([reference.split(\" \")], candidate.split(\" \"))\n",
    "            if blue >= 0.95:\n",
    "                acc = 1\n",
    "            else:\n",
    "                acc = 0\n",
    "            line = source + \",\"\n",
    "            line += candidate + \",\"\n",
    "            line += reference + \",\"\n",
    "            line += \"{:.3f},\".format(blue)\n",
    "            line += \"{}\\n\".format(acc)\n",
    "            file.write(line)"
   ]
  },
  {
   "cell_type": "markdown",
   "metadata": {},
   "source": [
    "Test save_translation"
   ]
  },
  {
   "cell_type": "markdown",
   "metadata": {},
   "source": [
    "### Training 1"
   ]
  },
  {
   "cell_type": "code",
   "execution_count": 40,
   "metadata": {},
   "outputs": [
    {
     "name": "stdout",
     "output_type": "stream",
     "text": [
      "mean training loss = 5.37\n",
      "mean valid loss = 5.12\n",
      "time in 1000 steps: 2m 58s\n",
      "\n",
      "mean training loss = 4.60\n",
      "mean valid loss = 4.31\n",
      "time in 1000 steps: 3m 7s\n",
      "\n",
      "mean training loss = 3.73\n",
      "mean valid loss = 3.35\n",
      "time in 1000 steps: 3m 5s\n",
      "\n",
      "mean training loss = 3.02\n",
      "mean valid loss = 2.77\n",
      "time in 1000 steps: 3m 0s\n",
      "\n",
      "mean training loss = 2.51\n",
      "mean valid loss = 2.49\n",
      "time in 1000 steps: 2m 54s\n",
      "\n",
      "mean training loss = 2.17\n",
      "mean valid loss = 2.19\n",
      "time in 1000 steps: 2m 53s\n",
      "\n",
      "mean training loss = 1.93\n",
      "mean valid loss = 1.92\n",
      "time in 1000 steps: 3m 1s\n",
      "\n",
      "mean training loss = 1.82\n",
      "mean valid loss = 1.74\n",
      "time in 1000 steps: 2m 54s\n",
      "\n",
      "mean training loss = 1.75\n",
      "mean valid loss = 1.51\n",
      "time in 1000 steps: 2m 55s\n",
      "\n",
      "mean training loss = 1.62\n",
      "mean valid loss = 1.72\n",
      "time in 1000 steps: 3m 1s\n",
      "\n",
      "mean training loss = 1.61\n",
      "mean valid loss = 1.75\n",
      "time in 1000 steps: 3m 10s\n",
      "\n",
      "mean training loss = 1.51\n",
      "mean valid loss = 1.64\n",
      "time in 1000 steps: 2m 47s\n",
      "\n",
      "mean training loss = 1.48\n",
      "mean valid loss = 1.70\n",
      "time in 1000 steps: 2m 49s\n",
      "\n",
      "mean training loss = 1.47\n",
      "mean valid loss = 1.54\n",
      "time in 1000 steps: 2m 55s\n",
      "\n"
     ]
    },
    {
     "data": {
      "image/png": "[encoded data removed]",
      "text/plain": [
       "<Figure size 1080x216 with 1 Axes>"
      ]
     },
     "metadata": {},
     "output_type": "display_data"
    }
   ],
   "source": [
    "hidden_size = 256\n",
    "encoder1 = EncoderRNN(input_lang.n_words, hidden_size).to(device)\n",
    "attn_decoder1 = AttnDecoderRNN(hidden_size, output_lang.n_words, dropout_p=0.1).to(device)\n",
    "\n",
    "trainIters(encoder=encoder1,\n",
    "           decoder=attn_decoder1,\n",
    "           n_iters=15000,\n",
    "           status_every=1000,\n",
    "           pairs=training_pairs_A,\n",
    "           valid_pairs=valid_pairs_A,\n",
    "           encoder_path=\"b4_encoder1_att.pkl\",\n",
    "           decoder_path=\"b4_decoder1_att.pkl\")"
   ]
  },
  {
   "cell_type": "code",
   "execution_count": 41,
   "metadata": {},
   "outputs": [
    {
     "name": "stdout",
     "output_type": "stream",
     "text": [
      "mean training loss = 5.25\n",
      "mean valid loss = 4.32\n",
      "time in 1000 steps: 2m 21s\n",
      "\n",
      "mean training loss = 4.51\n",
      "mean valid loss = 4.32\n",
      "time in 1000 steps: 2m 28s\n",
      "\n",
      "mean training loss = 3.72\n",
      "mean valid loss = 3.48\n",
      "time in 1000 steps: 2m 35s\n",
      "\n",
      "mean training loss = 2.88\n",
      "mean valid loss = 2.94\n",
      "time in 1000 steps: 2m 43s\n",
      "\n",
      "mean training loss = 2.37\n",
      "mean valid loss = 2.35\n",
      "time in 1000 steps: 2m 37s\n",
      "\n",
      "mean training loss = 1.96\n",
      "mean valid loss = 2.00\n",
      "time in 1000 steps: 2m 39s\n",
      "\n",
      "mean training loss = 1.80\n",
      "mean valid loss = 2.10\n",
      "time in 1000 steps: 2m 38s\n",
      "\n",
      "mean training loss = 1.67\n",
      "mean valid loss = 1.76\n",
      "time in 1000 steps: 2m 37s\n",
      "\n",
      "mean training loss = 1.59\n",
      "mean valid loss = 1.61\n",
      "time in 1000 steps: 2m 36s\n",
      "\n",
      "mean training loss = 1.55\n",
      "mean valid loss = 1.73\n",
      "time in 1000 steps: 2m 37s\n",
      "\n",
      "mean training loss = 1.50\n",
      "mean valid loss = 1.70\n",
      "time in 1000 steps: 2m 36s\n",
      "\n",
      "mean training loss = 1.48\n",
      "mean valid loss = 1.62\n",
      "time in 1000 steps: 2m 37s\n",
      "\n",
      "mean training loss = 1.45\n",
      "mean valid loss = 1.63\n",
      "time in 1000 steps: 2m 38s\n",
      "\n",
      "mean training loss = 1.41\n",
      "mean valid loss = 1.61\n",
      "time in 1000 steps: 2m 36s\n",
      "\n"
     ]
    },
    {
     "data": {
      "image/png": "[encoded data removed]",
      "text/plain": [
       "<Figure size 1080x216 with 1 Axes>"
      ]
     },
     "metadata": {},
     "output_type": "display_data"
    }
   ],
   "source": [
    "hidden_size = 256\n",
    "encoder2 = EncoderRNN(input_lang.n_words, hidden_size).to(device)\n",
    "attn_decoder2 = AttnDecoderRNN(hidden_size, output_lang.n_words, dropout_p=0.13).to(device)\n",
    "\n",
    "trainIters(encoder=encoder2,\n",
    "           decoder=attn_decoder2,\n",
    "           n_iters=15000,\n",
    "           status_every=1000,\n",
    "           pairs=training_pairs_B,\n",
    "           valid_pairs=valid_pairs_B,\n",
    "           encoder_path=\"b4_encoder2_att.pkl\",\n",
    "           decoder_path=\"b4_decoder2_att.pkl\")"
   ]
  },
  {
   "cell_type": "markdown",
   "metadata": {},
   "source": [
    "## Evaluation functions"
   ]
  },
  {
   "cell_type": "code",
   "execution_count": 42,
   "metadata": {},
   "outputs": [
    {
     "name": "stderr",
     "output_type": "stream",
     "text": [
      "/usr/local/lib/python3.5/dist-packages/nltk/translate/bleu_score.py:490: UserWarning: \n",
      "Corpus/Sentence contains 0 counts of 4-gram overlaps.\n",
      "BLEU scores might be undesirable; use SmoothingFunction().\n",
      "  warnings.warn(_msg)\n",
      "/usr/local/lib/python3.5/dist-packages/nltk/translate/bleu_score.py:490: UserWarning: \n",
      "Corpus/Sentence contains 0 counts of 3-gram overlaps.\n",
      "BLEU scores might be undesirable; use SmoothingFunction().\n",
      "  warnings.warn(_msg)\n",
      "/usr/local/lib/python3.5/dist-packages/nltk/translate/bleu_score.py:490: UserWarning: \n",
      "Corpus/Sentence contains 0 counts of 2-gram overlaps.\n",
      "BLEU scores might be undesirable; use SmoothingFunction().\n",
      "  warnings.warn(_msg)\n"
     ]
    },
    {
     "name": "stdout",
     "output_type": "stream",
     "text": [
      "mean blue score over training data = 0.678\n",
      "mean acc over training data = 0.011\n"
     ]
    }
   ],
   "source": [
    "save_translation(training_pairs_A,\n",
    "                 encoder1,\n",
    "                 attn_decoder1,\n",
    "                 MAX_LENGTH,\n",
    "                 \"b4_training1_att.csv\")\n",
    "\n",
    "df_results = pd.read_csv(\"b4_training1_att.csv\")\n",
    "acc = np.mean(df_results.accuracy.values)\n",
    "blue = np.mean(df_results.blue.values)\n",
    "print(\"mean blue score over training data = {:.3f}\".format(blue))\n",
    "print(\"mean acc over training data = {:.3f}\".format(acc))"
   ]
  },
  {
   "cell_type": "code",
   "execution_count": 43,
   "metadata": {},
   "outputs": [
    {
     "name": "stderr",
     "output_type": "stream",
     "text": [
      "/usr/local/lib/python3.5/dist-packages/nltk/translate/bleu_score.py:490: UserWarning: \n",
      "Corpus/Sentence contains 0 counts of 3-gram overlaps.\n",
      "BLEU scores might be undesirable; use SmoothingFunction().\n",
      "  warnings.warn(_msg)\n",
      "/usr/local/lib/python3.5/dist-packages/nltk/translate/bleu_score.py:490: UserWarning: \n",
      "Corpus/Sentence contains 0 counts of 4-gram overlaps.\n",
      "BLEU scores might be undesirable; use SmoothingFunction().\n",
      "  warnings.warn(_msg)\n",
      "/usr/local/lib/python3.5/dist-packages/nltk/translate/bleu_score.py:490: UserWarning: \n",
      "Corpus/Sentence contains 0 counts of 2-gram overlaps.\n",
      "BLEU scores might be undesirable; use SmoothingFunction().\n",
      "  warnings.warn(_msg)\n"
     ]
    },
    {
     "name": "stdout",
     "output_type": "stream",
     "text": [
      "mean blue score over valid data = 0.674\n",
      "mean acc over valid data = 0.002\n"
     ]
    }
   ],
   "source": [
    "save_translation(valid_pairs_A,\n",
    "                 encoder1,\n",
    "                 attn_decoder1,\n",
    "                 MAX_LENGTH,\n",
    "                 \"b4_valid1_att.csv\")\n",
    "\n",
    "df_results = pd.read_csv(\"b4_valid1_att.csv\")\n",
    "acc = np.mean(df_results.accuracy.values)\n",
    "blue = np.mean(df_results.blue.values)\n",
    "print(\"mean blue score over valid data = {:.3f}\".format(blue))\n",
    "print(\"mean acc over valid data = {:.3f}\".format(acc))"
   ]
  },
  {
   "cell_type": "code",
   "execution_count": 44,
   "metadata": {},
   "outputs": [
    {
     "name": "stderr",
     "output_type": "stream",
     "text": [
      "/usr/local/lib/python3.5/dist-packages/nltk/translate/bleu_score.py:490: UserWarning: \n",
      "Corpus/Sentence contains 0 counts of 4-gram overlaps.\n",
      "BLEU scores might be undesirable; use SmoothingFunction().\n",
      "  warnings.warn(_msg)\n",
      "/usr/local/lib/python3.5/dist-packages/nltk/translate/bleu_score.py:490: UserWarning: \n",
      "Corpus/Sentence contains 0 counts of 2-gram overlaps.\n",
      "BLEU scores might be undesirable; use SmoothingFunction().\n",
      "  warnings.warn(_msg)\n",
      "/usr/local/lib/python3.5/dist-packages/nltk/translate/bleu_score.py:490: UserWarning: \n",
      "Corpus/Sentence contains 0 counts of 3-gram overlaps.\n",
      "BLEU scores might be undesirable; use SmoothingFunction().\n",
      "  warnings.warn(_msg)\n"
     ]
    },
    {
     "name": "stdout",
     "output_type": "stream",
     "text": [
      "mean blue score over training data = 0.690\n",
      "mean acc over training data = 0.018\n"
     ]
    }
   ],
   "source": [
    "save_translation(training_pairs_B,\n",
    "                 encoder2,\n",
    "                 attn_decoder2,\n",
    "                 MAX_LENGTH,\n",
    "                 \"b4_training2_att.csv\")\n",
    "\n",
    "df_results = pd.read_csv(\"b4_training2_att.csv\")\n",
    "acc = np.mean(df_results.accuracy.values)\n",
    "blue = np.mean(df_results.blue.values)\n",
    "print(\"mean blue score over training data = {:.3f}\".format(blue))\n",
    "print(\"mean acc over training data = {:.3f}\".format(acc))"
   ]
  },
  {
   "cell_type": "code",
   "execution_count": 45,
   "metadata": {},
   "outputs": [
    {
     "name": "stderr",
     "output_type": "stream",
     "text": [
      "/usr/local/lib/python3.5/dist-packages/nltk/translate/bleu_score.py:490: UserWarning: \n",
      "Corpus/Sentence contains 0 counts of 3-gram overlaps.\n",
      "BLEU scores might be undesirable; use SmoothingFunction().\n",
      "  warnings.warn(_msg)\n",
      "/usr/local/lib/python3.5/dist-packages/nltk/translate/bleu_score.py:490: UserWarning: \n",
      "Corpus/Sentence contains 0 counts of 4-gram overlaps.\n",
      "BLEU scores might be undesirable; use SmoothingFunction().\n",
      "  warnings.warn(_msg)\n",
      "/usr/local/lib/python3.5/dist-packages/nltk/translate/bleu_score.py:490: UserWarning: \n",
      "Corpus/Sentence contains 0 counts of 2-gram overlaps.\n",
      "BLEU scores might be undesirable; use SmoothingFunction().\n",
      "  warnings.warn(_msg)\n"
     ]
    },
    {
     "name": "stdout",
     "output_type": "stream",
     "text": [
      "mean blue score over valid data = 0.682\n",
      "mean acc over valid data = 0.002\n"
     ]
    }
   ],
   "source": [
    "save_translation(valid_pairs_B,\n",
    "                 encoder2,\n",
    "                 attn_decoder2,\n",
    "                 MAX_LENGTH,\n",
    "                 \"b4_valid2_att.csv\")\n",
    "\n",
    "df_results = pd.read_csv(\"b4_valid2_att.csv\")\n",
    "acc = np.mean(df_results.accuracy.values)\n",
    "blue = np.mean(df_results.blue.values)\n",
    "print(\"mean blue score over valid data = {:.3f}\".format(blue))\n",
    "print(\"mean acc over valid data = {:.3f}\".format(acc))"
   ]
  },
  {
   "cell_type": "code",
   "execution_count": 46,
   "metadata": {},
   "outputs": [],
   "source": [
    "def evaluate(encoder, decoder, sentence, max_length=MAX_LENGTH):\n",
    "    with torch.no_grad():\n",
    "        input_tensor = tensorFromSentence(input_lang, sentence)\n",
    "        input_length = input_tensor.size()[0]\n",
    "        encoder_hidden = encoder.initHidden()\n",
    "\n",
    "        encoder_outputs = torch.zeros(max_length, encoder.hidden_size, device=device)\n",
    "\n",
    "        for ei in range(input_length):\n",
    "            encoder_output, encoder_hidden = encoder(input_tensor[ei],\n",
    "                                                     encoder_hidden)\n",
    "            encoder_outputs[ei] += encoder_output[0, 0]\n",
    "\n",
    "        decoder_input = torch.tensor([[SOS_token]], device=device)  # SOS\n",
    "\n",
    "        decoder_hidden = encoder_hidden\n",
    "\n",
    "        decoded_words = []\n",
    "        decoder_attentions = torch.zeros(max_length, max_length)\n",
    "\n",
    "        for di in range(max_length):\n",
    "            decoder_output, decoder_hidden, decoder_attention = decoder(\n",
    "                decoder_input, decoder_hidden, encoder_outputs)\n",
    "            decoder_attentions[di] = decoder_attention.data\n",
    "            topv, topi = decoder_output.data.topk(1)\n",
    "            if topi.item() == EOS_token:\n",
    "                decoded_words.append('<EOS>')\n",
    "                break\n",
    "            else:\n",
    "                decoded_words.append(output_lang.index2word[topi.item()])\n",
    "\n",
    "            decoder_input = topi.squeeze().detach()\n",
    "\n",
    "        return decoded_words, decoder_attentions[:di + 1]"
   ]
  },
  {
   "cell_type": "code",
   "execution_count": 47,
   "metadata": {},
   "outputs": [],
   "source": [
    "output_words, attentions = evaluate(encoder1,\n",
    "                                    attn_decoder1,\n",
    "                                    \"julio paid him and fell off\")"
   ]
  },
  {
   "cell_type": "code",
   "execution_count": 48,
   "metadata": {},
   "outputs": [
    {
     "data": {
      "text/plain": [
       "<matplotlib.image.AxesImage at 0x7f29977dfc88>"
      ]
     },
     "execution_count": 48,
     "metadata": {},
     "output_type": "execute_result"
    },
    {
     "data": {
      "image/png": "[encoded data removed]",
      "text/plain": [
       "<Figure size 1152x170.667 with 1 Axes>"
      ]
     },
     "metadata": {},
     "output_type": "display_data"
    }
   ],
   "source": [
    "plt.matshow(attentions.numpy())"
   ]
  },
  {
   "cell_type": "code",
   "execution_count": 49,
   "metadata": {},
   "outputs": [],
   "source": [
    "def showAttention(input_sentence, output_words, attentions):\n",
    "    # Set up figure with colorbar\n",
    "    fig = plt.figure()\n",
    "    ax = fig.add_subplot(111)\n",
    "    cax = ax.matshow(attentions.numpy(), cmap='bone')\n",
    "    fig.colorbar(cax)\n",
    "\n",
    "    # Set up axes\n",
    "    ax.set_xticklabels([''] + input_sentence.split(' ') +\n",
    "                       ['<EOS>'], rotation=90)\n",
    "    ax.set_yticklabels([''] + output_words)\n",
    "\n",
    "    # Show label at every tick\n",
    "    ax.xaxis.set_major_locator(ticker.MultipleLocator(1))\n",
    "    ax.yaxis.set_major_locator(ticker.MultipleLocator(1))\n",
    "\n",
    "    plt.show()\n",
    "\n",
    "\n",
    "def evaluateAndShowAttention(input_sentence):\n",
    "    output_words, attentions = evaluate(\n",
    "        encoder1, attn_decoder1, input_sentence)\n",
    "    print('input =', input_sentence)\n",
    "    print('output =', ' '.join(output_words))\n",
    "    showAttention(input_sentence, output_words, attentions)\n"
   ]
  },
  {
   "cell_type": "code",
   "execution_count": 50,
   "metadata": {},
   "outputs": [
    {
     "name": "stdout",
     "output_type": "stream",
     "text": [
      "input = julio paid him and fell off\n",
      "output = violet paid him <EOS>\n"
     ]
    },
    {
     "data": {
      "image/png": "[encoded data removed]",
      "text/plain": [
       "<Figure size 432x288 with 2 Axes>"
      ]
     },
     "metadata": {},
     "output_type": "display_data"
    }
   ],
   "source": [
    "evaluateAndShowAttention(\"julio paid him and fell off\")"
   ]
  },
  {
   "cell_type": "code",
   "execution_count": null,
   "metadata": {},
   "outputs": [],
   "source": []
  }
 ],
 "metadata": {
  "kernelspec": {
   "display_name": "Python 3",
   "language": "python",
   "name": "python3"
  },
  "language_info": {
   "codemirror_mode": {
    "name": "ipython",
    "version": 3
   },
   "file_extension": ".py",
   "mimetype": "text/x-python",
   "name": "python",
   "nbconvert_exporter": "python",
   "pygments_lexer": "ipython3",
   "version": "3.5.2"
  }
 },
 "nbformat": 4,
 "nbformat_minor": 2
}
